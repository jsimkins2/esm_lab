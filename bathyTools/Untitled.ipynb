{
 "cells": [
  {
   "cell_type": "code",
   "execution_count": 4,
   "id": "febf43ec-1678-4a61-aaa8-59838f5d23cd",
   "metadata": {},
   "outputs": [],
   "source": [
    "import whitebox as wht"
   ]
  },
  {
   "cell_type": "code",
   "execution_count": 5,
   "id": "1c98d4b3-fdc1-4235-a1ca-0063cdee603a",
   "metadata": {},
   "outputs": [
    {
     "ename": "AttributeError",
     "evalue": "module 'whitebox' has no attribute 'multiscale_roughness'",
     "output_type": "error",
     "traceback": [
      "\u001b[0;31m---------------------------------------------------------------------------\u001b[0m",
      "\u001b[0;31mAttributeError\u001b[0m                            Traceback (most recent call last)",
      "\u001b[0;32m<ipython-input-5-65097fc8ab14>\u001b[0m in \u001b[0;36m<module>\u001b[0;34m\u001b[0m\n\u001b[1;32m      4\u001b[0m \u001b[0;34m\u001b[0m\u001b[0m\n\u001b[1;32m      5\u001b[0m \u001b[0;34m\u001b[0m\u001b[0m\n\u001b[0;32m----> 6\u001b[0;31m \u001b[0mwht\u001b[0m\u001b[0;34m.\u001b[0m\u001b[0mmultiscale_roughness\u001b[0m\u001b[0;34m(\u001b[0m\u001b[0mgebco\u001b[0m\u001b[0;34m)\u001b[0m\u001b[0;34m\u001b[0m\u001b[0;34m\u001b[0m\u001b[0m\n\u001b[0m",
      "\u001b[0;31mAttributeError\u001b[0m: module 'whitebox' has no attribute 'multiscale_roughness'"
     ]
    }
   ],
   "source": [
    "import xarray as xr\n",
    "\n",
    "gebco = xr.open_dataset(\"/Users/james/Downloads/gebco_2020_netcdf/GEBCO_2020.nc\").sel(lat=slice(15, 16), lon=slice(-75, -74))\n",
    "\n",
    "\n",
    "wht.multiscale_roughness(gebco)"
   ]
  },
  {
   "cell_type": "code",
   "execution_count": null,
   "id": "bb03389a-c1f9-4fad-a0cc-5b0e33300b07",
   "metadata": {},
   "outputs": [],
   "source": []
  }
 ],
 "metadata": {
  "kernelspec": {
   "display_name": "Python 3",
   "language": "python",
   "name": "python3"
  },
  "language_info": {
   "codemirror_mode": {
    "name": "ipython",
    "version": 3
   },
   "file_extension": ".py",
   "mimetype": "text/x-python",
   "name": "python",
   "nbconvert_exporter": "python",
   "pygments_lexer": "ipython3",
   "version": "3.9.4"
  }
 },
 "nbformat": 4,
 "nbformat_minor": 5
}
