{
 "cells": [
  {
   "cell_type": "markdown",
   "id": "convertible-mississippi",
   "metadata": {},
   "source": [
    "# Bathymetry For MOM6 Example"
   ]
  },
  {
   "cell_type": "markdown",
   "id": "emotional-combination",
   "metadata": {},
   "source": [
    "In this example, I test a concept that involves replicating the NEP7 MOM6 bathymetry grid file. We will take the bathymetry file, match it with an existing grid file spawned from the grid generation tool, and output a new bathymetric file. Note that the bathy topography is half the resolution of the hgrid. Per Kate Hedstrom - The ocean_hgrid file is the supergrid while the model splits that up into the u-point, v-point, h-point and q-point grids. You only need h on the h-points."
   ]
  },
  {
   "cell_type": "markdown",
   "id": "green-treat",
   "metadata": {},
   "source": [
    "### Load NEP7 Reference Bathy File"
   ]
  },
  {
   "cell_type": "code",
   "execution_count": 15,
   "id": "agreed-necessity",
   "metadata": {},
   "outputs": [],
   "source": [
    "import xarray as xr\n",
    "\n",
    "nep7 = xr.open_dataset(\"/Users/james/Documents/Github/esm_lab/gridTools/nep7_grid/ocean_topog.nc\")\n"
   ]
  },
  {
   "cell_type": "code",
   "execution_count": 16,
   "id": "musical-warner",
   "metadata": {},
   "outputs": [],
   "source": [
    "#nep7.depth.plot()"
   ]
  },
  {
   "cell_type": "markdown",
   "id": "international-exhibit",
   "metadata": {},
   "source": [
    "### Load the MOM6 GridGen Gridfile"
   ]
  },
  {
   "cell_type": "code",
   "execution_count": 18,
   "id": "hydraulic-lighter",
   "metadata": {},
   "outputs": [],
   "source": [
    "grid = xr.open_dataset(\"/Users/james/Downloads/gridFile.nc\")\n",
    "#grid = grid.rio.write_crs(grid.attrs['proj'])\n",
    "#grid = grid.rio.set_spatial_dims(y_dim='ny', x_dim='nx', inplace=True)"
   ]
  },
  {
   "cell_type": "markdown",
   "id": "delayed-electricity",
   "metadata": {},
   "source": [
    "### Load the Bathymetry File & Slice it down to the size we need"
   ]
  },
  {
   "cell_type": "code",
   "execution_count": 24,
   "id": "asian-platform",
   "metadata": {},
   "outputs": [],
   "source": [
    "import numpy as np\n",
    "\n",
    "gebco = xr.open_dataset(\"/Users/james/Downloads/gebco_2020_netcdf/GEBCO_2020.nc\").sel(lat=slice(np.min(grid.y.values), np.max(grid.y.values)), lon=slice(np.min(grid.x.values), np.max(grid.x.values)))\n",
    "\n",
    "\n",
    "\n",
    "# get 2D versions of the lat and lon variables (note the -180 here!)\n",
    "lon2d, lat2d = np.meshgrid(gebco.lon.values, gebco.lat.values)\n",
    "\n",
    "#da.assign_coords({\"lon_2\": (\"lon\", lon_2)})\n",
    "gebco = gebco.assign_coords({\"lon2d\" : ((\"lat\", \"lon\"), lon2d)})\n",
    "gebco = gebco.assign_coords({\"lat2d\" : ((\"lat\", \"lon\"), lat2d)})"
   ]
  },
  {
   "cell_type": "code",
   "execution_count": 25,
   "id": "affiliated-dublin",
   "metadata": {},
   "outputs": [],
   "source": [
    "#gebco = gebco.rio.write_crs(\"EPSG:4326\")\n",
    "#gebco = gebco.rio.set_spatial_dims(y_dim='lat', x_dim='lon', inplace=True)"
   ]
  },
  {
   "cell_type": "markdown",
   "id": "physical-taste",
   "metadata": {},
   "source": [
    "### Downsample the Grid File"
   ]
  },
  {
   "cell_type": "markdown",
   "id": "taken-funeral",
   "metadata": {},
   "source": [
    "For reasons specified above, we need to downsample the grid file to half in order to create an appropriate file for the bathymetry"
   ]
  },
  {
   "cell_type": "raw",
   "id": "addressed-thanks",
   "metadata": {},
   "source": [
    "# xarray coarsen\n",
    "da.coarsen(time=7, x=2).mean()"
   ]
  },
  {
   "cell_type": "code",
   "execution_count": 26,
   "id": "continuing-timothy",
   "metadata": {},
   "outputs": [],
   "source": [
    "coGrid = grid.coarsen(nx=2, ny=2, nxp=2, nyp=2, boundary='pad').mean()\n"
   ]
  },
  {
   "cell_type": "markdown",
   "id": "spoken-prison",
   "metadata": {},
   "source": [
    "### Resample gebco file to coarse grid dimensions"
   ]
  },
  {
   "cell_type": "code",
   "execution_count": 27,
   "id": "governmental-lobby",
   "metadata": {},
   "outputs": [
    {
     "data": {
      "text/plain": [
       "(<xarray.Dataset>\n",
       " Dimensions:    (x: 10036, y: 8610)\n",
       " Coordinates:\n",
       "   * x          (x) float64 -153.3 -153.3 -153.3 -153.3 ... -111.5 -111.5 -111.5\n",
       "   * y          (y) float64 22.06 22.06 22.06 22.07 ... 57.91 57.92 57.92 57.93\n",
       "     lon2d      (y, x) float64 -153.3 -153.3 -153.3 ... -111.5 -111.5 -111.5\n",
       "     lat2d      (y, x) float64 22.06 22.06 22.06 22.06 ... 57.93 57.93 57.93\n",
       " Data variables:\n",
       "     elevation  (y, x) int16 ...\n",
       " Attributes:\n",
       "     Conventions:  CF-1.6\n",
       "     title:        The GEBCO_2020 Grid - a continuous terrain model for oceans...\n",
       "     institution:  On behalf of the General Bathymetric Chart of the Oceans (G...\n",
       "     source:       The GEBCO_2020 Grid is the latest global bathymetric produc...\n",
       "     history:      Information on the development of the data set and the sour...\n",
       "     references:   DOI: 10.5285/a29c5465-b138-234d-e053-6c86abc040b9\n",
       "     comment:      The data in the GEBCO_2020 Grid should not be used for navi...\n",
       "     node_offset:  1.0,\n",
       " <xarray.Dataset>\n",
       " Dimensions:   (nx: 20, nxp: 21, ny: 30, nyp: 31)\n",
       " Dimensions without coordinates: nx, nxp, ny, nyp\n",
       " Data variables:\n",
       "     x         (nyp, nxp) float64 -130.9 -130.0 -129.1 ... -131.0 -129.5 -128.3\n",
       "     y         (nyp, nxp) float64 22.39 22.9 23.39 23.88 ... 57.06 57.56 57.93\n",
       "     angle_dx  (nyp, nxp) float64 0.5524 0.5435 0.5328 ... 0.5556 0.5377 0.53\n",
       "     dx        (nyp, nx) float64 5.383e+04 5.383e+04 ... 5.376e+04 5.376e+04\n",
       "     dy        (ny, nxp) float64 5.566e+04 5.566e+04 ... 5.566e+04 5.566e+04\n",
       "     area      (ny, nx) float64 2.999e+09 2.999e+09 ... 2.999e+09 2.999e+09)"
      ]
     },
     "execution_count": 27,
     "metadata": {},
     "output_type": "execute_result"
    }
   ],
   "source": [
    "# set spatial dimensions for rioxarray\n",
    "# THIS IS WHERE I'M STUCK - we have an irregular grid, and ny/nx are just the number of center points - the latitude changes with longitude for each center point\n",
    "#coGrid = coGrid.rio.set_spatial_dims(y_dim='ny', x_dim='nx', inplace=True)\n",
    "\n",
    "# write the rio crs for rioxarray\n",
    "#coGrid = coGrid.rio.write_crs(grid.attrs['proj'])\n",
    "\n",
    "\n",
    "#gebco = gebco.rio.write_crs(\"EPSG:4326\")\n",
    "#gebco = gebco.rio.set_spatial_dims(y_dim='lat', x_dim='lon', inplace=True)\n",
    "\n",
    "# reproject match - Reproject a DataArray object to match the resolution, projection, and region of another DataArray.\n",
    "#gebco_match = gebco.rio.reproject_match(coGrid)\n",
    "#gebco_match\n",
    "\n",
    "gebco = gebco.rename({\"lon\" : \"x\", \"lat\" : \"y\"})\n",
    "gebco, coGrid"
   ]
  },
  {
   "cell_type": "code",
   "execution_count": 28,
   "id": "functioning-vaccine",
   "metadata": {},
   "outputs": [
    {
     "ename": "KeyError",
     "evalue": "'lon'",
     "output_type": "error",
     "traceback": [
      "\u001b[0;31m---------------------------------------------------------------------------\u001b[0m",
      "\u001b[0;31mKeyError\u001b[0m                                  Traceback (most recent call last)",
      "\u001b[0;32m~/opt/anaconda3/envs/xgcm/lib/python3.7/site-packages/xarray/core/dataset.py\u001b[0m in \u001b[0;36m_construct_dataarray\u001b[0;34m(self, name)\u001b[0m\n\u001b[1;32m   1304\u001b[0m         \u001b[0;32mtry\u001b[0m\u001b[0;34m:\u001b[0m\u001b[0;34m\u001b[0m\u001b[0;34m\u001b[0m\u001b[0m\n\u001b[0;32m-> 1305\u001b[0;31m             \u001b[0mvariable\u001b[0m \u001b[0;34m=\u001b[0m \u001b[0mself\u001b[0m\u001b[0;34m.\u001b[0m\u001b[0m_variables\u001b[0m\u001b[0;34m[\u001b[0m\u001b[0mname\u001b[0m\u001b[0;34m]\u001b[0m\u001b[0;34m\u001b[0m\u001b[0;34m\u001b[0m\u001b[0m\n\u001b[0m\u001b[1;32m   1306\u001b[0m         \u001b[0;32mexcept\u001b[0m \u001b[0mKeyError\u001b[0m\u001b[0;34m:\u001b[0m\u001b[0;34m\u001b[0m\u001b[0;34m\u001b[0m\u001b[0m\n",
      "\u001b[0;31mKeyError\u001b[0m: 'lon'",
      "\nDuring handling of the above exception, another exception occurred:\n",
      "\u001b[0;31mKeyError\u001b[0m                                  Traceback (most recent call last)",
      "\u001b[0;32m<ipython-input-28-13e320e7b814>\u001b[0m in \u001b[0;36m<module>\u001b[0;34m\u001b[0m\n\u001b[1;32m      3\u001b[0m \u001b[0;32mimport\u001b[0m \u001b[0mxesmf\u001b[0m \u001b[0;32mas\u001b[0m \u001b[0mxe\u001b[0m\u001b[0;34m\u001b[0m\u001b[0;34m\u001b[0m\u001b[0m\n\u001b[1;32m      4\u001b[0m \u001b[0;34m\u001b[0m\u001b[0m\n\u001b[0;32m----> 5\u001b[0;31m \u001b[0mregridder\u001b[0m \u001b[0;34m=\u001b[0m \u001b[0mxe\u001b[0m\u001b[0;34m.\u001b[0m\u001b[0mRegridder\u001b[0m\u001b[0;34m(\u001b[0m\u001b[0mgebco\u001b[0m\u001b[0;34m,\u001b[0m \u001b[0mcoGrid\u001b[0m\u001b[0;34m,\u001b[0m \u001b[0;34m'bilinear'\u001b[0m\u001b[0;34m)\u001b[0m\u001b[0;34m\u001b[0m\u001b[0;34m\u001b[0m\u001b[0m\n\u001b[0m\u001b[1;32m      6\u001b[0m \u001b[0mdr_out\u001b[0m \u001b[0;34m=\u001b[0m \u001b[0mregridder\u001b[0m\u001b[0;34m(\u001b[0m\u001b[0mgebco\u001b[0m\u001b[0;34m)\u001b[0m\u001b[0;34m\u001b[0m\u001b[0;34m\u001b[0m\u001b[0m\n",
      "\u001b[0;32m~/opt/anaconda3/envs/xgcm/lib/python3.7/site-packages/xesmf/frontend.py\u001b[0m in \u001b[0;36m__init__\u001b[0;34m(self, ds_in, ds_out, method, periodic, filename, reuse_weights, ignore_degenerate, locstream_in, locstream_out)\u001b[0m\n\u001b[1;32m    190\u001b[0m             self._grid_in, shape_in = ds_to_ESMFgrid(ds_in,\n\u001b[1;32m    191\u001b[0m                                                      \u001b[0mneed_bounds\u001b[0m\u001b[0;34m=\u001b[0m\u001b[0mself\u001b[0m\u001b[0;34m.\u001b[0m\u001b[0mneed_bounds\u001b[0m\u001b[0;34m,\u001b[0m\u001b[0;34m\u001b[0m\u001b[0;34m\u001b[0m\u001b[0m\n\u001b[0;32m--> 192\u001b[0;31m                                                      \u001b[0mperiodic\u001b[0m\u001b[0;34m=\u001b[0m\u001b[0mperiodic\u001b[0m\u001b[0;34m\u001b[0m\u001b[0;34m\u001b[0m\u001b[0m\n\u001b[0m\u001b[1;32m    193\u001b[0m                                                      )\n\u001b[1;32m    194\u001b[0m         \u001b[0;32mif\u001b[0m \u001b[0mlocstream_out\u001b[0m\u001b[0;34m:\u001b[0m\u001b[0;34m\u001b[0m\u001b[0;34m\u001b[0m\u001b[0m\n",
      "\u001b[0;32m~/opt/anaconda3/envs/xgcm/lib/python3.7/site-packages/xesmf/frontend.py\u001b[0m in \u001b[0;36mds_to_ESMFgrid\u001b[0;34m(ds, need_bounds, periodic, append)\u001b[0m\n\u001b[1;32m     57\u001b[0m \u001b[0;34m\u001b[0m\u001b[0m\n\u001b[1;32m     58\u001b[0m     \u001b[0;31m# use np.asarray(dr) instead of dr.values, so it also works for dictionary\u001b[0m\u001b[0;34m\u001b[0m\u001b[0;34m\u001b[0m\u001b[0;34m\u001b[0m\u001b[0m\n\u001b[0;32m---> 59\u001b[0;31m     \u001b[0mlon\u001b[0m \u001b[0;34m=\u001b[0m \u001b[0mnp\u001b[0m\u001b[0;34m.\u001b[0m\u001b[0masarray\u001b[0m\u001b[0;34m(\u001b[0m\u001b[0mds\u001b[0m\u001b[0;34m[\u001b[0m\u001b[0;34m'lon'\u001b[0m\u001b[0;34m]\u001b[0m\u001b[0;34m)\u001b[0m\u001b[0;34m\u001b[0m\u001b[0;34m\u001b[0m\u001b[0m\n\u001b[0m\u001b[1;32m     60\u001b[0m     \u001b[0mlat\u001b[0m \u001b[0;34m=\u001b[0m \u001b[0mnp\u001b[0m\u001b[0;34m.\u001b[0m\u001b[0masarray\u001b[0m\u001b[0;34m(\u001b[0m\u001b[0mds\u001b[0m\u001b[0;34m[\u001b[0m\u001b[0;34m'lat'\u001b[0m\u001b[0;34m]\u001b[0m\u001b[0;34m)\u001b[0m\u001b[0;34m\u001b[0m\u001b[0;34m\u001b[0m\u001b[0m\n\u001b[1;32m     61\u001b[0m     \u001b[0mlon\u001b[0m\u001b[0;34m,\u001b[0m \u001b[0mlat\u001b[0m \u001b[0;34m=\u001b[0m \u001b[0mas_2d_mesh\u001b[0m\u001b[0;34m(\u001b[0m\u001b[0mlon\u001b[0m\u001b[0;34m,\u001b[0m \u001b[0mlat\u001b[0m\u001b[0;34m)\u001b[0m\u001b[0;34m\u001b[0m\u001b[0;34m\u001b[0m\u001b[0m\n",
      "\u001b[0;32m~/opt/anaconda3/envs/xgcm/lib/python3.7/site-packages/xarray/core/dataset.py\u001b[0m in \u001b[0;36m__getitem__\u001b[0;34m(self, key)\u001b[0m\n\u001b[1;32m   1407\u001b[0m \u001b[0;34m\u001b[0m\u001b[0m\n\u001b[1;32m   1408\u001b[0m         \u001b[0;32mif\u001b[0m \u001b[0mhashable\u001b[0m\u001b[0;34m(\u001b[0m\u001b[0mkey\u001b[0m\u001b[0;34m)\u001b[0m\u001b[0;34m:\u001b[0m\u001b[0;34m\u001b[0m\u001b[0;34m\u001b[0m\u001b[0m\n\u001b[0;32m-> 1409\u001b[0;31m             \u001b[0;32mreturn\u001b[0m \u001b[0mself\u001b[0m\u001b[0;34m.\u001b[0m\u001b[0m_construct_dataarray\u001b[0m\u001b[0;34m(\u001b[0m\u001b[0mkey\u001b[0m\u001b[0;34m)\u001b[0m\u001b[0;34m\u001b[0m\u001b[0;34m\u001b[0m\u001b[0m\n\u001b[0m\u001b[1;32m   1410\u001b[0m         \u001b[0;32melse\u001b[0m\u001b[0;34m:\u001b[0m\u001b[0;34m\u001b[0m\u001b[0;34m\u001b[0m\u001b[0m\n\u001b[1;32m   1411\u001b[0m             \u001b[0;32mreturn\u001b[0m \u001b[0mself\u001b[0m\u001b[0;34m.\u001b[0m\u001b[0m_copy_listed\u001b[0m\u001b[0;34m(\u001b[0m\u001b[0mnp\u001b[0m\u001b[0;34m.\u001b[0m\u001b[0masarray\u001b[0m\u001b[0;34m(\u001b[0m\u001b[0mkey\u001b[0m\u001b[0;34m)\u001b[0m\u001b[0;34m)\u001b[0m\u001b[0;34m\u001b[0m\u001b[0;34m\u001b[0m\u001b[0m\n",
      "\u001b[0;32m~/opt/anaconda3/envs/xgcm/lib/python3.7/site-packages/xarray/core/dataset.py\u001b[0m in \u001b[0;36m_construct_dataarray\u001b[0;34m(self, name)\u001b[0m\n\u001b[1;32m   1306\u001b[0m         \u001b[0;32mexcept\u001b[0m \u001b[0mKeyError\u001b[0m\u001b[0;34m:\u001b[0m\u001b[0;34m\u001b[0m\u001b[0;34m\u001b[0m\u001b[0m\n\u001b[1;32m   1307\u001b[0m             _, name, variable = _get_virtual_variable(\n\u001b[0;32m-> 1308\u001b[0;31m                 \u001b[0mself\u001b[0m\u001b[0;34m.\u001b[0m\u001b[0m_variables\u001b[0m\u001b[0;34m,\u001b[0m \u001b[0mname\u001b[0m\u001b[0;34m,\u001b[0m \u001b[0mself\u001b[0m\u001b[0;34m.\u001b[0m\u001b[0m_level_coords\u001b[0m\u001b[0;34m,\u001b[0m \u001b[0mself\u001b[0m\u001b[0;34m.\u001b[0m\u001b[0mdims\u001b[0m\u001b[0;34m\u001b[0m\u001b[0;34m\u001b[0m\u001b[0m\n\u001b[0m\u001b[1;32m   1309\u001b[0m             )\n\u001b[1;32m   1310\u001b[0m \u001b[0;34m\u001b[0m\u001b[0m\n",
      "\u001b[0;32m~/opt/anaconda3/envs/xgcm/lib/python3.7/site-packages/xarray/core/dataset.py\u001b[0m in \u001b[0;36m_get_virtual_variable\u001b[0;34m(variables, key, level_vars, dim_sizes)\u001b[0m\n\u001b[1;32m    169\u001b[0m         \u001b[0mref_var\u001b[0m \u001b[0;34m=\u001b[0m \u001b[0mdim_var\u001b[0m\u001b[0;34m.\u001b[0m\u001b[0mto_index_variable\u001b[0m\u001b[0;34m(\u001b[0m\u001b[0;34m)\u001b[0m\u001b[0;34m.\u001b[0m\u001b[0mget_level_variable\u001b[0m\u001b[0;34m(\u001b[0m\u001b[0mref_name\u001b[0m\u001b[0;34m)\u001b[0m\u001b[0;34m\u001b[0m\u001b[0;34m\u001b[0m\u001b[0m\n\u001b[1;32m    170\u001b[0m     \u001b[0;32melse\u001b[0m\u001b[0;34m:\u001b[0m\u001b[0;34m\u001b[0m\u001b[0;34m\u001b[0m\u001b[0m\n\u001b[0;32m--> 171\u001b[0;31m         \u001b[0mref_var\u001b[0m \u001b[0;34m=\u001b[0m \u001b[0mvariables\u001b[0m\u001b[0;34m[\u001b[0m\u001b[0mref_name\u001b[0m\u001b[0;34m]\u001b[0m\u001b[0;34m\u001b[0m\u001b[0;34m\u001b[0m\u001b[0m\n\u001b[0m\u001b[1;32m    172\u001b[0m \u001b[0;34m\u001b[0m\u001b[0m\n\u001b[1;32m    173\u001b[0m     \u001b[0;32mif\u001b[0m \u001b[0mvar_name\u001b[0m \u001b[0;32mis\u001b[0m \u001b[0;32mNone\u001b[0m\u001b[0;34m:\u001b[0m\u001b[0;34m\u001b[0m\u001b[0;34m\u001b[0m\u001b[0m\n",
      "\u001b[0;31mKeyError\u001b[0m: 'lon'"
     ]
    }
   ],
   "source": [
    "# try xesmf\n",
    "\n",
    "import xesmf as xe\n",
    "\n",
    "regridder = xe.Regridder(gebco, coGrid, 'bilinear')\n",
    "dr_out = regridder(gebco)"
   ]
  },
  {
   "cell_type": "code",
   "execution_count": 2,
   "id": "israeli-mortgage",
   "metadata": {},
   "outputs": [
    {
     "ename": "NameError",
     "evalue": "name 'gebco' is not defined",
     "output_type": "error",
     "traceback": [
      "\u001b[0;31m---------------------------------------------------------------------------\u001b[0m",
      "\u001b[0;31mNameError\u001b[0m                                 Traceback (most recent call last)",
      "\u001b[0;32m<ipython-input-2-f9b32c6b1a03>\u001b[0m in \u001b[0;36m<module>\u001b[0;34m\u001b[0m\n\u001b[0;32m----> 1\u001b[0;31m \u001b[0mgebco\u001b[0m\u001b[0;34m\u001b[0m\u001b[0;34m\u001b[0m\u001b[0m\n\u001b[0m",
      "\u001b[0;31mNameError\u001b[0m: name 'gebco' is not defined"
     ]
    }
   ],
   "source": [
    "gebco"
   ]
  },
  {
   "cell_type": "code",
   "execution_count": null,
   "id": "through-weekly",
   "metadata": {},
   "outputs": [],
   "source": []
  }
 ],
 "metadata": {
  "kernelspec": {
   "display_name": "Python 3",
   "language": "python",
   "name": "python3"
  },
  "language_info": {
   "codemirror_mode": {
    "name": "ipython",
    "version": 3
   },
   "file_extension": ".py",
   "mimetype": "text/x-python",
   "name": "python",
   "nbconvert_exporter": "python",
   "pygments_lexer": "ipython3",
   "version": "3.7.10"
  }
 },
 "nbformat": 4,
 "nbformat_minor": 5
}
