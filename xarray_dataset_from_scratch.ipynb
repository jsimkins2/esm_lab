{
 "cells": [
  {
   "cell_type": "code",
   "execution_count": null,
   "id": "591c59b9-8625-481f-8056-cb542175b424",
   "metadata": {},
   "outputs": [],
   "source": [
    "import numpy as np\n",
    "import xarray as xr\n",
    "import pandas as pd\n",
    "\n",
    "# create dummy dataframe\n",
    "times = pd.date_range(start='2000-01-01',freq='1H',periods=6)\n",
    "\n",
    "# create dataset\n",
    "ds = xr.Dataset({\n",
    "    'SWdown': xr.DataArray(\n",
    "                data   = np.random.random(6),   # enter data here\n",
    "                dims   = ['time'],\n",
    "                coords = {'time': times},\n",
    "                attrs  = {\n",
    "                    '_FillValue': -999.9,\n",
    "                    'units'     : 'W/m2'\n",
    "                    }\n",
    "                ),\n",
    "    'LWdown': xr.DataArray(\n",
    "                data   = np.random.random(6),   # enter data here\n",
    "                dims   = ['time'],\n",
    "                coords = {'time': times},\n",
    "                attrs  = {\n",
    "                    '_FillValue': -999.9,\n",
    "                    'units'     : 'W/m2'\n",
    "                    }\n",
    "                )\n",
    "            },\n",
    "        attrs = {'example_attr': 'this is a global attribute'}\n",
    "    )"
   ]
  }
 ],
 "metadata": {
  "kernelspec": {
   "display_name": "Python 3 (ipykernel)",
   "language": "python",
   "name": "python3"
  },
  "language_info": {
   "codemirror_mode": {
    "name": "ipython",
    "version": 3
   },
   "file_extension": ".py",
   "mimetype": "text/x-python",
   "name": "python",
   "nbconvert_exporter": "python",
   "pygments_lexer": "ipython3",
   "version": "3.9.7"
  }
 },
 "nbformat": 4,
 "nbformat_minor": 5
}
