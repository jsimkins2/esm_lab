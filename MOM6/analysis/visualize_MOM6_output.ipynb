{
 "cells": [
  {
   "cell_type": "code",
   "execution_count": 107,
   "id": "e141aa32-4e7c-45f8-a843-45514e25c64e",
   "metadata": {},
   "outputs": [],
   "source": [
    "import imageio\n",
    "import xarray as xr\n",
    "import cartopy \n",
    "import matplotlib.pyplot as plt\n",
    "import numpy as np\n",
    "import matplotlib.ticker as mticker\n",
    "from cartopy.mpl.gridliner import LONGITUDE_FORMATTER, LATITUDE_FORMATTER"
   ]
  },
  {
   "cell_type": "code",
   "execution_count": 108,
   "id": "556989a6-9088-4146-88dd-1ddb8390ffcf",
   "metadata": {},
   "outputs": [],
   "source": [
    "import cartopy.crs as crs\n",
    "import matplotlib.pyplot as plt\n",
    "import cartopy.feature as cfeature\n",
    "url = 'http://map1c.vis.earthdata.nasa.gov/wmts-geo/wmts.cgi'\n",
    "layer = 'BlueMarble_NextGeneration'\n",
    "\n"
   ]
  },
  {
   "cell_type": "code",
   "execution_count": 109,
   "id": "9662c59a-c8f1-48c0-82a7-6b9c5f668d7e",
   "metadata": {},
   "outputs": [],
   "source": [
    "ds1 = xr.open_dataset(\"/Users/james/Documents/Github/esm_lab/MOM6/analysis/output/nwa25/Cheyenne/2021-11-05/20100105.ocean_daily.nc\")\n",
    "ds2 = xr.open_dataset(\"/Users/james/Documents/Github/esm_lab/MOM6/analysis/output/nwa25/Cheyenne/2021-11-05/20100125.ocean_daily.nc\")"
   ]
  },
  {
   "cell_type": "code",
   "execution_count": 110,
   "id": "df2a0a69-61c5-4c9a-87d0-3abe732dec45",
   "metadata": {},
   "outputs": [],
   "source": [
    "ds1 = ds1.isel(time=slice(0,len(ds1.time.values)-1))\n",
    "ds2 = ds2.isel(time=slice(13,len(ds2.time.values)-1))"
   ]
  },
  {
   "cell_type": "code",
   "execution_count": 168,
   "id": "d254c8d5-9147-4e1b-8661-cc256ef20066",
   "metadata": {},
   "outputs": [],
   "source": [
    "ds = xr.merge([ds1,ds2])"
   ]
  },
  {
   "cell_type": "code",
   "execution_count": 171,
   "id": "61d5976f-9255-4986-9e70-d2613eb090c1",
   "metadata": {},
   "outputs": [],
   "source": [
    "for i in range(0,len(ds.time.values)):\n",
    "    figure = plt.figure(figsize=(12,12))\n",
    "    ax.add_wmts(url, layer)\n",
    "    ax = figure.add_subplot(1,1,1, projection=crs.PlateCarree())\n",
    "    ax.set_extent([-100, -34, 3,54], crs=crs.PlateCarree())\n",
    "    im = ax.pcolormesh(ds.xh.values, ds.yh.values, ds.ssh[i].values, transform=crs.PlateCarree(), cmap='turbo', vmin=-1, vmax=1)\n",
    "    ax.add_wmts(url, 'BlueMarble_NextGeneration')\n",
    "    plt.colorbar(im, label=\"Sea Surface Height (m)\", shrink=0.6, pad=.03)\n",
    "    ax.gridlines()\n",
    "    ax.text(0.2, 1.015, \"NWA25 Sea Surface Height - \" + str(ds.time[i].values), size=12, transform=ax.transAxes)\n",
    "    plt.savefig(\"/Users/james/Documents/Github/esm_lab/MOM6/analysis/output/nwa25/Cheyenne/2021-11-05/images/ssh\" + datetime.strptime(str(ds.time[i].values), \"%Y-%m-%d %H:%M:%S\").strftime(\"%Y%m%d%H%M\") + \".png\")\n",
    "    plt.close()"
   ]
  },
  {
   "cell_type": "code",
   "execution_count": 166,
   "id": "bf79653e-6d1d-4a2d-83ba-4b0ee82b4b6d",
   "metadata": {},
   "outputs": [],
   "source": [
    "from PIL import Image\n",
    "img_names = sorted(glob.glob(\"/Users/james/Documents/Github/esm_lab/MOM6/analysis/output/nwa25/Cheyenne/2021-11-05/images/sst*.png\"))\n",
    "dur_vals = []\n",
    "for i in range(0,len(img_names)):\n",
    "    if i != len(img_names)-1:\n",
    "        dur_vals.append(200)\n",
    "dur_vals.append(3000)\n",
    "\n",
    "img, *imgs = [Image.open(f) for f in img_names]\n",
    "img.save(fp='/Users/james/Documents/Github/esm_lab/MOM6/analysis/output/nwa25/Cheyenne/2021-11-05/sst.gif', format='GIF', append_images=imgs,\n",
    "     save_all=True, duration=dur_vals, loop=0)"
   ]
  },
  {
   "cell_type": "code",
   "execution_count": null,
   "id": "601ae344-45c4-4b5a-86e4-e9f748280789",
   "metadata": {},
   "outputs": [],
   "source": []
  }
 ],
 "metadata": {
  "kernelspec": {
   "display_name": "Python 3 (ipykernel)",
   "language": "python",
   "name": "python3"
  },
  "language_info": {
   "codemirror_mode": {
    "name": "ipython",
    "version": 3
   },
   "file_extension": ".py",
   "mimetype": "text/x-python",
   "name": "python",
   "nbconvert_exporter": "python",
   "pygments_lexer": "ipython3",
   "version": "3.9.7"
  }
 },
 "nbformat": 4,
 "nbformat_minor": 5
}
