{
 "cells": [
  {
   "cell_type": "code",
   "execution_count": 45,
   "id": "e141aa32-4e7c-45f8-a843-45514e25c64e",
   "metadata": {},
   "outputs": [],
   "source": [
    "import imageio\n",
    "import xarray as xr\n",
    "import cartopy \n",
    "import matplotlib.pyplot as plt\n",
    "import numpy as np\n",
    "import matplotlib.ticker as mticker\n",
    "from cartopy.mpl.gridliner import LONGITUDE_FORMATTER, LATITUDE_FORMATTER\n",
    "from datetime import datetime\n",
    "import os.path\n",
    "import cartopy.crs as crs\n",
    "import matplotlib.pyplot as plt\n",
    "import cartopy.feature as cfeature\n",
    "from PIL import Image\n",
    "import glob\n",
    "url = 'http://map1c.vis.earthdata.nasa.gov/wmts-geo/wmts.cgi'\n",
    "layer = 'BlueMarble_NextGeneration'\n"
   ]
  },
  {
   "cell_type": "code",
   "execution_count": 30,
   "id": "9662c59a-c8f1-48c0-82a7-6b9c5f668d7e",
   "metadata": {},
   "outputs": [],
   "source": [
    "ds = xr.open_mfdataset(\"/Users/james/Documents/Github/esm_lab/MOM6/analysis/output/nwa25/Cheyenne/2021-11-05/20100*\")"
   ]
  },
  {
   "cell_type": "code",
   "execution_count": 44,
   "id": "61d5976f-9255-4986-9e70-d2613eb090c1",
   "metadata": {},
   "outputs": [],
   "source": [
    "var_list = ['sst', 'ssh050', 'ssh075']\n",
    "\n",
    "for var in var_list:\n",
    "    for i in range(0,len(ds.time.values)):\n",
    "        if os.path.isfile(\"/Users/james/Documents/Github/esm_lab/MOM6/analysis/output/nwa25/Cheyenne/2021-11-05/images/\" + var + datetime.strptime(str(ds.time[i].values), \"%Y-%m-%d %H:%M:%S\").strftime(\"%Y%m%d%H%M\") + \".png\") == False:\n",
    "            figure = plt.figure(figsize=(12,12))\n",
    "            ax = figure.add_subplot(1,1,1, projection=crs.PlateCarree())\n",
    "            ax.add_wmts(url, layer)\n",
    "            ax.set_extent([-100, -34, 3,54], crs=crs.PlateCarree())\n",
    "            if var=='sst':\n",
    "                im = ax.pcolormesh(ds.xh.values, ds.yh.values, ds.sst[i].values, transform=crs.PlateCarree(), cmap='turbo', vmin=0, vmax=30)\n",
    "                ax.add_wmts(url, 'BlueMarble_NextGeneration')\n",
    "                plt.colorbar(im, label=\"Sea Surface Temperature (deg C)\", shrink=0.6, pad=.03)\n",
    "                ax.gridlines()\n",
    "                ax.text(0.2, 1.015, \"NWA25 Sea Surface Temperature - \" + str(ds.time[i].values), size=12, transform=ax.transAxes)\n",
    "                plt.savefig(\"/Users/james/Documents/Github/esm_lab/MOM6/analysis/output/nwa25/Cheyenne/2021-11-05/images/\" + var + datetime.strptime(str(ds.time[i].values), \"%Y-%m-%d %H:%M:%S\").strftime(\"%Y%m%d%H%M\") + \".png\")\n",
    "                plt.close()\n",
    "            if var=='ssh050':\n",
    "                im = ax.pcolormesh(ds.xh.values, ds.yh.values, ds.ssh[i].values, transform=crs.PlateCarree(), cmap='turbo', vmin=-0.50, vmax=0.50)\n",
    "                ax.add_wmts(url, 'BlueMarble_NextGeneration')\n",
    "                plt.colorbar(im, label=\"Sea Surface Height (m)\", shrink=0.6, pad=.03)\n",
    "                ax.gridlines()\n",
    "                ax.text(0.2, 1.015, \"NWA25 Sea Surface Height - \" + str(ds.time[i].values), size=12, transform=ax.transAxes)\n",
    "                plt.savefig(\"/Users/james/Documents/Github/esm_lab/MOM6/analysis/output/nwa25/Cheyenne/2021-11-05/images/\" + var + datetime.strptime(str(ds.time[i].values), \"%Y-%m-%d %H:%M:%S\").strftime(\"%Y%m%d%H%M\") + \".png\")\n",
    "                plt.close()\n",
    "            if var=='ssh075':\n",
    "                im = ax.pcolormesh(ds.xh.values, ds.yh.values, ds.ssh[i].values, transform=crs.PlateCarree(), cmap='turbo', vmin=-0.75, vmax=0.75)\n",
    "                ax.add_wmts(url, 'BlueMarble_NextGeneration')\n",
    "                plt.colorbar(im, label=\"Sea Surface Height (m)\", shrink=0.6, pad=.03)\n",
    "                ax.gridlines()\n",
    "                ax.text(0.2, 1.015, \"NWA25 Sea Surface Height - \" + str(ds.time[i].values), size=12, transform=ax.transAxes)\n",
    "                plt.savefig(\"/Users/james/Documents/Github/esm_lab/MOM6/analysis/output/nwa25/Cheyenne/2021-11-05/images/\" + var + datetime.strptime(str(ds.time[i].values), \"%Y-%m-%d %H:%M:%S\").strftime(\"%Y%m%d%H%M\") + \".png\")\n",
    "                plt.close()\n",
    "\n",
    "    img_names = sorted(glob.glob(\"/Users/james/Documents/Github/esm_lab/MOM6/analysis/output/nwa25/Cheyenne/2021-11-05/images/\" + var + \"*.png\"))\n",
    "    dur_vals = []\n",
    "    for i in range(0,len(img_names)):\n",
    "        if i != len(img_names)-1:\n",
    "            dur_vals.append(200)\n",
    "    dur_vals.append(3000)\n",
    "\n",
    "    img, *imgs = [Image.open(f) for f in img_names]\n",
    "    img.save(fp='/Users/james/Documents/Github/esm_lab/MOM6/analysis/output/nwa25/Cheyenne/2021-11-05/' + var + '.gif', format='GIF', append_images=imgs,\n",
    "         save_all=True, duration=dur_vals, loop=0)"
   ]
  },
  {
   "cell_type": "code",
   "execution_count": null,
   "id": "6396a885-d2f0-4aaf-b553-7d2ba56c7d5a",
   "metadata": {},
   "outputs": [],
   "source": []
  },
  {
   "cell_type": "code",
   "execution_count": null,
   "id": "601ae344-45c4-4b5a-86e4-e9f748280789",
   "metadata": {},
   "outputs": [],
   "source": []
  }
 ],
 "metadata": {
  "kernelspec": {
   "display_name": "Python 3 (ipykernel)",
   "language": "python",
   "name": "python3"
  },
  "language_info": {
   "codemirror_mode": {
    "name": "ipython",
    "version": 3
   },
   "file_extension": ".py",
   "mimetype": "text/x-python",
   "name": "python",
   "nbconvert_exporter": "python",
   "pygments_lexer": "ipython3",
   "version": "3.9.7"
  }
 },
 "nbformat": 4,
 "nbformat_minor": 5
}
