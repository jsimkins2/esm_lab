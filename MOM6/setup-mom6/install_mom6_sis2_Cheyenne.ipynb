{
 "cells": [
  {
   "cell_type": "code",
   "execution_count": null,
   "id": "05e607c8-6ab1-4fcc-ab09-c1b8270fad32",
   "metadata": {},
   "outputs": [],
   "source": [
    "1) git clone --recursive https://github.com/NOAA-GFDL/MOM6-examples.git MOM6-examples\n",
    "\n",
    "2) cd MOM6-examples\n",
    "   git submodule init\n",
    "   git submodule update --recursive\n",
    "\n",
    "3) cd src/MOM6\n",
    "   git submodule init\n",
    "   git submodule update\n",
    "\n",
    "4) cd ../../\n",
    "\n",
    "5) mkdir build\n",
    "\n"
   ]
  },
  {
   "cell_type": "code",
   "execution_count": null,
   "id": "09cc9361-c302-44c5-92dc-175cfcdc3afe",
   "metadata": {},
   "outputs": [],
   "source": [
    "#!/bin/bash\n",
    "\n",
    "#!/bin/bash\n",
    "\n",
    "mkdir -p /glade/work/jsimkins/MOM6-examples/build/intel/ice_ocean_SIS2/repro/\n",
    "\n",
    "module load ncarenv\n",
    "module load intel\n",
    "module load netcdf\n",
    "module load ncarcompilers\n",
    "module load mpt/2.19\n",
    "\n",
    "mkdir -p build/intel/shared/repro/\n",
    "(cd build/intel/shared/repro/; rm -f path_names; \\\n",
    "../../../../src/mkmf/bin/list_paths -l ../../../../src/FMS; \\\n",
    "../../../../src/mkmf/bin/mkmf -t ../../../../src/mkmf/templates/cheyenne-intel.mk -p libfms.a -c \"-Duse_libMPI -Duse_netCDF\" path_names)\n",
    "\n",
    "(cd build/intel/shared/repro/; source ../../env; make NETCDF=4 REPRO=1 libfms.a -j)\n",
    "\n",
    "mkdir -p build/intel/ice_ocean_SIS2/repro/\n",
    "(cd build/intel/ice_ocean_SIS2/repro/; rm -f path_names; \\\n",
    "../../../../src/mkmf/bin/list_paths -l ./ ../../../../src/MOM6/config_src/{infra/FMS1,memory/dynamic_symmetric,drivers/FMS_cap,external} ../../../../src/MOM6/src/{*,*/*}/ ../../../../src/{atmos_null,coupler,land_null,ice_param,icebergs,SIS2,FMS/coupler,FMS/include}/)\n",
    "(cd build/intel/ice_ocean_SIS2/repro/; \\\n",
    "../../../../src/mkmf/bin/mkmf -t ../../../../src/mkmf/templates/cheyenne-intel.mk -o '-I../../shared/repro' -p MOM6 -l '-L../../shared/repro -lfms' -c '-Duse_AM3_physics -D_USE_LEGACY_LAND_' path_names )\n",
    "\n",
    "\n",
    "(cd build/intel/ice_ocean_SIS2/repro/; source ../../env; make NETCDF=4 REPRO=1 MOM6 -j)\n",
    "\n"
   ]
  }
 ],
 "metadata": {
  "kernelspec": {
   "display_name": "Python 3 (ipykernel)",
   "language": "python",
   "name": "python3"
  },
  "language_info": {
   "codemirror_mode": {
    "name": "ipython",
    "version": 3
   },
   "file_extension": ".py",
   "mimetype": "text/x-python",
   "name": "python",
   "nbconvert_exporter": "python",
   "pygments_lexer": "ipython3",
   "version": "3.9.7"
  }
 },
 "nbformat": 4,
 "nbformat_minor": 5
}
