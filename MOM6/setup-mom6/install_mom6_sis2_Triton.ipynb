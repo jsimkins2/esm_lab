{
 "cells": [
  {
   "cell_type": "markdown",
   "id": "695a6a09-9d13-4229-8367-90bcc8854e71",
   "metadata": {},
   "source": [
    "## Source the Github Code"
   ]
  },
  {
   "cell_type": "raw",
   "id": "4aa3283c-47a9-44e2-ba45-c47549a645b9",
   "metadata": {},
   "source": [
    "1) git clone --recursive https://github.com/NOAA-GFDL/MOM6-examples.git MOM6-examples\n",
    "\n",
    "2) cd MOM6-examples\n",
    "   git submodule init\n",
    "   git submodule update --recursive\n",
    "\n",
    "3) cd src/MOM6\n",
    "   git submodule init\n",
    "   git submodule update\n",
    "\n",
    "4) cd ../../\n",
    "\n",
    "5) mkdir build\n",
    "\n",
    "\n"
   ]
  },
  {
   "cell_type": "markdown",
   "id": "7d9912b2-af2f-4b16-9426-d6527d6eb929",
   "metadata": {},
   "source": [
    "## Edit the `triton-gnu.mk` flags for netCDF4 use\n",
    "\n",
    "Path: `~/MOM6-examples/src/mkmf/templates/triton-gnu.mk`\n",
    "\n",
    "- Ensure the FFLAGS and CFLAGS are using netCDF4. (i.e., `FFLAGS += -DGFORTRAN -Duse_netCDF4` and `CFLAGS := -D__IFC -Duse_netCDF4`\n",
    "- using netCDF3 will result in restart errors during model execution"
   ]
  },
  {
   "cell_type": "raw",
   "id": "b8a8262a-a87c-4d3a-8f8d-2a26ab95b663",
   "metadata": {},
   "source": [
    "# template for the GNU fortran compiler w/ openmpi\n",
    "# typical use with mkmf\n",
    "# mkmf -t triton-gnu.mk -c\"-Duse_libMPI -Duse_netCDF -DSPMD\" path_names\n",
    "############\n",
    "# commands #\n",
    "############\n",
    "FC = mpif90\n",
    "CC = mpicc\n",
    "LD = mpif90 $(MAIN_PROGRAM)\n",
    "#########\n",
    "# flags #\n",
    "#########\n",
    "DEBUG =\n",
    "REPRO =\n",
    "VERBOSE =\n",
    "OPENMP =\n",
    "\n",
    "MAKEFLAGS += --jobs=$(shell grep '^processor' /proc/cpuinfo | wc -l)\n",
    "\n",
    "# Required Preprocessor Macros:\n",
    "CPPDEFS += -Duse_netCDF\n",
    "\n",
    "# Additional Preprocessor Macros needed due to  Autotools and CMake\n",
    "CPPDEFS += -DHAVE_SCHED_GETAFFINITY\n",
    "\n",
    "FPPFLAGS :=\n",
    "\n",
    "FFLAGS :=-fcray-pointer -fdefault-double-8 -fdefault-real-8 -Waliasing -ffree-line-length-none -fno-range-check\n",
    "FFLAGS += -I/usr/include\n",
    "FFLAGS += -I$(shell nf-config --includedir)\n",
    "FFLAGS += -DGFORTRAN -Duse_netCDF4\n",
    "FFLAGS_OPT = -O3\n",
    "FFLAGS_REPRO = -O2 -fbounds-check\n",
    "FFLAGS_DEBUG = -O0 -g -W -fbounds-check -fbacktrace -ffpe-trap=invalid,zero,overflow\n",
    "FFLAGS_OPENMP = -fopenmp\n",
    "FFLAGS_VERBOSE =\n",
    "\n",
    "CFLAGS := -D__IFC -Duse_netCDF4\n",
    "CFLAGS += -I$(shell nc-config --includedir)\n",
    "CFLAGS_OPT = -O2\n",
    "CFLAGS_OPENMP = -fopenmp\n",
    "CFLAGS_DEBUG = -O0 -g\n",
    "\n",
    ".\n",
    ".\n",
    ".\n"
   ]
  },
  {
   "cell_type": "markdown",
   "id": "58c7132e-9eb1-43e9-a8ba-e368deaaf862",
   "metadata": {},
   "source": [
    "## Run this Bash file\n",
    "\n",
    "Note how we are making MOM6 with NETCDF=4 (i.e., `make NETCDF=4`)"
   ]
  },
  {
   "cell_type": "raw",
   "id": "0beb2d6c-6058-42e6-b827-b65a6222fdb3",
   "metadata": {},
   "source": [
    "#!/bin/bash\n",
    "\n",
    "mkdir -p /home/james/MOM6-examples/build/gnu/ice_ocean_SIS2/repro/\n",
    "\n",
    "module load netcdf-fortran\n",
    "\n",
    "mkdir -p build/gnu/shared/repro/\n",
    "(cd build/gnu/shared/repro/; rm -f path_names; \\\n",
    "../../../../src/mkmf/bin/list_paths -l ../../../../src/FMS; \\\n",
    "../../../../src/mkmf/bin/mkmf -t ../../../../src/mkmf/templates/triton-gnu.mk -p libfms.a -c \"-Duse_libMPI -Duse_netCDF\" path_names)\n",
    "\n",
    "(cd build/gnu/shared/repro/; source ../../env; make NETCDF=4 REPRO=1 libfms.a -j)\n",
    "\n",
    "mkdir -p build/gnu/ice_ocean_SIS2/repro/\n",
    "(cd build/gnu/ice_ocean_SIS2/repro/; rm -f path_names; \\\n",
    "../../../../src/mkmf/bin/list_paths -l ./ ../../../../src/MOM6/config_src/{infra/FMS1,memory/dynamic_symmetric,drivers/FMS_cap,external} ../../../../src/MOM6/src/{*,*/*}/ ../../../../src/{atmos_null,coupler,land_null,ice_param,icebergs,SIS2,FMS/coupler,FMS/include}/)\n",
    "(cd build/gnu/ice_ocean_SIS2/repro/; \\\n",
    "../../../../src/mkmf/bin/mkmf -t ../../../../src/mkmf/templates/triton-gnu.mk -o '-I../../shared/repro' -p MOM6 -l '-L../../shared/repro -lfms' -c '-Duse_AM3_physics -D_USE_LEGACY_LAND_' path_names )\n",
    "\n",
    "\n",
    "(cd build/gnu/ice_ocean_SIS2/repro/; source ../../env; make NETCDF=4 REPRO=1 MOM6 -j)\n",
    "\n"
   ]
  },
  {
   "cell_type": "code",
   "execution_count": null,
   "id": "7c601f10-2900-418c-8cf0-9b13d7abb28f",
   "metadata": {},
   "outputs": [],
   "source": []
  }
 ],
 "metadata": {
  "kernelspec": {
   "display_name": "Python 3 (ipykernel)",
   "language": "python",
   "name": "python3"
  },
  "language_info": {
   "codemirror_mode": {
    "name": "ipython",
    "version": 3
   },
   "file_extension": ".py",
   "mimetype": "text/x-python",
   "name": "python",
   "nbconvert_exporter": "python",
   "pygments_lexer": "ipython3",
   "version": "3.9.7"
  }
 },
 "nbformat": 4,
 "nbformat_minor": 5
}
