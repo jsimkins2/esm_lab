{
 "cells": [
  {
   "cell_type": "markdown",
   "id": "9361400b-6a46-4624-ba07-61fb6d1e6138",
   "metadata": {},
   "source": [
    "# Initializing NWA25 MOM6 Simulations\n",
    "\n",
    "Assuming that all grid files, bathy files, mosaic files have been generated, here are the steps to set up a MOM6 run."
   ]
  },
  {
   "cell_type": "markdown",
   "id": "ab00a747-9f8c-4851-8fa7-ab28514b9169",
   "metadata": {},
   "source": [
    "## data_table\n",
    "\n",
    "-  `data_table` is used to point MOM6 to the location of forcing files (atmospheric, ice, oceanic). JRA55 is used for the current NWA25 simulation\n",
    "- if you aren't using a file (such as river inputs), leave the portion blank but leave the quotation marks (i.e., **\"\"**)"
   ]
  },
  {
   "cell_type": "markdown",
   "id": "d0cfa116-52be-48db-936b-c956fab91854",
   "metadata": {},
   "source": [
    "## MOM_INPUT\n",
    "\n",
    "- `mom_input` is where we point MOM6 to the ocean horizontal grid (GRID_FILE), topography grid (TOPO_FILE) , mosaic files, vertical grid file, boundary conditions (! === OBC options ===) , initical conditions (TEMP_SALT_Z_INIT_FILE) , sponge\n",
    "- \n",
    "- `DT` (delta Time) is also set here and per discussions with Alistair Adcroft `DT` and `DT_Therm` should be the same. We will start with 300 for our runs.\n",
    "- `NIGLOBAL` and `NJGLOBAL` are set and these are the length/width of our horizontal grid\n",
    "- NK is the number of vertical grid levels\n",
    "- `ALE_COORDINATE_CONFIG` sets the vertical grid file - REGRIDDING_COORDINATE_MODE is the type of coordintae field we're using\n",
    "- When setting OBC, it's easier to merge years of OBC together (say 2010-2020) into one file rather than point MOM6 to 10 different files (in this case I generated OBC on Cheyenne and copied them to Triton)\n",
    "- If using SODA as initial conditions file, we can softlink SODA file within our INPUT folder"
   ]
  },
  {
   "cell_type": "markdown",
   "id": "bdc512a6-7b88-41f1-8c5e-6134f04c822e",
   "metadata": {},
   "source": [
    "## input_nml\n",
    "\n",
    "- input_filename: \"n\" is running from beginning, \"r\" is running from restart\n",
    "- coupler_nml: tells us how long to run mom6\n",
    "- `dt_cpld`, `dt_atmos` need to be a multiple of DT/DT_therm"
   ]
  },
  {
   "cell_type": "markdown",
   "id": "f22f11a3-8568-4965-80d3-19df05d8974d",
   "metadata": {},
   "source": [
    "## Diag Table\n",
    "\n",
    "- Which variables to write to the output file "
   ]
  },
  {
   "cell_type": "markdown",
   "id": "3b4471c3-2728-4a69-915f-ede99471b4b9",
   "metadata": {},
   "source": [
    "## mom.sub\n",
    "\n",
    "- Submits job script to SLURM\n",
    "- Change processor #, name\n",
    "- Triton16 is oldest cluster of nodes, Triton24 is 2nd oldest, Triton48 is newest. The number indicates the number of CPUs per node\n",
    "- Point MOM6 to SIS2 MOM6 set up\n",
    "\n",
    "- squeue to check on it\n",
    "- scancel to stop a job"
   ]
  },
  {
   "cell_type": "code",
   "execution_count": null,
   "id": "dc9bb4be-716b-4349-a8d6-6b5d6bad8c02",
   "metadata": {},
   "outputs": [],
   "source": []
  }
 ],
 "metadata": {
  "kernelspec": {
   "display_name": "Python 3 (ipykernel)",
   "language": "python",
   "name": "python3"
  },
  "language_info": {
   "codemirror_mode": {
    "name": "ipython",
    "version": 3
   },
   "file_extension": ".py",
   "mimetype": "text/x-python",
   "name": "python",
   "nbconvert_exporter": "python",
   "pygments_lexer": "ipython3",
   "version": "3.9.7"
  }
 },
 "nbformat": 4,
 "nbformat_minor": 5
}
