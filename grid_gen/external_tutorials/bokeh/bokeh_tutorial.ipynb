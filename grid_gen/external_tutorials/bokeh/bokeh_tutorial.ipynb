{
 "cells": [
  {
   "cell_type": "code",
   "execution_count": 18,
   "metadata": {},
   "outputs": [
    {
     "data": {
      "text/html": [
       "\n",
       "    <div class=\"bk-root\">\n",
       "        <a href=\"https://bokeh.org\" target=\"_blank\" class=\"bk-logo bk-logo-small bk-logo-notebook\"></a>\n",
       "        <span id=\"1281\">Loading BokehJS ...</span>\n",
       "    </div>"
      ]
     },
     "metadata": {},
     "output_type": "display_data"
    },
    {
     "data": {
      "application/javascript": [
       "\n",
       "(function(root) {\n",
       "  function now() {\n",
       "    return new Date();\n",
       "  }\n",
       "\n",
       "  var force = true;\n",
       "\n",
       "  if (typeof root._bokeh_onload_callbacks === \"undefined\" || force === true) {\n",
       "    root._bokeh_onload_callbacks = [];\n",
       "    root._bokeh_is_loading = undefined;\n",
       "  }\n",
       "\n",
       "  var JS_MIME_TYPE = 'application/javascript';\n",
       "  var HTML_MIME_TYPE = 'text/html';\n",
       "  var EXEC_MIME_TYPE = 'application/vnd.bokehjs_exec.v0+json';\n",
       "  var CLASS_NAME = 'output_bokeh rendered_html';\n",
       "\n",
       "  /**\n",
       "   * Render data to the DOM node\n",
       "   */\n",
       "  function render(props, node) {\n",
       "    var script = document.createElement(\"script\");\n",
       "    node.appendChild(script);\n",
       "  }\n",
       "\n",
       "  /**\n",
       "   * Handle when an output is cleared or removed\n",
       "   */\n",
       "  function handleClearOutput(event, handle) {\n",
       "    var cell = handle.cell;\n",
       "\n",
       "    var id = cell.output_area._bokeh_element_id;\n",
       "    var server_id = cell.output_area._bokeh_server_id;\n",
       "    // Clean up Bokeh references\n",
       "    if (id != null && id in Bokeh.index) {\n",
       "      Bokeh.index[id].model.document.clear();\n",
       "      delete Bokeh.index[id];\n",
       "    }\n",
       "\n",
       "    if (server_id !== undefined) {\n",
       "      // Clean up Bokeh references\n",
       "      var cmd = \"from bokeh.io.state import curstate; print(curstate().uuid_to_server['\" + server_id + \"'].get_sessions()[0].document.roots[0]._id)\";\n",
       "      cell.notebook.kernel.execute(cmd, {\n",
       "        iopub: {\n",
       "          output: function(msg) {\n",
       "            var id = msg.content.text.trim();\n",
       "            if (id in Bokeh.index) {\n",
       "              Bokeh.index[id].model.document.clear();\n",
       "              delete Bokeh.index[id];\n",
       "            }\n",
       "          }\n",
       "        }\n",
       "      });\n",
       "      // Destroy server and session\n",
       "      var cmd = \"import bokeh.io.notebook as ion; ion.destroy_server('\" + server_id + \"')\";\n",
       "      cell.notebook.kernel.execute(cmd);\n",
       "    }\n",
       "  }\n",
       "\n",
       "  /**\n",
       "   * Handle when a new output is added\n",
       "   */\n",
       "  function handleAddOutput(event, handle) {\n",
       "    var output_area = handle.output_area;\n",
       "    var output = handle.output;\n",
       "\n",
       "    // limit handleAddOutput to display_data with EXEC_MIME_TYPE content only\n",
       "    if ((output.output_type != \"display_data\") || (!output.data.hasOwnProperty(EXEC_MIME_TYPE))) {\n",
       "      return\n",
       "    }\n",
       "\n",
       "    var toinsert = output_area.element.find(\".\" + CLASS_NAME.split(' ')[0]);\n",
       "\n",
       "    if (output.metadata[EXEC_MIME_TYPE][\"id\"] !== undefined) {\n",
       "      toinsert[toinsert.length - 1].firstChild.textContent = output.data[JS_MIME_TYPE];\n",
       "      // store reference to embed id on output_area\n",
       "      output_area._bokeh_element_id = output.metadata[EXEC_MIME_TYPE][\"id\"];\n",
       "    }\n",
       "    if (output.metadata[EXEC_MIME_TYPE][\"server_id\"] !== undefined) {\n",
       "      var bk_div = document.createElement(\"div\");\n",
       "      bk_div.innerHTML = output.data[HTML_MIME_TYPE];\n",
       "      var script_attrs = bk_div.children[0].attributes;\n",
       "      for (var i = 0; i < script_attrs.length; i++) {\n",
       "        toinsert[toinsert.length - 1].firstChild.setAttribute(script_attrs[i].name, script_attrs[i].value);\n",
       "        toinsert[toinsert.length - 1].firstChild.textContent = bk_div.children[0].textContent\n",
       "      }\n",
       "      // store reference to server id on output_area\n",
       "      output_area._bokeh_server_id = output.metadata[EXEC_MIME_TYPE][\"server_id\"];\n",
       "    }\n",
       "  }\n",
       "\n",
       "  function register_renderer(events, OutputArea) {\n",
       "\n",
       "    function append_mime(data, metadata, element) {\n",
       "      // create a DOM node to render to\n",
       "      var toinsert = this.create_output_subarea(\n",
       "        metadata,\n",
       "        CLASS_NAME,\n",
       "        EXEC_MIME_TYPE\n",
       "      );\n",
       "      this.keyboard_manager.register_events(toinsert);\n",
       "      // Render to node\n",
       "      var props = {data: data, metadata: metadata[EXEC_MIME_TYPE]};\n",
       "      render(props, toinsert[toinsert.length - 1]);\n",
       "      element.append(toinsert);\n",
       "      return toinsert\n",
       "    }\n",
       "\n",
       "    /* Handle when an output is cleared or removed */\n",
       "    events.on('clear_output.CodeCell', handleClearOutput);\n",
       "    events.on('delete.Cell', handleClearOutput);\n",
       "\n",
       "    /* Handle when a new output is added */\n",
       "    events.on('output_added.OutputArea', handleAddOutput);\n",
       "\n",
       "    /**\n",
       "     * Register the mime type and append_mime function with output_area\n",
       "     */\n",
       "    OutputArea.prototype.register_mime_type(EXEC_MIME_TYPE, append_mime, {\n",
       "      /* Is output safe? */\n",
       "      safe: true,\n",
       "      /* Index of renderer in `output_area.display_order` */\n",
       "      index: 0\n",
       "    });\n",
       "  }\n",
       "\n",
       "  // register the mime type if in Jupyter Notebook environment and previously unregistered\n",
       "  if (root.Jupyter !== undefined) {\n",
       "    var events = require('base/js/events');\n",
       "    var OutputArea = require('notebook/js/outputarea').OutputArea;\n",
       "\n",
       "    if (OutputArea.prototype.mime_types().indexOf(EXEC_MIME_TYPE) == -1) {\n",
       "      register_renderer(events, OutputArea);\n",
       "    }\n",
       "  }\n",
       "\n",
       "  \n",
       "  if (typeof (root._bokeh_timeout) === \"undefined\" || force === true) {\n",
       "    root._bokeh_timeout = Date.now() + 5000;\n",
       "    root._bokeh_failed_load = false;\n",
       "  }\n",
       "\n",
       "  var NB_LOAD_WARNING = {'data': {'text/html':\n",
       "     \"<div style='background-color: #fdd'>\\n\"+\n",
       "     \"<p>\\n\"+\n",
       "     \"BokehJS does not appear to have successfully loaded. If loading BokehJS from CDN, this \\n\"+\n",
       "     \"may be due to a slow or bad network connection. Possible fixes:\\n\"+\n",
       "     \"</p>\\n\"+\n",
       "     \"<ul>\\n\"+\n",
       "     \"<li>re-rerun `output_notebook()` to attempt to load from CDN again, or</li>\\n\"+\n",
       "     \"<li>use INLINE resources instead, as so:</li>\\n\"+\n",
       "     \"</ul>\\n\"+\n",
       "     \"<code>\\n\"+\n",
       "     \"from bokeh.resources import INLINE\\n\"+\n",
       "     \"output_notebook(resources=INLINE)\\n\"+\n",
       "     \"</code>\\n\"+\n",
       "     \"</div>\"}};\n",
       "\n",
       "  function display_loaded() {\n",
       "    var el = document.getElementById(\"1281\");\n",
       "    if (el != null) {\n",
       "      el.textContent = \"BokehJS is loading...\";\n",
       "    }\n",
       "    if (root.Bokeh !== undefined) {\n",
       "      if (el != null) {\n",
       "        el.textContent = \"BokehJS \" + root.Bokeh.version + \" successfully loaded.\";\n",
       "      }\n",
       "    } else if (Date.now() < root._bokeh_timeout) {\n",
       "      setTimeout(display_loaded, 100)\n",
       "    }\n",
       "  }\n",
       "\n",
       "\n",
       "  function run_callbacks() {\n",
       "    try {\n",
       "      root._bokeh_onload_callbacks.forEach(function(callback) {\n",
       "        if (callback != null)\n",
       "          callback();\n",
       "      });\n",
       "    } finally {\n",
       "      delete root._bokeh_onload_callbacks\n",
       "    }\n",
       "    console.debug(\"Bokeh: all callbacks have finished\");\n",
       "  }\n",
       "\n",
       "  function load_libs(css_urls, js_urls, callback) {\n",
       "    if (css_urls == null) css_urls = [];\n",
       "    if (js_urls == null) js_urls = [];\n",
       "\n",
       "    root._bokeh_onload_callbacks.push(callback);\n",
       "    if (root._bokeh_is_loading > 0) {\n",
       "      console.debug(\"Bokeh: BokehJS is being loaded, scheduling callback at\", now());\n",
       "      return null;\n",
       "    }\n",
       "    if (js_urls == null || js_urls.length === 0) {\n",
       "      run_callbacks();\n",
       "      return null;\n",
       "    }\n",
       "    console.debug(\"Bokeh: BokehJS not loaded, scheduling load and callback at\", now());\n",
       "    root._bokeh_is_loading = css_urls.length + js_urls.length;\n",
       "\n",
       "    function on_load() {\n",
       "      root._bokeh_is_loading--;\n",
       "      if (root._bokeh_is_loading === 0) {\n",
       "        console.debug(\"Bokeh: all BokehJS libraries/stylesheets loaded\");\n",
       "        run_callbacks()\n",
       "      }\n",
       "    }\n",
       "\n",
       "    function on_error() {\n",
       "      console.error(\"failed to load \" + url);\n",
       "    }\n",
       "\n",
       "    for (var i = 0; i < css_urls.length; i++) {\n",
       "      var url = css_urls[i];\n",
       "      const element = document.createElement(\"link\");\n",
       "      element.onload = on_load;\n",
       "      element.onerror = on_error;\n",
       "      element.rel = \"stylesheet\";\n",
       "      element.type = \"text/css\";\n",
       "      element.href = url;\n",
       "      console.debug(\"Bokeh: injecting link tag for BokehJS stylesheet: \", url);\n",
       "      document.body.appendChild(element);\n",
       "    }\n",
       "\n",
       "    const hashes = {\"https://cdn.bokeh.org/bokeh/release/bokeh-2.1.1.min.js\": \"kLr4fYcqcSpbuI95brIH3vnnYCquzzSxHPU6XGQCIkQRGJwhg0StNbj1eegrHs12\", \"https://cdn.bokeh.org/bokeh/release/bokeh-widgets-2.1.1.min.js\": \"xIGPmVtaOm+z0BqfSOMn4lOR6ciex448GIKG4eE61LsAvmGj48XcMQZtKcE/UXZe\", \"https://cdn.bokeh.org/bokeh/release/bokeh-tables-2.1.1.min.js\": \"Dc9u1wF/0zApGIWoBbH77iWEHtdmkuYWG839Uzmv8y8yBLXebjO9ZnERsde5Ln/P\", \"https://cdn.bokeh.org/bokeh/release/bokeh-gl-2.1.1.min.js\": \"cT9JaBz7GiRXdENrJLZNSC6eMNF3nh3fa5fTF51Svp+ukxPdwcU5kGXGPBgDCa2j\"};\n",
       "\n",
       "    for (var i = 0; i < js_urls.length; i++) {\n",
       "      var url = js_urls[i];\n",
       "      var element = document.createElement('script');\n",
       "      element.onload = on_load;\n",
       "      element.onerror = on_error;\n",
       "      element.async = false;\n",
       "      element.src = url;\n",
       "      if (url in hashes) {\n",
       "        element.crossOrigin = \"anonymous\";\n",
       "        element.integrity = \"sha384-\" + hashes[url];\n",
       "      }\n",
       "      console.debug(\"Bokeh: injecting script tag for BokehJS library: \", url);\n",
       "      document.head.appendChild(element);\n",
       "    }\n",
       "  };\n",
       "\n",
       "  function inject_raw_css(css) {\n",
       "    const element = document.createElement(\"style\");\n",
       "    element.appendChild(document.createTextNode(css));\n",
       "    document.body.appendChild(element);\n",
       "  }\n",
       "\n",
       "  \n",
       "  var js_urls = [\"https://cdn.bokeh.org/bokeh/release/bokeh-2.1.1.min.js\", \"https://cdn.bokeh.org/bokeh/release/bokeh-widgets-2.1.1.min.js\", \"https://cdn.bokeh.org/bokeh/release/bokeh-tables-2.1.1.min.js\", \"https://cdn.bokeh.org/bokeh/release/bokeh-gl-2.1.1.min.js\", \"https://unpkg.com/@holoviz/panel@^0.9.7/dist/panel.min.js\"];\n",
       "  var css_urls = [];\n",
       "  \n",
       "\n",
       "  var inline_js = [\n",
       "    function(Bokeh) {\n",
       "      inject_raw_css(\".panel-widget-box {\\n\\tmin-height: 20px;\\n\\tbackground-color: #f5f5f5;\\n\\tborder: 1px solid #e3e3e3 !important;\\n\\tborder-radius: 4px;\\n\\t-webkit-box-shadow: inset 0 1px 1px rgba(0,0,0,.05);\\n\\tbox-shadow: inset 0 1px 1px rgba(0,0,0,.05);\\n\\toverflow-x: hidden;\\n\\toverflow-y: hidden;\\n}\\n\\n.scrollable {\\n  overflow: scroll;\\n}\\n\\nprogress {\\n\\tappearance: none;\\n\\t-moz-appearance: none;\\n\\t-webkit-appearance: none;\\n\\n\\tborder: none;\\n\\theight: 20px;\\n\\tbackground-color: whiteSmoke;\\n\\tborder-radius: 3px;\\n\\tbox-shadow: 0 2px 3px rgba(0,0,0,.5) inset;\\n\\tcolor: royalblue;\\n\\tposition: relative;\\n\\tmargin: 0 0 1.5em;\\n}\\n\\nprogress[value]::-webkit-progress-bar {\\n\\tbackground-color: whiteSmoke;\\n\\tborder-radius: 3px;\\n\\tbox-shadow: 0 2px 3px rgba(0,0,0,.5) inset;\\n}\\n\\nprogress[value]::-webkit-progress-value {\\n\\tposition: relative;\\n\\n\\tbackground-size: 35px 20px, 100% 100%, 100% 100%;\\n\\tborder-radius:3px;\\n}\\n\\nprogress.active:not([value])::before {\\n\\tbackground-position: 10%;\\n\\tanimation-name: stripes;\\n\\tanimation-duration: 3s;\\n\\tanimation-timing-function: linear;\\n\\tanimation-iteration-count: infinite;\\n}\\n\\nprogress[value]::-moz-progress-bar {\\n\\tbackground-size: 35px 20px, 100% 100%, 100% 100%;\\n\\tborder-radius:3px;\\n}\\n\\nprogress:not([value])::-moz-progress-bar {\\n\\tborder-radius:3px;\\n\\tbackground:\\n\\tlinear-gradient(-45deg, transparent 33%, rgba(0, 0, 0, 0.2) 33%, rgba(0, 0, 0, 0.2) 66%, transparent 66%) left/2.5em 1.5em;\\n\\n}\\n\\nprogress.active:not([value])::-moz-progress-bar {\\n\\tbackground-position: 10%;\\n\\tanimation-name: stripes;\\n\\tanimation-duration: 3s;\\n\\tanimation-timing-function: linear;\\n\\tanimation-iteration-count: infinite;\\n}\\n\\nprogress.active:not([value])::-webkit-progress-bar {\\n\\tbackground-position: 10%;\\n\\tanimation-name: stripes;\\n\\tanimation-duration: 3s;\\n\\tanimation-timing-function: linear;\\n\\tanimation-iteration-count: infinite;\\n}\\n\\nprogress.primary[value]::-webkit-progress-value { background-color: #007bff; }\\nprogress.primary:not([value])::before { background-color: #007bff; }\\nprogress.primary:not([value])::-webkit-progress-bar { background-color: #007bff; }\\nprogress.primary::-moz-progress-bar { background-color: #007bff; }\\n\\nprogress.secondary[value]::-webkit-progress-value { background-color: #6c757d; }\\nprogress.secondary:not([value])::before { background-color: #6c757d; }\\nprogress.secondary:not([value])::-webkit-progress-bar { background-color: #6c757d; }\\nprogress.secondary::-moz-progress-bar { background-color: #6c757d; }\\n\\nprogress.success[value]::-webkit-progress-value { background-color: #28a745; }\\nprogress.success:not([value])::before { background-color: #28a745; }\\nprogress.success:not([value])::-webkit-progress-bar { background-color: #28a745; }\\nprogress.success::-moz-progress-bar { background-color: #28a745; }\\n\\nprogress.danger[value]::-webkit-progress-value { background-color: #dc3545; }\\nprogress.danger:not([value])::before { background-color: #dc3545; }\\nprogress.danger:not([value])::-webkit-progress-bar { background-color: #dc3545; }\\nprogress.danger::-moz-progress-bar { background-color: #dc3545; }\\n\\nprogress.warning[value]::-webkit-progress-value { background-color: #ffc107; }\\nprogress.warning:not([value])::before { background-color: #ffc107; }\\nprogress.warning:not([value])::-webkit-progress-bar { background-color: #ffc107; }\\nprogress.warning::-moz-progress-bar { background-color: #ffc107; }\\n\\nprogress.info[value]::-webkit-progress-value { background-color: #17a2b8; }\\nprogress.info:not([value])::before { background-color: #17a2b8; }\\nprogress.info:not([value])::-webkit-progress-bar { background-color: #17a2b8; }\\nprogress.info::-moz-progress-bar { background-color: #17a2b8; }\\n\\nprogress.light[value]::-webkit-progress-value { background-color: #f8f9fa; }\\nprogress.light:not([value])::before { background-color: #f8f9fa; }\\nprogress.light:not([value])::-webkit-progress-bar { background-color: #f8f9fa; }\\nprogress.light::-moz-progress-bar { background-color: #f8f9fa; }\\n\\nprogress.dark[value]::-webkit-progress-value { background-color: #343a40; }\\nprogress.dark:not([value])::-webkit-progress-bar { background-color: #343a40; }\\nprogress.dark:not([value])::before { background-color: #343a40; }\\nprogress.dark::-moz-progress-bar { background-color: #343a40; }\\n\\nprogress:not([value])::-webkit-progress-bar {\\n\\tborder-radius: 3px;\\n\\tbackground:\\n\\tlinear-gradient(-45deg, transparent 33%, rgba(0, 0, 0, 0.2) 33%, rgba(0, 0, 0, 0.2) 66%, transparent 66%) left/2.5em 1.5em;\\n}\\nprogress:not([value])::before {\\n\\tcontent:\\\" \\\";\\n\\tposition:absolute;\\n\\theight: 20px;\\n\\ttop:0;\\n\\tleft:0;\\n\\tright:0;\\n\\tbottom:0;\\n\\tborder-radius: 3px;\\n\\tbackground:\\n\\tlinear-gradient(-45deg, transparent 33%, rgba(0, 0, 0, 0.2) 33%, rgba(0, 0, 0, 0.2) 66%, transparent 66%) left/2.5em 1.5em;\\n}\\n\\n@keyframes stripes {\\n  from {background-position: 0%}\\n  to {background-position: 100%}\\n}\\n\");\n",
       "    },\n",
       "    function(Bokeh) {\n",
       "      inject_raw_css(\".codehilite .hll { background-color: #ffffcc }\\n.codehilite  { background: #f8f8f8; }\\n.codehilite .c { color: #408080; font-style: italic } /* Comment */\\n.codehilite .err { border: 1px solid #FF0000 } /* Error */\\n.codehilite .k { color: #008000; font-weight: bold } /* Keyword */\\n.codehilite .o { color: #666666 } /* Operator */\\n.codehilite .ch { color: #408080; font-style: italic } /* Comment.Hashbang */\\n.codehilite .cm { color: #408080; font-style: italic } /* Comment.Multiline */\\n.codehilite .cp { color: #BC7A00 } /* Comment.Preproc */\\n.codehilite .cpf { color: #408080; font-style: italic } /* Comment.PreprocFile */\\n.codehilite .c1 { color: #408080; font-style: italic } /* Comment.Single */\\n.codehilite .cs { color: #408080; font-style: italic } /* Comment.Special */\\n.codehilite .gd { color: #A00000 } /* Generic.Deleted */\\n.codehilite .ge { font-style: italic } /* Generic.Emph */\\n.codehilite .gr { color: #FF0000 } /* Generic.Error */\\n.codehilite .gh { color: #000080; font-weight: bold } /* Generic.Heading */\\n.codehilite .gi { color: #00A000 } /* Generic.Inserted */\\n.codehilite .go { color: #888888 } /* Generic.Output */\\n.codehilite .gp { color: #000080; font-weight: bold } /* Generic.Prompt */\\n.codehilite .gs { font-weight: bold } /* Generic.Strong */\\n.codehilite .gu { color: #800080; font-weight: bold } /* Generic.Subheading */\\n.codehilite .gt { color: #0044DD } /* Generic.Traceback */\\n.codehilite .kc { color: #008000; font-weight: bold } /* Keyword.Constant */\\n.codehilite .kd { color: #008000; font-weight: bold } /* Keyword.Declaration */\\n.codehilite .kn { color: #008000; font-weight: bold } /* Keyword.Namespace */\\n.codehilite .kp { color: #008000 } /* Keyword.Pseudo */\\n.codehilite .kr { color: #008000; font-weight: bold } /* Keyword.Reserved */\\n.codehilite .kt { color: #B00040 } /* Keyword.Type */\\n.codehilite .m { color: #666666 } /* Literal.Number */\\n.codehilite .s { color: #BA2121 } /* Literal.String */\\n.codehilite .na { color: #7D9029 } /* Name.Attribute */\\n.codehilite .nb { color: #008000 } /* Name.Builtin */\\n.codehilite .nc { color: #0000FF; font-weight: bold } /* Name.Class */\\n.codehilite .no { color: #880000 } /* Name.Constant */\\n.codehilite .nd { color: #AA22FF } /* Name.Decorator */\\n.codehilite .ni { color: #999999; font-weight: bold } /* Name.Entity */\\n.codehilite .ne { color: #D2413A; font-weight: bold } /* Name.Exception */\\n.codehilite .nf { color: #0000FF } /* Name.Function */\\n.codehilite .nl { color: #A0A000 } /* Name.Label */\\n.codehilite .nn { color: #0000FF; font-weight: bold } /* Name.Namespace */\\n.codehilite .nt { color: #008000; font-weight: bold } /* Name.Tag */\\n.codehilite .nv { color: #19177C } /* Name.Variable */\\n.codehilite .ow { color: #AA22FF; font-weight: bold } /* Operator.Word */\\n.codehilite .w { color: #bbbbbb } /* Text.Whitespace */\\n.codehilite .mb { color: #666666 } /* Literal.Number.Bin */\\n.codehilite .mf { color: #666666 } /* Literal.Number.Float */\\n.codehilite .mh { color: #666666 } /* Literal.Number.Hex */\\n.codehilite .mi { color: #666666 } /* Literal.Number.Integer */\\n.codehilite .mo { color: #666666 } /* Literal.Number.Oct */\\n.codehilite .sa { color: #BA2121 } /* Literal.String.Affix */\\n.codehilite .sb { color: #BA2121 } /* Literal.String.Backtick */\\n.codehilite .sc { color: #BA2121 } /* Literal.String.Char */\\n.codehilite .dl { color: #BA2121 } /* Literal.String.Delimiter */\\n.codehilite .sd { color: #BA2121; font-style: italic } /* Literal.String.Doc */\\n.codehilite .s2 { color: #BA2121 } /* Literal.String.Double */\\n.codehilite .se { color: #BB6622; font-weight: bold } /* Literal.String.Escape */\\n.codehilite .sh { color: #BA2121 } /* Literal.String.Heredoc */\\n.codehilite .si { color: #BB6688; font-weight: bold } /* Literal.String.Interpol */\\n.codehilite .sx { color: #008000 } /* Literal.String.Other */\\n.codehilite .sr { color: #BB6688 } /* Literal.String.Regex */\\n.codehilite .s1 { color: #BA2121 } /* Literal.String.Single */\\n.codehilite .ss { color: #19177C } /* Literal.String.Symbol */\\n.codehilite .bp { color: #008000 } /* Name.Builtin.Pseudo */\\n.codehilite .fm { color: #0000FF } /* Name.Function.Magic */\\n.codehilite .vc { color: #19177C } /* Name.Variable.Class */\\n.codehilite .vg { color: #19177C } /* Name.Variable.Global */\\n.codehilite .vi { color: #19177C } /* Name.Variable.Instance */\\n.codehilite .vm { color: #19177C } /* Name.Variable.Magic */\\n.codehilite .il { color: #666666 } /* Literal.Number.Integer.Long */\\n\\n.markdown h1 { margin-block-start: 0.34em }\\n.markdown h2 { margin-block-start: 0.42em }\\n.markdown h3 { margin-block-start: 0.5em }\\n.markdown h4 { margin-block-start: 0.67em }\\n.markdown h5 { margin-block-start: 0.84em }\\n.markdown h6 { margin-block-start: 1.17em }\\n.markdown ul { padding-inline-start: 2em }\\n.markdown ol { padding-inline-start: 2em }\\n.markdown strong { font-weight: 600 }\\n.markdown a { color: -webkit-link }\\n.markdown a { color: -moz-hyperlinkText }\\n\");\n",
       "    },\n",
       "    function(Bokeh) {\n",
       "      inject_raw_css(\".json-formatter-row {\\n  font-family: monospace;\\n}\\n.json-formatter-row,\\n.json-formatter-row a,\\n.json-formatter-row a:hover {\\n  color: black;\\n  text-decoration: none;\\n}\\n.json-formatter-row .json-formatter-row {\\n  margin-left: 1rem;\\n}\\n.json-formatter-row .json-formatter-children.json-formatter-empty {\\n  opacity: 0.5;\\n  margin-left: 1rem;\\n}\\n.json-formatter-row .json-formatter-children.json-formatter-empty:after {\\n  display: none;\\n}\\n.json-formatter-row .json-formatter-children.json-formatter-empty.json-formatter-object:after {\\n  content: \\\"No properties\\\";\\n}\\n.json-formatter-row .json-formatter-children.json-formatter-empty.json-formatter-array:after {\\n  content: \\\"[]\\\";\\n}\\n.json-formatter-row .json-formatter-string,\\n.json-formatter-row .json-formatter-stringifiable {\\n  color: green;\\n  white-space: pre;\\n  word-wrap: break-word;\\n}\\n.json-formatter-row .json-formatter-number {\\n  color: blue;\\n}\\n.json-formatter-row .json-formatter-boolean {\\n  color: red;\\n}\\n.json-formatter-row .json-formatter-null {\\n  color: #855A00;\\n}\\n.json-formatter-row .json-formatter-undefined {\\n  color: #ca0b69;\\n}\\n.json-formatter-row .json-formatter-function {\\n  color: #FF20ED;\\n}\\n.json-formatter-row .json-formatter-date {\\n  background-color: rgba(0, 0, 0, 0.05);\\n}\\n.json-formatter-row .json-formatter-url {\\n  text-decoration: underline;\\n  color: blue;\\n  cursor: pointer;\\n}\\n.json-formatter-row .json-formatter-bracket {\\n  color: blue;\\n}\\n.json-formatter-row .json-formatter-key {\\n  color: #00008B;\\n  padding-right: 0.2rem;\\n}\\n.json-formatter-row .json-formatter-toggler-link {\\n  cursor: pointer;\\n}\\n.json-formatter-row .json-formatter-toggler {\\n  line-height: 1.2rem;\\n  font-size: 0.7rem;\\n  vertical-align: middle;\\n  opacity: 0.6;\\n  cursor: pointer;\\n  padding-right: 0.2rem;\\n}\\n.json-formatter-row .json-formatter-toggler:after {\\n  display: inline-block;\\n  transition: transform 100ms ease-in;\\n  content: \\\"\\\\25BA\\\";\\n}\\n.json-formatter-row > a > .json-formatter-preview-text {\\n  opacity: 0;\\n  transition: opacity 0.15s ease-in;\\n  font-style: italic;\\n}\\n.json-formatter-row:hover > a > .json-formatter-preview-text {\\n  opacity: 0.6;\\n}\\n.json-formatter-row.json-formatter-open > .json-formatter-toggler-link .json-formatter-toggler:after {\\n  transform: rotate(90deg);\\n}\\n.json-formatter-row.json-formatter-open > .json-formatter-children:after {\\n  display: inline-block;\\n}\\n.json-formatter-row.json-formatter-open > a > .json-formatter-preview-text {\\n  display: none;\\n}\\n.json-formatter-row.json-formatter-open.json-formatter-empty:after {\\n  display: block;\\n}\\n.json-formatter-dark.json-formatter-row {\\n  font-family: monospace;\\n}\\n.json-formatter-dark.json-formatter-row,\\n.json-formatter-dark.json-formatter-row a,\\n.json-formatter-dark.json-formatter-row a:hover {\\n  color: white;\\n  text-decoration: none;\\n}\\n.json-formatter-dark.json-formatter-row .json-formatter-row {\\n  margin-left: 1rem;\\n}\\n.json-formatter-dark.json-formatter-row .json-formatter-children.json-formatter-empty {\\n  opacity: 0.5;\\n  margin-left: 1rem;\\n}\\n.json-formatter-dark.json-formatter-row .json-formatter-children.json-formatter-empty:after {\\n  display: none;\\n}\\n.json-formatter-dark.json-formatter-row .json-formatter-children.json-formatter-empty.json-formatter-object:after {\\n  content: \\\"No properties\\\";\\n}\\n.json-formatter-dark.json-formatter-row .json-formatter-children.json-formatter-empty.json-formatter-array:after {\\n  content: \\\"[]\\\";\\n}\\n.json-formatter-dark.json-formatter-row .json-formatter-string,\\n.json-formatter-dark.json-formatter-row .json-formatter-stringifiable {\\n  color: #31F031;\\n  white-space: pre;\\n  word-wrap: break-word;\\n}\\n.json-formatter-dark.json-formatter-row .json-formatter-number {\\n  color: #66C2FF;\\n}\\n.json-formatter-dark.json-formatter-row .json-formatter-boolean {\\n  color: #EC4242;\\n}\\n.json-formatter-dark.json-formatter-row .json-formatter-null {\\n  color: #EEC97D;\\n}\\n.json-formatter-dark.json-formatter-row .json-formatter-undefined {\\n  color: #ef8fbe;\\n}\\n.json-formatter-dark.json-formatter-row .json-formatter-function {\\n  color: #FD48CB;\\n}\\n.json-formatter-dark.json-formatter-row .json-formatter-date {\\n  background-color: rgba(255, 255, 255, 0.05);\\n}\\n.json-formatter-dark.json-formatter-row .json-formatter-url {\\n  text-decoration: underline;\\n  color: #027BFF;\\n  cursor: pointer;\\n}\\n.json-formatter-dark.json-formatter-row .json-formatter-bracket {\\n  color: #9494FF;\\n}\\n.json-formatter-dark.json-formatter-row .json-formatter-key {\\n  color: #23A0DB;\\n  padding-right: 0.2rem;\\n}\\n.json-formatter-dark.json-formatter-row .json-formatter-toggler-link {\\n  cursor: pointer;\\n}\\n.json-formatter-dark.json-formatter-row .json-formatter-toggler {\\n  line-height: 1.2rem;\\n  font-size: 0.7rem;\\n  vertical-align: middle;\\n  opacity: 0.6;\\n  cursor: pointer;\\n  padding-right: 0.2rem;\\n}\\n.json-formatter-dark.json-formatter-row .json-formatter-toggler:after {\\n  display: inline-block;\\n  transition: transform 100ms ease-in;\\n  content: \\\"\\\\25BA\\\";\\n}\\n.json-formatter-dark.json-formatter-row > a > .json-formatter-preview-text {\\n  opacity: 0;\\n  transition: opacity 0.15s ease-in;\\n  font-style: italic;\\n}\\n.json-formatter-dark.json-formatter-row:hover > a > .json-formatter-preview-text {\\n  opacity: 0.6;\\n}\\n.json-formatter-dark.json-formatter-row.json-formatter-open > .json-formatter-toggler-link .json-formatter-toggler:after {\\n  transform: rotate(90deg);\\n}\\n.json-formatter-dark.json-formatter-row.json-formatter-open > .json-formatter-children:after {\\n  display: inline-block;\\n}\\n.json-formatter-dark.json-formatter-row.json-formatter-open > a > .json-formatter-preview-text {\\n  display: none;\\n}\\n.json-formatter-dark.json-formatter-row.json-formatter-open.json-formatter-empty:after {\\n  display: block;\\n}\\n\");\n",
       "    },\n",
       "    function(Bokeh) {\n",
       "      inject_raw_css(\"table.panel-df {\\n    margin-left: auto;\\n    margin-right: auto;\\n    border: none;\\n    border-collapse: collapse;\\n    border-spacing: 0;\\n    color: black;\\n    font-size: 12px;\\n    table-layout: fixed;\\n    width: 100%;\\n}\\n\\n.panel-df tr, .panel-df th, .panel-df td {\\n    text-align: right;\\n    vertical-align: middle;\\n    padding: 0.5em 0.5em !important;\\n    line-height: normal;\\n    white-space: normal;\\n    max-width: none;\\n    border: none;\\n}\\n\\n.panel-df tbody {\\n    display: table-row-group;\\n    vertical-align: middle;\\n    border-color: inherit;\\n}\\n\\n.panel-df tbody tr:nth-child(odd) {\\n    background: #f5f5f5;\\n}\\n\\n.panel-df thead {\\n    border-bottom: 1px solid black;\\n    vertical-align: bottom;\\n}\\n\\n.panel-df tr:hover {\\n    background: lightblue !important;\\n    cursor: pointer;\\n}\\n\");\n",
       "    },\n",
       "    function(Bokeh) {\n",
       "      Bokeh.set_log_level(\"info\");\n",
       "    },\n",
       "    function(Bokeh) {\n",
       "    \n",
       "    \n",
       "    }\n",
       "  ];\n",
       "\n",
       "  function run_inline_js() {\n",
       "    \n",
       "    if (root.Bokeh !== undefined || force === true) {\n",
       "      \n",
       "    for (var i = 0; i < inline_js.length; i++) {\n",
       "      inline_js[i].call(root, root.Bokeh);\n",
       "    }\n",
       "    if (force === true) {\n",
       "        display_loaded();\n",
       "      }} else if (Date.now() < root._bokeh_timeout) {\n",
       "      setTimeout(run_inline_js, 100);\n",
       "    } else if (!root._bokeh_failed_load) {\n",
       "      console.log(\"Bokeh: BokehJS failed to load within specified timeout.\");\n",
       "      root._bokeh_failed_load = true;\n",
       "    } else if (force !== true) {\n",
       "      var cell = $(document.getElementById(\"1281\")).parents('.cell').data().cell;\n",
       "      cell.output_area.append_execute_result(NB_LOAD_WARNING)\n",
       "    }\n",
       "\n",
       "  }\n",
       "\n",
       "  if (root._bokeh_is_loading === 0) {\n",
       "    console.debug(\"Bokeh: BokehJS loaded, going straight to plotting\");\n",
       "    run_inline_js();\n",
       "  } else {\n",
       "    load_libs(css_urls, js_urls, function() {\n",
       "      console.debug(\"Bokeh: BokehJS plotting callback run at\", now());\n",
       "      run_inline_js();\n",
       "    });\n",
       "  }\n",
       "}(window));"
      ],
      "application/vnd.bokehjs_load.v0+json": "\n(function(root) {\n  function now() {\n    return new Date();\n  }\n\n  var force = true;\n\n  if (typeof root._bokeh_onload_callbacks === \"undefined\" || force === true) {\n    root._bokeh_onload_callbacks = [];\n    root._bokeh_is_loading = undefined;\n  }\n\n  \n\n  \n  if (typeof (root._bokeh_timeout) === \"undefined\" || force === true) {\n    root._bokeh_timeout = Date.now() + 5000;\n    root._bokeh_failed_load = false;\n  }\n\n  var NB_LOAD_WARNING = {'data': {'text/html':\n     \"<div style='background-color: #fdd'>\\n\"+\n     \"<p>\\n\"+\n     \"BokehJS does not appear to have successfully loaded. If loading BokehJS from CDN, this \\n\"+\n     \"may be due to a slow or bad network connection. Possible fixes:\\n\"+\n     \"</p>\\n\"+\n     \"<ul>\\n\"+\n     \"<li>re-rerun `output_notebook()` to attempt to load from CDN again, or</li>\\n\"+\n     \"<li>use INLINE resources instead, as so:</li>\\n\"+\n     \"</ul>\\n\"+\n     \"<code>\\n\"+\n     \"from bokeh.resources import INLINE\\n\"+\n     \"output_notebook(resources=INLINE)\\n\"+\n     \"</code>\\n\"+\n     \"</div>\"}};\n\n  function display_loaded() {\n    var el = document.getElementById(\"1281\");\n    if (el != null) {\n      el.textContent = \"BokehJS is loading...\";\n    }\n    if (root.Bokeh !== undefined) {\n      if (el != null) {\n        el.textContent = \"BokehJS \" + root.Bokeh.version + \" successfully loaded.\";\n      }\n    } else if (Date.now() < root._bokeh_timeout) {\n      setTimeout(display_loaded, 100)\n    }\n  }\n\n\n  function run_callbacks() {\n    try {\n      root._bokeh_onload_callbacks.forEach(function(callback) {\n        if (callback != null)\n          callback();\n      });\n    } finally {\n      delete root._bokeh_onload_callbacks\n    }\n    console.debug(\"Bokeh: all callbacks have finished\");\n  }\n\n  function load_libs(css_urls, js_urls, callback) {\n    if (css_urls == null) css_urls = [];\n    if (js_urls == null) js_urls = [];\n\n    root._bokeh_onload_callbacks.push(callback);\n    if (root._bokeh_is_loading > 0) {\n      console.debug(\"Bokeh: BokehJS is being loaded, scheduling callback at\", now());\n      return null;\n    }\n    if (js_urls == null || js_urls.length === 0) {\n      run_callbacks();\n      return null;\n    }\n    console.debug(\"Bokeh: BokehJS not loaded, scheduling load and callback at\", now());\n    root._bokeh_is_loading = css_urls.length + js_urls.length;\n\n    function on_load() {\n      root._bokeh_is_loading--;\n      if (root._bokeh_is_loading === 0) {\n        console.debug(\"Bokeh: all BokehJS libraries/stylesheets loaded\");\n        run_callbacks()\n      }\n    }\n\n    function on_error() {\n      console.error(\"failed to load \" + url);\n    }\n\n    for (var i = 0; i < css_urls.length; i++) {\n      var url = css_urls[i];\n      const element = document.createElement(\"link\");\n      element.onload = on_load;\n      element.onerror = on_error;\n      element.rel = \"stylesheet\";\n      element.type = \"text/css\";\n      element.href = url;\n      console.debug(\"Bokeh: injecting link tag for BokehJS stylesheet: \", url);\n      document.body.appendChild(element);\n    }\n\n    const hashes = {\"https://cdn.bokeh.org/bokeh/release/bokeh-2.1.1.min.js\": \"kLr4fYcqcSpbuI95brIH3vnnYCquzzSxHPU6XGQCIkQRGJwhg0StNbj1eegrHs12\", \"https://cdn.bokeh.org/bokeh/release/bokeh-widgets-2.1.1.min.js\": \"xIGPmVtaOm+z0BqfSOMn4lOR6ciex448GIKG4eE61LsAvmGj48XcMQZtKcE/UXZe\", \"https://cdn.bokeh.org/bokeh/release/bokeh-tables-2.1.1.min.js\": \"Dc9u1wF/0zApGIWoBbH77iWEHtdmkuYWG839Uzmv8y8yBLXebjO9ZnERsde5Ln/P\", \"https://cdn.bokeh.org/bokeh/release/bokeh-gl-2.1.1.min.js\": \"cT9JaBz7GiRXdENrJLZNSC6eMNF3nh3fa5fTF51Svp+ukxPdwcU5kGXGPBgDCa2j\"};\n\n    for (var i = 0; i < js_urls.length; i++) {\n      var url = js_urls[i];\n      var element = document.createElement('script');\n      element.onload = on_load;\n      element.onerror = on_error;\n      element.async = false;\n      element.src = url;\n      if (url in hashes) {\n        element.crossOrigin = \"anonymous\";\n        element.integrity = \"sha384-\" + hashes[url];\n      }\n      console.debug(\"Bokeh: injecting script tag for BokehJS library: \", url);\n      document.head.appendChild(element);\n    }\n  };\n\n  function inject_raw_css(css) {\n    const element = document.createElement(\"style\");\n    element.appendChild(document.createTextNode(css));\n    document.body.appendChild(element);\n  }\n\n  \n  var js_urls = [\"https://cdn.bokeh.org/bokeh/release/bokeh-2.1.1.min.js\", \"https://cdn.bokeh.org/bokeh/release/bokeh-widgets-2.1.1.min.js\", \"https://cdn.bokeh.org/bokeh/release/bokeh-tables-2.1.1.min.js\", \"https://cdn.bokeh.org/bokeh/release/bokeh-gl-2.1.1.min.js\", \"https://unpkg.com/@holoviz/panel@^0.9.7/dist/panel.min.js\"];\n  var css_urls = [];\n  \n\n  var inline_js = [\n    function(Bokeh) {\n      inject_raw_css(\".panel-widget-box {\\n\\tmin-height: 20px;\\n\\tbackground-color: #f5f5f5;\\n\\tborder: 1px solid #e3e3e3 !important;\\n\\tborder-radius: 4px;\\n\\t-webkit-box-shadow: inset 0 1px 1px rgba(0,0,0,.05);\\n\\tbox-shadow: inset 0 1px 1px rgba(0,0,0,.05);\\n\\toverflow-x: hidden;\\n\\toverflow-y: hidden;\\n}\\n\\n.scrollable {\\n  overflow: scroll;\\n}\\n\\nprogress {\\n\\tappearance: none;\\n\\t-moz-appearance: none;\\n\\t-webkit-appearance: none;\\n\\n\\tborder: none;\\n\\theight: 20px;\\n\\tbackground-color: whiteSmoke;\\n\\tborder-radius: 3px;\\n\\tbox-shadow: 0 2px 3px rgba(0,0,0,.5) inset;\\n\\tcolor: royalblue;\\n\\tposition: relative;\\n\\tmargin: 0 0 1.5em;\\n}\\n\\nprogress[value]::-webkit-progress-bar {\\n\\tbackground-color: whiteSmoke;\\n\\tborder-radius: 3px;\\n\\tbox-shadow: 0 2px 3px rgba(0,0,0,.5) inset;\\n}\\n\\nprogress[value]::-webkit-progress-value {\\n\\tposition: relative;\\n\\n\\tbackground-size: 35px 20px, 100% 100%, 100% 100%;\\n\\tborder-radius:3px;\\n}\\n\\nprogress.active:not([value])::before {\\n\\tbackground-position: 10%;\\n\\tanimation-name: stripes;\\n\\tanimation-duration: 3s;\\n\\tanimation-timing-function: linear;\\n\\tanimation-iteration-count: infinite;\\n}\\n\\nprogress[value]::-moz-progress-bar {\\n\\tbackground-size: 35px 20px, 100% 100%, 100% 100%;\\n\\tborder-radius:3px;\\n}\\n\\nprogress:not([value])::-moz-progress-bar {\\n\\tborder-radius:3px;\\n\\tbackground:\\n\\tlinear-gradient(-45deg, transparent 33%, rgba(0, 0, 0, 0.2) 33%, rgba(0, 0, 0, 0.2) 66%, transparent 66%) left/2.5em 1.5em;\\n\\n}\\n\\nprogress.active:not([value])::-moz-progress-bar {\\n\\tbackground-position: 10%;\\n\\tanimation-name: stripes;\\n\\tanimation-duration: 3s;\\n\\tanimation-timing-function: linear;\\n\\tanimation-iteration-count: infinite;\\n}\\n\\nprogress.active:not([value])::-webkit-progress-bar {\\n\\tbackground-position: 10%;\\n\\tanimation-name: stripes;\\n\\tanimation-duration: 3s;\\n\\tanimation-timing-function: linear;\\n\\tanimation-iteration-count: infinite;\\n}\\n\\nprogress.primary[value]::-webkit-progress-value { background-color: #007bff; }\\nprogress.primary:not([value])::before { background-color: #007bff; }\\nprogress.primary:not([value])::-webkit-progress-bar { background-color: #007bff; }\\nprogress.primary::-moz-progress-bar { background-color: #007bff; }\\n\\nprogress.secondary[value]::-webkit-progress-value { background-color: #6c757d; }\\nprogress.secondary:not([value])::before { background-color: #6c757d; }\\nprogress.secondary:not([value])::-webkit-progress-bar { background-color: #6c757d; }\\nprogress.secondary::-moz-progress-bar { background-color: #6c757d; }\\n\\nprogress.success[value]::-webkit-progress-value { background-color: #28a745; }\\nprogress.success:not([value])::before { background-color: #28a745; }\\nprogress.success:not([value])::-webkit-progress-bar { background-color: #28a745; }\\nprogress.success::-moz-progress-bar { background-color: #28a745; }\\n\\nprogress.danger[value]::-webkit-progress-value { background-color: #dc3545; }\\nprogress.danger:not([value])::before { background-color: #dc3545; }\\nprogress.danger:not([value])::-webkit-progress-bar { background-color: #dc3545; }\\nprogress.danger::-moz-progress-bar { background-color: #dc3545; }\\n\\nprogress.warning[value]::-webkit-progress-value { background-color: #ffc107; }\\nprogress.warning:not([value])::before { background-color: #ffc107; }\\nprogress.warning:not([value])::-webkit-progress-bar { background-color: #ffc107; }\\nprogress.warning::-moz-progress-bar { background-color: #ffc107; }\\n\\nprogress.info[value]::-webkit-progress-value { background-color: #17a2b8; }\\nprogress.info:not([value])::before { background-color: #17a2b8; }\\nprogress.info:not([value])::-webkit-progress-bar { background-color: #17a2b8; }\\nprogress.info::-moz-progress-bar { background-color: #17a2b8; }\\n\\nprogress.light[value]::-webkit-progress-value { background-color: #f8f9fa; }\\nprogress.light:not([value])::before { background-color: #f8f9fa; }\\nprogress.light:not([value])::-webkit-progress-bar { background-color: #f8f9fa; }\\nprogress.light::-moz-progress-bar { background-color: #f8f9fa; }\\n\\nprogress.dark[value]::-webkit-progress-value { background-color: #343a40; }\\nprogress.dark:not([value])::-webkit-progress-bar { background-color: #343a40; }\\nprogress.dark:not([value])::before { background-color: #343a40; }\\nprogress.dark::-moz-progress-bar { background-color: #343a40; }\\n\\nprogress:not([value])::-webkit-progress-bar {\\n\\tborder-radius: 3px;\\n\\tbackground:\\n\\tlinear-gradient(-45deg, transparent 33%, rgba(0, 0, 0, 0.2) 33%, rgba(0, 0, 0, 0.2) 66%, transparent 66%) left/2.5em 1.5em;\\n}\\nprogress:not([value])::before {\\n\\tcontent:\\\" \\\";\\n\\tposition:absolute;\\n\\theight: 20px;\\n\\ttop:0;\\n\\tleft:0;\\n\\tright:0;\\n\\tbottom:0;\\n\\tborder-radius: 3px;\\n\\tbackground:\\n\\tlinear-gradient(-45deg, transparent 33%, rgba(0, 0, 0, 0.2) 33%, rgba(0, 0, 0, 0.2) 66%, transparent 66%) left/2.5em 1.5em;\\n}\\n\\n@keyframes stripes {\\n  from {background-position: 0%}\\n  to {background-position: 100%}\\n}\\n\");\n    },\n    function(Bokeh) {\n      inject_raw_css(\".codehilite .hll { background-color: #ffffcc }\\n.codehilite  { background: #f8f8f8; }\\n.codehilite .c { color: #408080; font-style: italic } /* Comment */\\n.codehilite .err { border: 1px solid #FF0000 } /* Error */\\n.codehilite .k { color: #008000; font-weight: bold } /* Keyword */\\n.codehilite .o { color: #666666 } /* Operator */\\n.codehilite .ch { color: #408080; font-style: italic } /* Comment.Hashbang */\\n.codehilite .cm { color: #408080; font-style: italic } /* Comment.Multiline */\\n.codehilite .cp { color: #BC7A00 } /* Comment.Preproc */\\n.codehilite .cpf { color: #408080; font-style: italic } /* Comment.PreprocFile */\\n.codehilite .c1 { color: #408080; font-style: italic } /* Comment.Single */\\n.codehilite .cs { color: #408080; font-style: italic } /* Comment.Special */\\n.codehilite .gd { color: #A00000 } /* Generic.Deleted */\\n.codehilite .ge { font-style: italic } /* Generic.Emph */\\n.codehilite .gr { color: #FF0000 } /* Generic.Error */\\n.codehilite .gh { color: #000080; font-weight: bold } /* Generic.Heading */\\n.codehilite .gi { color: #00A000 } /* Generic.Inserted */\\n.codehilite .go { color: #888888 } /* Generic.Output */\\n.codehilite .gp { color: #000080; font-weight: bold } /* Generic.Prompt */\\n.codehilite .gs { font-weight: bold } /* Generic.Strong */\\n.codehilite .gu { color: #800080; font-weight: bold } /* Generic.Subheading */\\n.codehilite .gt { color: #0044DD } /* Generic.Traceback */\\n.codehilite .kc { color: #008000; font-weight: bold } /* Keyword.Constant */\\n.codehilite .kd { color: #008000; font-weight: bold } /* Keyword.Declaration */\\n.codehilite .kn { color: #008000; font-weight: bold } /* Keyword.Namespace */\\n.codehilite .kp { color: #008000 } /* Keyword.Pseudo */\\n.codehilite .kr { color: #008000; font-weight: bold } /* Keyword.Reserved */\\n.codehilite .kt { color: #B00040 } /* Keyword.Type */\\n.codehilite .m { color: #666666 } /* Literal.Number */\\n.codehilite .s { color: #BA2121 } /* Literal.String */\\n.codehilite .na { color: #7D9029 } /* Name.Attribute */\\n.codehilite .nb { color: #008000 } /* Name.Builtin */\\n.codehilite .nc { color: #0000FF; font-weight: bold } /* Name.Class */\\n.codehilite .no { color: #880000 } /* Name.Constant */\\n.codehilite .nd { color: #AA22FF } /* Name.Decorator */\\n.codehilite .ni { color: #999999; font-weight: bold } /* Name.Entity */\\n.codehilite .ne { color: #D2413A; font-weight: bold } /* Name.Exception */\\n.codehilite .nf { color: #0000FF } /* Name.Function */\\n.codehilite .nl { color: #A0A000 } /* Name.Label */\\n.codehilite .nn { color: #0000FF; font-weight: bold } /* Name.Namespace */\\n.codehilite .nt { color: #008000; font-weight: bold } /* Name.Tag */\\n.codehilite .nv { color: #19177C } /* Name.Variable */\\n.codehilite .ow { color: #AA22FF; font-weight: bold } /* Operator.Word */\\n.codehilite .w { color: #bbbbbb } /* Text.Whitespace */\\n.codehilite .mb { color: #666666 } /* Literal.Number.Bin */\\n.codehilite .mf { color: #666666 } /* Literal.Number.Float */\\n.codehilite .mh { color: #666666 } /* Literal.Number.Hex */\\n.codehilite .mi { color: #666666 } /* Literal.Number.Integer */\\n.codehilite .mo { color: #666666 } /* Literal.Number.Oct */\\n.codehilite .sa { color: #BA2121 } /* Literal.String.Affix */\\n.codehilite .sb { color: #BA2121 } /* Literal.String.Backtick */\\n.codehilite .sc { color: #BA2121 } /* Literal.String.Char */\\n.codehilite .dl { color: #BA2121 } /* Literal.String.Delimiter */\\n.codehilite .sd { color: #BA2121; font-style: italic } /* Literal.String.Doc */\\n.codehilite .s2 { color: #BA2121 } /* Literal.String.Double */\\n.codehilite .se { color: #BB6622; font-weight: bold } /* Literal.String.Escape */\\n.codehilite .sh { color: #BA2121 } /* Literal.String.Heredoc */\\n.codehilite .si { color: #BB6688; font-weight: bold } /* Literal.String.Interpol */\\n.codehilite .sx { color: #008000 } /* Literal.String.Other */\\n.codehilite .sr { color: #BB6688 } /* Literal.String.Regex */\\n.codehilite .s1 { color: #BA2121 } /* Literal.String.Single */\\n.codehilite .ss { color: #19177C } /* Literal.String.Symbol */\\n.codehilite .bp { color: #008000 } /* Name.Builtin.Pseudo */\\n.codehilite .fm { color: #0000FF } /* Name.Function.Magic */\\n.codehilite .vc { color: #19177C } /* Name.Variable.Class */\\n.codehilite .vg { color: #19177C } /* Name.Variable.Global */\\n.codehilite .vi { color: #19177C } /* Name.Variable.Instance */\\n.codehilite .vm { color: #19177C } /* Name.Variable.Magic */\\n.codehilite .il { color: #666666 } /* Literal.Number.Integer.Long */\\n\\n.markdown h1 { margin-block-start: 0.34em }\\n.markdown h2 { margin-block-start: 0.42em }\\n.markdown h3 { margin-block-start: 0.5em }\\n.markdown h4 { margin-block-start: 0.67em }\\n.markdown h5 { margin-block-start: 0.84em }\\n.markdown h6 { margin-block-start: 1.17em }\\n.markdown ul { padding-inline-start: 2em }\\n.markdown ol { padding-inline-start: 2em }\\n.markdown strong { font-weight: 600 }\\n.markdown a { color: -webkit-link }\\n.markdown a { color: -moz-hyperlinkText }\\n\");\n    },\n    function(Bokeh) {\n      inject_raw_css(\".json-formatter-row {\\n  font-family: monospace;\\n}\\n.json-formatter-row,\\n.json-formatter-row a,\\n.json-formatter-row a:hover {\\n  color: black;\\n  text-decoration: none;\\n}\\n.json-formatter-row .json-formatter-row {\\n  margin-left: 1rem;\\n}\\n.json-formatter-row .json-formatter-children.json-formatter-empty {\\n  opacity: 0.5;\\n  margin-left: 1rem;\\n}\\n.json-formatter-row .json-formatter-children.json-formatter-empty:after {\\n  display: none;\\n}\\n.json-formatter-row .json-formatter-children.json-formatter-empty.json-formatter-object:after {\\n  content: \\\"No properties\\\";\\n}\\n.json-formatter-row .json-formatter-children.json-formatter-empty.json-formatter-array:after {\\n  content: \\\"[]\\\";\\n}\\n.json-formatter-row .json-formatter-string,\\n.json-formatter-row .json-formatter-stringifiable {\\n  color: green;\\n  white-space: pre;\\n  word-wrap: break-word;\\n}\\n.json-formatter-row .json-formatter-number {\\n  color: blue;\\n}\\n.json-formatter-row .json-formatter-boolean {\\n  color: red;\\n}\\n.json-formatter-row .json-formatter-null {\\n  color: #855A00;\\n}\\n.json-formatter-row .json-formatter-undefined {\\n  color: #ca0b69;\\n}\\n.json-formatter-row .json-formatter-function {\\n  color: #FF20ED;\\n}\\n.json-formatter-row .json-formatter-date {\\n  background-color: rgba(0, 0, 0, 0.05);\\n}\\n.json-formatter-row .json-formatter-url {\\n  text-decoration: underline;\\n  color: blue;\\n  cursor: pointer;\\n}\\n.json-formatter-row .json-formatter-bracket {\\n  color: blue;\\n}\\n.json-formatter-row .json-formatter-key {\\n  color: #00008B;\\n  padding-right: 0.2rem;\\n}\\n.json-formatter-row .json-formatter-toggler-link {\\n  cursor: pointer;\\n}\\n.json-formatter-row .json-formatter-toggler {\\n  line-height: 1.2rem;\\n  font-size: 0.7rem;\\n  vertical-align: middle;\\n  opacity: 0.6;\\n  cursor: pointer;\\n  padding-right: 0.2rem;\\n}\\n.json-formatter-row .json-formatter-toggler:after {\\n  display: inline-block;\\n  transition: transform 100ms ease-in;\\n  content: \\\"\\\\25BA\\\";\\n}\\n.json-formatter-row > a > .json-formatter-preview-text {\\n  opacity: 0;\\n  transition: opacity 0.15s ease-in;\\n  font-style: italic;\\n}\\n.json-formatter-row:hover > a > .json-formatter-preview-text {\\n  opacity: 0.6;\\n}\\n.json-formatter-row.json-formatter-open > .json-formatter-toggler-link .json-formatter-toggler:after {\\n  transform: rotate(90deg);\\n}\\n.json-formatter-row.json-formatter-open > .json-formatter-children:after {\\n  display: inline-block;\\n}\\n.json-formatter-row.json-formatter-open > a > .json-formatter-preview-text {\\n  display: none;\\n}\\n.json-formatter-row.json-formatter-open.json-formatter-empty:after {\\n  display: block;\\n}\\n.json-formatter-dark.json-formatter-row {\\n  font-family: monospace;\\n}\\n.json-formatter-dark.json-formatter-row,\\n.json-formatter-dark.json-formatter-row a,\\n.json-formatter-dark.json-formatter-row a:hover {\\n  color: white;\\n  text-decoration: none;\\n}\\n.json-formatter-dark.json-formatter-row .json-formatter-row {\\n  margin-left: 1rem;\\n}\\n.json-formatter-dark.json-formatter-row .json-formatter-children.json-formatter-empty {\\n  opacity: 0.5;\\n  margin-left: 1rem;\\n}\\n.json-formatter-dark.json-formatter-row .json-formatter-children.json-formatter-empty:after {\\n  display: none;\\n}\\n.json-formatter-dark.json-formatter-row .json-formatter-children.json-formatter-empty.json-formatter-object:after {\\n  content: \\\"No properties\\\";\\n}\\n.json-formatter-dark.json-formatter-row .json-formatter-children.json-formatter-empty.json-formatter-array:after {\\n  content: \\\"[]\\\";\\n}\\n.json-formatter-dark.json-formatter-row .json-formatter-string,\\n.json-formatter-dark.json-formatter-row .json-formatter-stringifiable {\\n  color: #31F031;\\n  white-space: pre;\\n  word-wrap: break-word;\\n}\\n.json-formatter-dark.json-formatter-row .json-formatter-number {\\n  color: #66C2FF;\\n}\\n.json-formatter-dark.json-formatter-row .json-formatter-boolean {\\n  color: #EC4242;\\n}\\n.json-formatter-dark.json-formatter-row .json-formatter-null {\\n  color: #EEC97D;\\n}\\n.json-formatter-dark.json-formatter-row .json-formatter-undefined {\\n  color: #ef8fbe;\\n}\\n.json-formatter-dark.json-formatter-row .json-formatter-function {\\n  color: #FD48CB;\\n}\\n.json-formatter-dark.json-formatter-row .json-formatter-date {\\n  background-color: rgba(255, 255, 255, 0.05);\\n}\\n.json-formatter-dark.json-formatter-row .json-formatter-url {\\n  text-decoration: underline;\\n  color: #027BFF;\\n  cursor: pointer;\\n}\\n.json-formatter-dark.json-formatter-row .json-formatter-bracket {\\n  color: #9494FF;\\n}\\n.json-formatter-dark.json-formatter-row .json-formatter-key {\\n  color: #23A0DB;\\n  padding-right: 0.2rem;\\n}\\n.json-formatter-dark.json-formatter-row .json-formatter-toggler-link {\\n  cursor: pointer;\\n}\\n.json-formatter-dark.json-formatter-row .json-formatter-toggler {\\n  line-height: 1.2rem;\\n  font-size: 0.7rem;\\n  vertical-align: middle;\\n  opacity: 0.6;\\n  cursor: pointer;\\n  padding-right: 0.2rem;\\n}\\n.json-formatter-dark.json-formatter-row .json-formatter-toggler:after {\\n  display: inline-block;\\n  transition: transform 100ms ease-in;\\n  content: \\\"\\\\25BA\\\";\\n}\\n.json-formatter-dark.json-formatter-row > a > .json-formatter-preview-text {\\n  opacity: 0;\\n  transition: opacity 0.15s ease-in;\\n  font-style: italic;\\n}\\n.json-formatter-dark.json-formatter-row:hover > a > .json-formatter-preview-text {\\n  opacity: 0.6;\\n}\\n.json-formatter-dark.json-formatter-row.json-formatter-open > .json-formatter-toggler-link .json-formatter-toggler:after {\\n  transform: rotate(90deg);\\n}\\n.json-formatter-dark.json-formatter-row.json-formatter-open > .json-formatter-children:after {\\n  display: inline-block;\\n}\\n.json-formatter-dark.json-formatter-row.json-formatter-open > a > .json-formatter-preview-text {\\n  display: none;\\n}\\n.json-formatter-dark.json-formatter-row.json-formatter-open.json-formatter-empty:after {\\n  display: block;\\n}\\n\");\n    },\n    function(Bokeh) {\n      inject_raw_css(\"table.panel-df {\\n    margin-left: auto;\\n    margin-right: auto;\\n    border: none;\\n    border-collapse: collapse;\\n    border-spacing: 0;\\n    color: black;\\n    font-size: 12px;\\n    table-layout: fixed;\\n    width: 100%;\\n}\\n\\n.panel-df tr, .panel-df th, .panel-df td {\\n    text-align: right;\\n    vertical-align: middle;\\n    padding: 0.5em 0.5em !important;\\n    line-height: normal;\\n    white-space: normal;\\n    max-width: none;\\n    border: none;\\n}\\n\\n.panel-df tbody {\\n    display: table-row-group;\\n    vertical-align: middle;\\n    border-color: inherit;\\n}\\n\\n.panel-df tbody tr:nth-child(odd) {\\n    background: #f5f5f5;\\n}\\n\\n.panel-df thead {\\n    border-bottom: 1px solid black;\\n    vertical-align: bottom;\\n}\\n\\n.panel-df tr:hover {\\n    background: lightblue !important;\\n    cursor: pointer;\\n}\\n\");\n    },\n    function(Bokeh) {\n      Bokeh.set_log_level(\"info\");\n    },\n    function(Bokeh) {\n    \n    \n    }\n  ];\n\n  function run_inline_js() {\n    \n    if (root.Bokeh !== undefined || force === true) {\n      \n    for (var i = 0; i < inline_js.length; i++) {\n      inline_js[i].call(root, root.Bokeh);\n    }\n    if (force === true) {\n        display_loaded();\n      }} else if (Date.now() < root._bokeh_timeout) {\n      setTimeout(run_inline_js, 100);\n    } else if (!root._bokeh_failed_load) {\n      console.log(\"Bokeh: BokehJS failed to load within specified timeout.\");\n      root._bokeh_failed_load = true;\n    } else if (force !== true) {\n      var cell = $(document.getElementById(\"1281\")).parents('.cell').data().cell;\n      cell.output_area.append_execute_result(NB_LOAD_WARNING)\n    }\n\n  }\n\n  if (root._bokeh_is_loading === 0) {\n    console.debug(\"Bokeh: BokehJS loaded, going straight to plotting\");\n    run_inline_js();\n  } else {\n    load_libs(css_urls, js_urls, function() {\n      console.debug(\"Bokeh: BokehJS plotting callback run at\", now());\n      run_inline_js();\n    });\n  }\n}(window));"
     },
     "metadata": {},
     "output_type": "display_data"
    }
   ],
   "source": [
    "# holoviz geopandas yml file from esm_lab/conda\n",
    "import pandas as pd\n",
    "from pprint import pprint as pp\n",
    "from itertools import combinations\n",
    "from pathlib import Path\n",
    "import requests\n",
    "import numpy as np\n",
    "from bokeh.io import output_notebook, curdoc  # output_file\n",
    "from bokeh.plotting import figure, show\n",
    "from bokeh.sampledata.iris import flowers\n",
    "from bokeh.sampledata.iris import flowers as iris_df\n",
    "from bokeh.models import ColumnDataSource, HoverTool, CategoricalColorMapper, Slider, Column, Select\n",
    "from bokeh.models import CheckboxGroup, RadioGroup, Toggle, Button\n",
    "from bokeh.models.widgets import Tabs, Panel\n",
    "from bokeh.layouts import row, column, gridplot, widgetbox\n",
    "from bokeh.palettes import Spectral6\n",
    "from bokeh.themes import Theme\n",
    "import yaml\n",
    "\n",
    "# this line crates in-line plotting\n",
    "output_notebook()"
   ]
  },
  {
   "cell_type": "code",
   "execution_count": 16,
   "metadata": {},
   "outputs": [],
   "source": [
    "pd.set_option('max_columns', 200)\n",
    "pd.set_option('max_rows', 300)\n",
    "pd.set_option('display.expand_frame_repr', False)"
   ]
  },
  {
   "cell_type": "code",
   "execution_count": 4,
   "metadata": {},
   "outputs": [],
   "source": [
    "\n",
    "def create_dir_save_file(dir_path: Path, url: str):\n",
    "    \"\"\"\n",
    "    Check if the path exists and create it if it does not.\n",
    "    Check if the file exists and download it if it does not.\n",
    "    \"\"\"\n",
    "    if not dir_path.parents[0].exists():\n",
    "        dir_path.parents[0].mkdir(parents=True)\n",
    "        print(f'Directory Created: {dir_path.parents[0]}')\n",
    "    else:\n",
    "        print('Directory Exists')\n",
    "        \n",
    "    if not dir_path.exists():\n",
    "        r = requests.get(url, allow_redirects=True)\n",
    "        open(dir_path, 'wb').write(r.content)\n",
    "        print(f'File Created: {dir_path.name}')\n",
    "    else:\n",
    "        print('File Exists')"
   ]
  },
  {
   "cell_type": "code",
   "execution_count": 5,
   "metadata": {},
   "outputs": [],
   "source": [
    "# AAPL Stock\n",
    "aapl_url = 'https://assets.datacamp.com/production/repositories/401/datasets/313eb985cce85923756a128e49d7260a24ce6469/aapl.csv'\n",
    "# Automobile miles per gallon\n",
    "auto_url = 'https://assets.datacamp.com/production/repositories/401/datasets/2a776ae9ef4afc3f3f3d396560288229e160b830/auto-mpg.csv'\n",
    "# Gapminder\n",
    "gap_url = 'https://assets.datacamp.com/production/repositories/401/datasets/09378cc53faec573bcb802dce03b01318108a880/gapminder_tidy.csv'\n",
    "# Blood glucose levels\n",
    "glucose_url = 'https://assets.datacamp.com/production/repositories/401/datasets/edcedae3825e0483a15987248f63f05a674244a6/glucose.csv'\n",
    "# Female literacy and birth rate\n",
    "female_url = 'https://assets.datacamp.com/production/repositories/401/datasets/5aae6591ddd4819dec17e562f206b7840a272151/literacy_birth_rate.csv'\n",
    "# Olympic medals (100m sprint)\n",
    "sprint_url = 'https://assets.datacamp.com/production/repositories/401/datasets/68b7a450b34d1a331d4ebfba22069ce87bb5625d/sprint.csv'\n",
    "# State coordinates\n",
    "state_url = 'https://github.com/trenton3983/DataCamp/blob/master/data/2020-03-15_interactive_data_visualization_with_bokeh/state_coordinates.xlsx?raw=true'"
   ]
  },
  {
   "cell_type": "code",
   "execution_count": 13,
   "metadata": {},
   "outputs": [
    {
     "name": "stdout",
     "output_type": "stream",
     "text": [
      "Directory Exists\n",
      "File Exists\n",
      "Directory Exists\n",
      "File Exists\n",
      "Directory Exists\n",
      "File Exists\n",
      "Directory Exists\n",
      "File Exists\n",
      "Directory Exists\n",
      "File Exists\n",
      "Directory Exists\n",
      "File Exists\n",
      "Directory Exists\n",
      "File Exists\n"
     ]
    }
   ],
   "source": [
    "# had to convert state file to xls file and then change the path here by removing the xlsx extension\n",
    "state_url = 'https://github.com/trenton3983/DataCamp/blob/master/data/2020-03-15_interactive_data_visualization_with_bokeh/state_coordinates.xls?raw=true'\n",
    "data_dir = Path('/Users/james/Documents/Github/esm_lab/bokeh_tutorial/data/')\n",
    "images_dir = Path('/Users/james/Documents/Github/esm_lab/bokeh_tutorial/images/')\n",
    "\n",
    "datasets = [aapl_url, auto_url, gap_url, glucose_url, female_url, sprint_url, state_url]\n",
    "data_paths = list()\n",
    "\n",
    "for data in datasets:\n",
    "    file_name = data.split('/')[-1].replace('?raw=true', '')\n",
    "    data_path = data_dir / file_name\n",
    "    create_dir_save_file(data_path, data)\n",
    "    data_paths.append(data_path)\n",
    "    "
   ]
  },
  {
   "cell_type": "code",
   "execution_count": 12,
   "metadata": {},
   "outputs": [
    {
     "data": {
      "text/plain": [
       "'https://github.com/trenton3983/DataCamp/blob/master/data/2020-03-15_interactive_data_visualization_with_bokeh/state_coordinates.xlsx?raw=true'"
      ]
     },
     "execution_count": 12,
     "metadata": {},
     "output_type": "execute_result"
    }
   ],
   "source": [
    "state_url"
   ]
  },
  {
   "cell_type": "code",
   "execution_count": 14,
   "metadata": {},
   "outputs": [],
   "source": [
    "aapl = pd.read_csv(data_paths[0])\n",
    "aapl.drop('Unnamed: 0', axis=1, inplace=True)\n",
    "aapl['date'] = pd.to_datetime(aapl['date'])\n",
    "auto = pd.read_csv(data_paths[1])\n",
    "gap = pd.read_csv(data_paths[2])\n",
    "gluc = pd.read_csv(data_paths[3])\n",
    "gluc['datetime'] = pd.to_datetime(gluc['datetime'])\n",
    "gluc.set_index('datetime', inplace=True, drop=True)\n",
    "lit = pd.read_csv(data_paths[4])\n",
    "lit = lit.iloc[0:162, :]\n",
    "lit[['female literacy', 'fertility']] = lit[['female literacy', 'fertility']].astype('float')\n",
    "lit.columns = [x.strip() for x in lit.columns]  # Country has a whitespace at the end\n",
    "run = pd.read_csv(data_paths[5])\n",
    "state_coor_dict = {state: pd.read_excel(data_paths[6], sheet_name=state) for state in ['az', 'co', 'nm', 'ut']} "
   ]
  },
  {
   "cell_type": "code",
   "execution_count": 19,
   "metadata": {},
   "outputs": [
    {
     "data": {
      "text/html": [
       "\n",
       "\n",
       "\n",
       "\n",
       "\n",
       "\n",
       "  <div class=\"bk-root\" id=\"4c3f697a-6b43-4fa1-8f46-580d778c12b8\" data-root-id=\"1282\"></div>\n"
      ]
     },
     "metadata": {},
     "output_type": "display_data"
    },
    {
     "data": {
      "application/javascript": [
       "(function(root) {\n",
       "  function embed_document(root) {\n",
       "    \n",
       "  var docs_json = {\"5f9c0437-2b81-4b7e-b6d0-51b9a781649f\":{\"roots\":{\"references\":[{\"attributes\":{\"below\":[{\"id\":\"1291\"}],\"center\":[{\"id\":\"1294\"},{\"id\":\"1298\"}],\"left\":[{\"id\":\"1295\"}],\"plot_height\":300,\"plot_width\":400,\"renderers\":[{\"id\":\"1310\"}],\"title\":{\"id\":\"1312\"},\"toolbar\":{\"id\":\"1303\"},\"x_range\":{\"id\":\"1283\"},\"x_scale\":{\"id\":\"1287\"},\"y_range\":{\"id\":\"1285\"},\"y_scale\":{\"id\":\"1289\"}},\"id\":\"1282\",\"subtype\":\"Figure\",\"type\":\"Plot\"},{\"attributes\":{},\"id\":\"1296\",\"type\":\"BasicTicker\"},{\"attributes\":{\"data\":{\"x\":[1,2,3,4,5],\"y\":[8,6,5,2,3]},\"selected\":{\"id\":\"1319\"},\"selection_policy\":{\"id\":\"1320\"}},\"id\":\"1307\",\"type\":\"ColumnDataSource\"},{\"attributes\":{\"active_drag\":\"auto\",\"active_inspect\":\"auto\",\"active_multi\":null,\"active_scroll\":\"auto\",\"active_tap\":\"auto\",\"tools\":[{\"id\":\"1299\"},{\"id\":\"1300\"},{\"id\":\"1301\"}]},\"id\":\"1303\",\"type\":\"Toolbar\"},{\"attributes\":{},\"id\":\"1283\",\"type\":\"DataRange1d\"},{\"attributes\":{},\"id\":\"1301\",\"type\":\"ResetTool\"},{\"attributes\":{},\"id\":\"1292\",\"type\":\"BasicTicker\"},{\"attributes\":{},\"id\":\"1285\",\"type\":\"DataRange1d\"},{\"attributes\":{\"axis\":{\"id\":\"1291\"},\"ticker\":null},\"id\":\"1294\",\"type\":\"Grid\"},{\"attributes\":{},\"id\":\"1289\",\"type\":\"LinearScale\"},{\"attributes\":{\"bottom_units\":\"screen\",\"fill_alpha\":0.5,\"fill_color\":\"lightgrey\",\"left_units\":\"screen\",\"level\":\"overlay\",\"line_alpha\":1.0,\"line_color\":\"black\",\"line_dash\":[4,4],\"line_width\":2,\"right_units\":\"screen\",\"top_units\":\"screen\"},\"id\":\"1302\",\"type\":\"BoxAnnotation\"},{\"attributes\":{},\"id\":\"1287\",\"type\":\"LinearScale\"},{\"attributes\":{},\"id\":\"1299\",\"type\":\"PanTool\"},{\"attributes\":{},\"id\":\"1320\",\"type\":\"UnionRenderers\"},{\"attributes\":{\"source\":{\"id\":\"1307\"}},\"id\":\"1311\",\"type\":\"CDSView\"},{\"attributes\":{\"text\":\"\"},\"id\":\"1312\",\"type\":\"Title\"},{\"attributes\":{\"data_source\":{\"id\":\"1307\"},\"glyph\":{\"id\":\"1308\"},\"hover_glyph\":null,\"muted_glyph\":null,\"nonselection_glyph\":{\"id\":\"1309\"},\"selection_glyph\":null,\"view\":{\"id\":\"1311\"}},\"id\":\"1310\",\"type\":\"GlyphRenderer\"},{\"attributes\":{\"overlay\":{\"id\":\"1302\"}},\"id\":\"1300\",\"type\":\"BoxZoomTool\"},{\"attributes\":{},\"id\":\"1317\",\"type\":\"BasicTickFormatter\"},{\"attributes\":{\"fill_alpha\":{\"value\":0.1},\"fill_color\":{\"value\":\"#1f77b4\"},\"line_alpha\":{\"value\":0.1},\"line_color\":{\"value\":\"#1f77b4\"},\"x\":{\"field\":\"x\"},\"y\":{\"field\":\"y\"}},\"id\":\"1309\",\"type\":\"Circle\"},{\"attributes\":{\"formatter\":{\"id\":\"1315\"},\"ticker\":{\"id\":\"1292\"}},\"id\":\"1291\",\"type\":\"LinearAxis\"},{\"attributes\":{\"fill_color\":{\"value\":\"#1f77b4\"},\"line_color\":{\"value\":\"#1f77b4\"},\"x\":{\"field\":\"x\"},\"y\":{\"field\":\"y\"}},\"id\":\"1308\",\"type\":\"Circle\"},{\"attributes\":{\"formatter\":{\"id\":\"1317\"},\"ticker\":{\"id\":\"1296\"}},\"id\":\"1295\",\"type\":\"LinearAxis\"},{\"attributes\":{},\"id\":\"1315\",\"type\":\"BasicTickFormatter\"},{\"attributes\":{\"axis\":{\"id\":\"1295\"},\"dimension\":1,\"ticker\":null},\"id\":\"1298\",\"type\":\"Grid\"},{\"attributes\":{},\"id\":\"1319\",\"type\":\"Selection\"}],\"root_ids\":[\"1282\"]},\"title\":\"Bokeh Application\",\"version\":\"2.1.1\"}};\n",
       "  var render_items = [{\"docid\":\"5f9c0437-2b81-4b7e-b6d0-51b9a781649f\",\"root_ids\":[\"1282\"],\"roots\":{\"1282\":\"4c3f697a-6b43-4fa1-8f46-580d778c12b8\"}}];\n",
       "  root.Bokeh.embed.embed_items_notebook(docs_json, render_items);\n",
       "\n",
       "  }\n",
       "  if (root.Bokeh !== undefined) {\n",
       "    embed_document(root);\n",
       "  } else {\n",
       "    var attempts = 0;\n",
       "    var timer = setInterval(function(root) {\n",
       "      if (root.Bokeh !== undefined) {\n",
       "        clearInterval(timer);\n",
       "        embed_document(root);\n",
       "      } else {\n",
       "        attempts++;\n",
       "        if (attempts > 100) {\n",
       "          clearInterval(timer);\n",
       "          console.log(\"Bokeh: ERROR: Unable to run BokehJS code because BokehJS library is missing\");\n",
       "        }\n",
       "      }\n",
       "    }, 10, root)\n",
       "  }\n",
       "})(window);"
      ],
      "application/vnd.bokehjs_exec.v0+json": ""
     },
     "metadata": {
      "application/vnd.bokehjs_exec.v0+json": {
       "id": "1282"
      }
     },
     "output_type": "display_data"
    }
   ],
   "source": [
    "plot = figure(plot_height=300, plot_width=400, tools='pan,box_zoom,reset')\n",
    "plot.circle([1, 2, 3, 4, 5], [8, 6, 5, 2, 3])\n",
    "# output_file('circle.html')\n",
    "show(plot)"
   ]
  },
  {
   "cell_type": "code",
   "execution_count": 20,
   "metadata": {},
   "outputs": [
    {
     "data": {
      "text/html": [
       "\n",
       "\n",
       "\n",
       "\n",
       "\n",
       "\n",
       "  <div class=\"bk-root\" id=\"c637b6f4-e3a4-4304-8d47-fb8bb113e7bf\" data-root-id=\"1375\"></div>\n"
      ]
     },
     "metadata": {},
     "output_type": "display_data"
    },
    {
     "data": {
      "application/javascript": [
       "(function(root) {\n",
       "  function embed_document(root) {\n",
       "    \n",
       "  var docs_json = {\"76433977-8826-438c-9d67-ed2928cd8274\":{\"roots\":{\"references\":[{\"attributes\":{\"below\":[{\"id\":\"1384\"}],\"center\":[{\"id\":\"1387\"},{\"id\":\"1391\"}],\"left\":[{\"id\":\"1388\"}],\"plot_height\":400,\"plot_width\":400,\"renderers\":[{\"id\":\"1409\"}],\"title\":{\"id\":\"1420\"},\"toolbar\":{\"id\":\"1399\"},\"x_range\":{\"id\":\"1376\"},\"x_scale\":{\"id\":\"1380\"},\"y_range\":{\"id\":\"1378\"},\"y_scale\":{\"id\":\"1382\"}},\"id\":\"1375\",\"subtype\":\"Figure\",\"type\":\"Plot\"},{\"attributes\":{\"overlay\":{\"id\":\"1398\"}},\"id\":\"1394\",\"type\":\"BoxZoomTool\"},{\"attributes\":{\"fill_color\":{\"value\":\"#1f77b4\"},\"line_color\":{\"value\":\"#1f77b4\"},\"size\":{\"field\":\"size\",\"units\":\"screen\"},\"x\":{\"value\":10},\"y\":{\"field\":\"y\"}},\"id\":\"1407\",\"type\":\"Circle\"},{\"attributes\":{},\"id\":\"1378\",\"type\":\"DataRange1d\"},{\"attributes\":{\"data_source\":{\"id\":\"1406\"},\"glyph\":{\"id\":\"1407\"},\"hover_glyph\":null,\"muted_glyph\":null,\"nonselection_glyph\":{\"id\":\"1408\"},\"selection_glyph\":null,\"view\":{\"id\":\"1410\"}},\"id\":\"1409\",\"type\":\"GlyphRenderer\"},{\"attributes\":{},\"id\":\"1376\",\"type\":\"DataRange1d\"},{\"attributes\":{},\"id\":\"1392\",\"type\":\"PanTool\"},{\"attributes\":{},\"id\":\"1425\",\"type\":\"BasicTickFormatter\"},{\"attributes\":{\"axis\":{\"id\":\"1388\"},\"dimension\":1,\"ticker\":null},\"id\":\"1391\",\"type\":\"Grid\"},{\"attributes\":{},\"id\":\"1396\",\"type\":\"ResetTool\"},{\"attributes\":{\"data\":{\"size\":[10,20,30,40],\"y\":[2,5,8,12]},\"selected\":{\"id\":\"1427\"},\"selection_policy\":{\"id\":\"1428\"}},\"id\":\"1406\",\"type\":\"ColumnDataSource\"},{\"attributes\":{\"axis\":{\"id\":\"1384\"},\"ticker\":null},\"id\":\"1387\",\"type\":\"Grid\"},{\"attributes\":{},\"id\":\"1427\",\"type\":\"Selection\"},{\"attributes\":{},\"id\":\"1423\",\"type\":\"BasicTickFormatter\"},{\"attributes\":{},\"id\":\"1385\",\"type\":\"BasicTicker\"},{\"attributes\":{},\"id\":\"1389\",\"type\":\"BasicTicker\"},{\"attributes\":{},\"id\":\"1382\",\"type\":\"LinearScale\"},{\"attributes\":{\"formatter\":{\"id\":\"1425\"},\"ticker\":{\"id\":\"1389\"}},\"id\":\"1388\",\"type\":\"LinearAxis\"},{\"attributes\":{},\"id\":\"1428\",\"type\":\"UnionRenderers\"},{\"attributes\":{\"formatter\":{\"id\":\"1423\"},\"ticker\":{\"id\":\"1385\"}},\"id\":\"1384\",\"type\":\"LinearAxis\"},{\"attributes\":{\"active_drag\":\"auto\",\"active_inspect\":\"auto\",\"active_multi\":null,\"active_scroll\":\"auto\",\"active_tap\":\"auto\",\"tools\":[{\"id\":\"1392\"},{\"id\":\"1393\"},{\"id\":\"1394\"},{\"id\":\"1395\"},{\"id\":\"1396\"},{\"id\":\"1397\"}]},\"id\":\"1399\",\"type\":\"Toolbar\"},{\"attributes\":{},\"id\":\"1397\",\"type\":\"HelpTool\"},{\"attributes\":{},\"id\":\"1395\",\"type\":\"SaveTool\"},{\"attributes\":{\"fill_alpha\":{\"value\":0.1},\"fill_color\":{\"value\":\"#1f77b4\"},\"line_alpha\":{\"value\":0.1},\"line_color\":{\"value\":\"#1f77b4\"},\"size\":{\"field\":\"size\",\"units\":\"screen\"},\"x\":{\"value\":10},\"y\":{\"field\":\"y\"}},\"id\":\"1408\",\"type\":\"Circle\"},{\"attributes\":{},\"id\":\"1380\",\"type\":\"LinearScale\"},{\"attributes\":{\"bottom_units\":\"screen\",\"fill_alpha\":0.5,\"fill_color\":\"lightgrey\",\"left_units\":\"screen\",\"level\":\"overlay\",\"line_alpha\":1.0,\"line_color\":\"black\",\"line_dash\":[4,4],\"line_width\":2,\"right_units\":\"screen\",\"top_units\":\"screen\"},\"id\":\"1398\",\"type\":\"BoxAnnotation\"},{\"attributes\":{},\"id\":\"1393\",\"type\":\"WheelZoomTool\"},{\"attributes\":{\"text\":\"\"},\"id\":\"1420\",\"type\":\"Title\"},{\"attributes\":{\"source\":{\"id\":\"1406\"}},\"id\":\"1410\",\"type\":\"CDSView\"}],\"root_ids\":[\"1375\"]},\"title\":\"Bokeh Application\",\"version\":\"2.1.1\"}};\n",
       "  var render_items = [{\"docid\":\"76433977-8826-438c-9d67-ed2928cd8274\",\"root_ids\":[\"1375\"],\"roots\":{\"1375\":\"c637b6f4-e3a4-4304-8d47-fb8bb113e7bf\"}}];\n",
       "  root.Bokeh.embed.embed_items_notebook(docs_json, render_items);\n",
       "\n",
       "  }\n",
       "  if (root.Bokeh !== undefined) {\n",
       "    embed_document(root);\n",
       "  } else {\n",
       "    var attempts = 0;\n",
       "    var timer = setInterval(function(root) {\n",
       "      if (root.Bokeh !== undefined) {\n",
       "        clearInterval(timer);\n",
       "        embed_document(root);\n",
       "      } else {\n",
       "        attempts++;\n",
       "        if (attempts > 100) {\n",
       "          clearInterval(timer);\n",
       "          console.log(\"Bokeh: ERROR: Unable to run BokehJS code because BokehJS library is missing\");\n",
       "        }\n",
       "      }\n",
       "    }, 10, root)\n",
       "  }\n",
       "})(window);"
      ],
      "application/vnd.bokehjs_exec.v0+json": ""
     },
     "metadata": {
      "application/vnd.bokehjs_exec.v0+json": {
       "id": "1375"
      }
     },
     "output_type": "display_data"
    }
   ],
   "source": [
    "plot = figure(plot_height=400, plot_width=400, )\n",
    "plot.circle(x=10, y=[2, 5, 8, 12], size=[10, 20, 30, 40])\n",
    "show(plot)"
   ]
  },
  {
   "cell_type": "code",
   "execution_count": 21,
   "metadata": {},
   "outputs": [
    {
     "data": {
      "text/html": [
       "\n",
       "\n",
       "\n",
       "\n",
       "\n",
       "\n",
       "  <div class=\"bk-root\" id=\"d171865c-fcc3-4344-99a1-6da7ca570fb7\" data-root-id=\"1483\"></div>\n"
      ]
     },
     "metadata": {},
     "output_type": "display_data"
    },
    {
     "data": {
      "application/javascript": [
       "(function(root) {\n",
       "  function embed_document(root) {\n",
       "    \n",
       "  var docs_json = {\"31901aa6-5a07-4220-8fc5-3fd679a26a54\":{\"roots\":{\"references\":[{\"attributes\":{\"below\":[{\"id\":\"1492\"}],\"center\":[{\"id\":\"1495\"},{\"id\":\"1499\"}],\"left\":[{\"id\":\"1496\"}],\"plot_height\":300,\"renderers\":[{\"id\":\"1517\"},{\"id\":\"1522\"}],\"title\":{\"id\":\"1542\"},\"toolbar\":{\"id\":\"1507\"},\"x_range\":{\"id\":\"1484\"},\"x_scale\":{\"id\":\"1488\"},\"y_range\":{\"id\":\"1486\"},\"y_scale\":{\"id\":\"1490\"}},\"id\":\"1483\",\"subtype\":\"Figure\",\"type\":\"Plot\"},{\"attributes\":{},\"id\":\"1488\",\"type\":\"LinearScale\"},{\"attributes\":{\"line_alpha\":0.1,\"line_color\":\"#1f77b4\",\"line_width\":3,\"x\":{\"field\":\"x\"},\"y\":{\"field\":\"y\"}},\"id\":\"1516\",\"type\":\"Line\"},{\"attributes\":{\"overlay\":{\"id\":\"1506\"}},\"id\":\"1502\",\"type\":\"BoxZoomTool\"},{\"attributes\":{},\"id\":\"1547\",\"type\":\"BasicTickFormatter\"},{\"attributes\":{\"data_source\":{\"id\":\"1514\"},\"glyph\":{\"id\":\"1515\"},\"hover_glyph\":null,\"muted_glyph\":null,\"nonselection_glyph\":{\"id\":\"1516\"},\"selection_glyph\":null,\"view\":{\"id\":\"1518\"}},\"id\":\"1517\",\"type\":\"GlyphRenderer\"},{\"attributes\":{\"formatter\":{\"id\":\"1547\"},\"ticker\":{\"id\":\"1497\"}},\"id\":\"1496\",\"type\":\"LinearAxis\"},{\"attributes\":{\"line_color\":\"#1f77b4\",\"line_width\":3,\"x\":{\"field\":\"x\"},\"y\":{\"field\":\"y\"}},\"id\":\"1515\",\"type\":\"Line\"},{\"attributes\":{},\"id\":\"1552\",\"type\":\"UnionRenderers\"},{\"attributes\":{},\"id\":\"1551\",\"type\":\"Selection\"},{\"attributes\":{\"active_drag\":\"auto\",\"active_inspect\":\"auto\",\"active_multi\":null,\"active_scroll\":\"auto\",\"active_tap\":\"auto\",\"tools\":[{\"id\":\"1500\"},{\"id\":\"1501\"},{\"id\":\"1502\"},{\"id\":\"1503\"},{\"id\":\"1504\"},{\"id\":\"1505\"}]},\"id\":\"1507\",\"type\":\"Toolbar\"},{\"attributes\":{\"data_source\":{\"id\":\"1519\"},\"glyph\":{\"id\":\"1520\"},\"hover_glyph\":null,\"muted_glyph\":null,\"nonselection_glyph\":{\"id\":\"1521\"},\"selection_glyph\":null,\"view\":{\"id\":\"1523\"}},\"id\":\"1522\",\"type\":\"GlyphRenderer\"},{\"attributes\":{\"source\":{\"id\":\"1514\"}},\"id\":\"1518\",\"type\":\"CDSView\"},{\"attributes\":{},\"id\":\"1500\",\"type\":\"PanTool\"},{\"attributes\":{\"axis\":{\"id\":\"1492\"},\"ticker\":null},\"id\":\"1495\",\"type\":\"Grid\"},{\"attributes\":{},\"id\":\"1545\",\"type\":\"BasicTickFormatter\"},{\"attributes\":{\"bottom_units\":\"screen\",\"fill_alpha\":0.5,\"fill_color\":\"lightgrey\",\"left_units\":\"screen\",\"level\":\"overlay\",\"line_alpha\":1.0,\"line_color\":\"black\",\"line_dash\":[4,4],\"line_width\":2,\"right_units\":\"screen\",\"top_units\":\"screen\"},\"id\":\"1506\",\"type\":\"BoxAnnotation\"},{\"attributes\":{},\"id\":\"1550\",\"type\":\"UnionRenderers\"},{\"attributes\":{\"axis\":{\"id\":\"1496\"},\"dimension\":1,\"ticker\":null},\"id\":\"1499\",\"type\":\"Grid\"},{\"attributes\":{\"fill_color\":{\"value\":\"white\"},\"line_color\":{\"value\":\"#1f77b4\"},\"size\":{\"units\":\"screen\",\"value\":10},\"x\":{\"field\":\"x\"},\"y\":{\"field\":\"y\"}},\"id\":\"1520\",\"type\":\"Circle\"},{\"attributes\":{\"fill_alpha\":{\"value\":0.1},\"fill_color\":{\"value\":\"white\"},\"line_alpha\":{\"value\":0.1},\"line_color\":{\"value\":\"#1f77b4\"},\"size\":{\"units\":\"screen\",\"value\":10},\"x\":{\"field\":\"x\"},\"y\":{\"field\":\"y\"}},\"id\":\"1521\",\"type\":\"Circle\"},{\"attributes\":{\"data\":{\"x\":[1,2,3,4,5],\"y\":[8,6,5,2,3]},\"selected\":{\"id\":\"1549\"},\"selection_policy\":{\"id\":\"1550\"}},\"id\":\"1514\",\"type\":\"ColumnDataSource\"},{\"attributes\":{},\"id\":\"1486\",\"type\":\"DataRange1d\"},{\"attributes\":{},\"id\":\"1505\",\"type\":\"HelpTool\"},{\"attributes\":{\"data\":{\"x\":[1,2,3,4,5],\"y\":[8,6,5,2,3]},\"selected\":{\"id\":\"1551\"},\"selection_policy\":{\"id\":\"1552\"}},\"id\":\"1519\",\"type\":\"ColumnDataSource\"},{\"attributes\":{},\"id\":\"1501\",\"type\":\"WheelZoomTool\"},{\"attributes\":{\"source\":{\"id\":\"1519\"}},\"id\":\"1523\",\"type\":\"CDSView\"},{\"attributes\":{},\"id\":\"1504\",\"type\":\"ResetTool\"},{\"attributes\":{},\"id\":\"1549\",\"type\":\"Selection\"},{\"attributes\":{},\"id\":\"1484\",\"type\":\"DataRange1d\"},{\"attributes\":{},\"id\":\"1493\",\"type\":\"BasicTicker\"},{\"attributes\":{},\"id\":\"1503\",\"type\":\"SaveTool\"},{\"attributes\":{\"formatter\":{\"id\":\"1545\"},\"ticker\":{\"id\":\"1493\"}},\"id\":\"1492\",\"type\":\"LinearAxis\"},{\"attributes\":{\"text\":\"\"},\"id\":\"1542\",\"type\":\"Title\"},{\"attributes\":{},\"id\":\"1497\",\"type\":\"BasicTicker\"},{\"attributes\":{},\"id\":\"1490\",\"type\":\"LinearScale\"}],\"root_ids\":[\"1483\"]},\"title\":\"Bokeh Application\",\"version\":\"2.1.1\"}};\n",
       "  var render_items = [{\"docid\":\"31901aa6-5a07-4220-8fc5-3fd679a26a54\",\"root_ids\":[\"1483\"],\"roots\":{\"1483\":\"d171865c-fcc3-4344-99a1-6da7ca570fb7\"}}];\n",
       "  root.Bokeh.embed.embed_items_notebook(docs_json, render_items);\n",
       "\n",
       "  }\n",
       "  if (root.Bokeh !== undefined) {\n",
       "    embed_document(root);\n",
       "  } else {\n",
       "    var attempts = 0;\n",
       "    var timer = setInterval(function(root) {\n",
       "      if (root.Bokeh !== undefined) {\n",
       "        clearInterval(timer);\n",
       "        embed_document(root);\n",
       "      } else {\n",
       "        attempts++;\n",
       "        if (attempts > 100) {\n",
       "          clearInterval(timer);\n",
       "          console.log(\"Bokeh: ERROR: Unable to run BokehJS code because BokehJS library is missing\");\n",
       "        }\n",
       "      }\n",
       "    }, 10, root)\n",
       "  }\n",
       "})(window);"
      ],
      "application/vnd.bokehjs_exec.v0+json": ""
     },
     "metadata": {
      "application/vnd.bokehjs_exec.v0+json": {
       "id": "1483"
      }
     },
     "output_type": "display_data"
    }
   ],
   "source": [
    "x = [1,2,3,4,5]\n",
    "y = [8,6,5,2,3]\n",
    "plot = figure(plot_height=300)\n",
    "plot.line(x, y, line_width=3)\n",
    "plot.circle(x, y, fill_color='white', size=10)\n",
    "# output_file('basic.html')\n",
    "show(plot)\n"
   ]
  },
  {
   "cell_type": "code",
   "execution_count": 22,
   "metadata": {},
   "outputs": [
    {
     "data": {
      "text/html": [
       "\n",
       "\n",
       "\n",
       "\n",
       "\n",
       "\n",
       "  <div class=\"bk-root\" id=\"2c44002b-df47-405b-8110-41ec4e07096c\" data-root-id=\"1619\"></div>\n"
      ]
     },
     "metadata": {},
     "output_type": "display_data"
    },
    {
     "data": {
      "application/javascript": [
       "(function(root) {\n",
       "  function embed_document(root) {\n",
       "    \n",
       "  var docs_json = {\"0813ffae-e2ea-4711-9d79-4d10a8a8d5a4\":{\"roots\":{\"references\":[{\"attributes\":{\"below\":[{\"id\":\"1628\"}],\"center\":[{\"id\":\"1631\"},{\"id\":\"1635\"}],\"left\":[{\"id\":\"1632\"}],\"plot_height\":400,\"renderers\":[{\"id\":\"1649\"}],\"title\":{\"id\":\"1680\"},\"toolbar\":{\"id\":\"1641\"},\"x_range\":{\"id\":\"1620\"},\"x_scale\":{\"id\":\"1624\"},\"y_range\":{\"id\":\"1622\"},\"y_scale\":{\"id\":\"1626\"}},\"id\":\"1619\",\"subtype\":\"Figure\",\"type\":\"Plot\"},{\"attributes\":{\"overlay\":{\"id\":\"1640\"}},\"id\":\"1637\",\"type\":\"LassoSelectTool\"},{\"attributes\":{},\"id\":\"1622\",\"type\":\"DataRange1d\"},{\"attributes\":{\"data_source\":{\"id\":\"1645\"},\"glyph\":{\"id\":\"1646\"},\"hover_glyph\":null,\"muted_glyph\":null,\"nonselection_glyph\":{\"id\":\"1647\"},\"selection_glyph\":{\"id\":\"1648\"},\"view\":{\"id\":\"1650\"}},\"id\":\"1649\",\"type\":\"GlyphRenderer\"},{\"attributes\":{\"text\":\"\"},\"id\":\"1680\",\"type\":\"Title\"},{\"attributes\":{},\"id\":\"1689\",\"type\":\"UnionRenderers\"},{\"attributes\":{\"formatter\":{\"id\":\"1683\"},\"ticker\":{\"id\":\"1629\"}},\"id\":\"1628\",\"type\":\"LinearAxis\"},{\"attributes\":{\"fill_alpha\":{\"value\":0.2},\"fill_color\":{\"value\":\"grey\"},\"line_alpha\":{\"value\":0.1},\"line_color\":{\"value\":\"#1f77b4\"},\"x\":{\"field\":\"x\"},\"y\":{\"field\":\"y\"}},\"id\":\"1647\",\"type\":\"Circle\"},{\"attributes\":{},\"id\":\"1685\",\"type\":\"BasicTickFormatter\"},{\"attributes\":{},\"id\":\"1620\",\"type\":\"DataRange1d\"},{\"attributes\":{},\"id\":\"1688\",\"type\":\"Selection\"},{\"attributes\":{},\"id\":\"1624\",\"type\":\"LinearScale\"},{\"attributes\":{\"axis\":{\"id\":\"1632\"},\"dimension\":1,\"ticker\":null},\"id\":\"1635\",\"type\":\"Grid\"},{\"attributes\":{\"overlay\":{\"id\":\"1639\"}},\"id\":\"1636\",\"type\":\"BoxSelectTool\"},{\"attributes\":{\"data\":{\"x\":{\"__ndarray__\":\"ZmZmZmZm9j9mZmZmZmb2P83MzMzMzPQ/AAAAAAAA+D9mZmZmZmb2PzMzMzMzM/s/ZmZmZmZm9j8AAAAAAAD4P2ZmZmZmZvY/AAAAAAAA+D8AAAAAAAD4P5qZmZmZmfk/ZmZmZmZm9j+amZmZmZnxPzMzMzMzM/M/AAAAAAAA+D/NzMzMzMz0P2ZmZmZmZvY/MzMzMzMz+z8AAAAAAAD4PzMzMzMzM/s/AAAAAAAA+D8AAAAAAADwPzMzMzMzM/s/ZmZmZmZm/j+amZmZmZn5P5qZmZmZmfk/AAAAAAAA+D9mZmZmZmb2P5qZmZmZmfk/mpmZmZmZ+T8AAAAAAAD4PwAAAAAAAPg/ZmZmZmZm9j8AAAAAAAD4PzMzMzMzM/M/zczMzMzM9D9mZmZmZmb2P83MzMzMzPQ/AAAAAAAA+D/NzMzMzMz0P83MzMzMzPQ/zczMzMzM9D+amZmZmZn5P2ZmZmZmZv4/ZmZmZmZm9j+amZmZmZn5P2ZmZmZmZvY/AAAAAAAA+D9mZmZmZmb2P83MzMzMzBJAAAAAAAAAEkCamZmZmZkTQAAAAAAAABBAZmZmZmZmEkAAAAAAAAASQM3MzMzMzBJAZmZmZmZmCkBmZmZmZmYSQDMzMzMzMw9AAAAAAAAADEDNzMzMzMwQQAAAAAAAABBAzczMzMzMEkDNzMzMzMwMQJqZmZmZmRFAAAAAAAAAEkBmZmZmZmYQQAAAAAAAABJAMzMzMzMzD0AzMzMzMzMTQAAAAAAAABBAmpmZmZmZE0DNzMzMzMwSQDMzMzMzMxFAmpmZmZmZEUAzMzMzMzMTQAAAAAAAABRAAAAAAAAAEkAAAAAAAAAMQGZmZmZmZg5AmpmZmZmZDUAzMzMzMzMPQGZmZmZmZhRAAAAAAAAAEkAAAAAAAAASQM3MzMzMzBJAmpmZmZmZEUBmZmZmZmYQQAAAAAAAABBAmpmZmZmZEUBmZmZmZmYSQAAAAAAAABBAZmZmZmZmCkDNzMzMzMwQQM3MzMzMzBBAzczMzMzMEEAzMzMzMzMRQAAAAAAAAAhAZmZmZmZmEEAAAAAAAAAYQGZmZmZmZhRAmpmZmZmZF0BmZmZmZmYWQDMzMzMzMxdAZmZmZmZmGkAAAAAAAAASQDMzMzMzMxlAMzMzMzMzF0BmZmZmZmYYQGZmZmZmZhRAMzMzMzMzFUAAAAAAAAAWQAAAAAAAABRAZmZmZmZmFEAzMzMzMzMVQAAAAAAAABZAzczMzMzMGkCamZmZmZkbQAAAAAAAABRAzczMzMzMFkCamZmZmZkTQM3MzMzMzBpAmpmZmZmZE0DNzMzMzMwWQAAAAAAAABhAMzMzMzMzE0CamZmZmZkTQGZmZmZmZhZAMzMzMzMzF0BmZmZmZmYYQJqZmZmZmRlAZmZmZmZmFkBmZmZmZmYUQGZmZmZmZhZAZmZmZmZmGEBmZmZmZmYWQAAAAAAAABZAMzMzMzMzE0CamZmZmZkVQGZmZmZmZhZAZmZmZmZmFEBmZmZmZmYUQJqZmZmZmRdAzczMzMzMFkDNzMzMzMwUQAAAAAAAABRAzczMzMzMFECamZmZmZkVQGZmZmZmZhRA\",\"dtype\":\"float64\",\"order\":\"little\",\"shape\":[150]},\"y\":{\"__ndarray__\":\"ZmZmZmZmFECamZmZmZkTQM3MzMzMzBJAZmZmZmZmEkAAAAAAAAAUQJqZmZmZmRVAZmZmZmZmEkAAAAAAAAAUQJqZmZmZmRFAmpmZmZmZE0CamZmZmZkVQDMzMzMzMxNAMzMzMzMzE0AzMzMzMzMRQDMzMzMzMxdAzczMzMzMFkCamZmZmZkVQGZmZmZmZhRAzczMzMzMFkBmZmZmZmYUQJqZmZmZmRVAZmZmZmZmFEBmZmZmZmYSQGZmZmZmZhRAMzMzMzMzE0AAAAAAAAAUQAAAAAAAABRAzczMzMzMFEDNzMzMzMwUQM3MzMzMzBJAMzMzMzMzE0CamZmZmZkVQM3MzMzMzBRAAAAAAAAAFkCamZmZmZkTQAAAAAAAABRAAAAAAAAAFkCamZmZmZkTQJqZmZmZmRFAZmZmZmZmFEAAAAAAAAAUQAAAAAAAABJAmpmZmZmZEUAAAAAAAAAUQGZmZmZmZhRAMzMzMzMzE0BmZmZmZmYUQGZmZmZmZhJAMzMzMzMzFUAAAAAAAAAUQAAAAAAAABxAmpmZmZmZGUCamZmZmZkbQAAAAAAAABZAAAAAAAAAGkDNzMzMzMwWQDMzMzMzMxlAmpmZmZmZE0BmZmZmZmYaQM3MzMzMzBRAAAAAAAAAFECamZmZmZkXQAAAAAAAABhAZmZmZmZmGEBmZmZmZmYWQM3MzMzMzBpAZmZmZmZmFkAzMzMzMzMXQM3MzMzMzBhAZmZmZmZmFkCamZmZmZkXQGZmZmZmZhhAMzMzMzMzGUBmZmZmZmYYQJqZmZmZmRlAZmZmZmZmGkAzMzMzMzMbQM3MzMzMzBpAAAAAAAAAGEDNzMzMzMwWQAAAAAAAABZAAAAAAAAAFkAzMzMzMzMXQAAAAAAAABhAmpmZmZmZFUAAAAAAAAAYQM3MzMzMzBpAMzMzMzMzGUBmZmZmZmYWQAAAAAAAABZAAAAAAAAAFkBmZmZmZmYYQDMzMzMzMxdAAAAAAAAAFEBmZmZmZmYWQM3MzMzMzBZAzczMzMzMFkDNzMzMzMwYQGZmZmZmZhRAzczMzMzMFkAzMzMzMzMZQDMzMzMzMxdAZmZmZmZmHEAzMzMzMzMZQAAAAAAAABpAZmZmZmZmHkCamZmZmZkTQDMzMzMzMx1AzczMzMzMGkDNzMzMzMwcQAAAAAAAABpAmpmZmZmZGUAzMzMzMzMbQM3MzMzMzBZAMzMzMzMzF0CamZmZmZkZQAAAAAAAABpAzczMzMzMHkDNzMzMzMweQAAAAAAAABhAmpmZmZmZG0BmZmZmZmYWQM3MzMzMzB5AMzMzMzMzGUDNzMzMzMwaQM3MzMzMzBxAzczMzMzMGEBmZmZmZmYYQJqZmZmZmRlAzczMzMzMHECamZmZmZkdQJqZmZmZmR9AmpmZmZmZGUAzMzMzMzMZQGZmZmZmZhhAzczMzMzMHkAzMzMzMzMZQJqZmZmZmRlAAAAAAAAAGECamZmZmZkbQM3MzMzMzBpAmpmZmZmZG0AzMzMzMzMXQDMzMzMzMxtAzczMzMzMGkDNzMzMzMwaQDMzMzMzMxlAAAAAAAAAGkDNzMzMzMwYQJqZmZmZmRdA\",\"dtype\":\"float64\",\"order\":\"little\",\"shape\":[150]}},\"selected\":{\"id\":\"1688\"},\"selection_policy\":{\"id\":\"1689\"}},\"id\":\"1645\",\"type\":\"ColumnDataSource\"},{\"attributes\":{\"axis\":{\"id\":\"1628\"},\"ticker\":null},\"id\":\"1631\",\"type\":\"Grid\"},{\"attributes\":{\"fill_alpha\":0.5,\"fill_color\":\"lightgrey\",\"level\":\"overlay\",\"line_alpha\":1.0,\"line_color\":\"black\",\"line_dash\":[4,4],\"line_width\":2,\"xs_units\":\"screen\",\"ys_units\":\"screen\"},\"id\":\"1640\",\"type\":\"PolyAnnotation\"},{\"attributes\":{\"bottom_units\":\"screen\",\"fill_alpha\":0.5,\"fill_color\":\"lightgrey\",\"left_units\":\"screen\",\"level\":\"overlay\",\"line_alpha\":1.0,\"line_color\":\"black\",\"line_dash\":[4,4],\"line_width\":2,\"right_units\":\"screen\",\"top_units\":\"screen\"},\"id\":\"1639\",\"type\":\"BoxAnnotation\"},{\"attributes\":{},\"id\":\"1626\",\"type\":\"LinearScale\"},{\"attributes\":{\"fill_color\":{\"value\":\"#1f77b4\"},\"line_color\":{\"value\":\"#1f77b4\"},\"x\":{\"field\":\"x\"},\"y\":{\"field\":\"y\"}},\"id\":\"1646\",\"type\":\"Circle\"},{\"attributes\":{},\"id\":\"1638\",\"type\":\"ResetTool\"},{\"attributes\":{},\"id\":\"1629\",\"type\":\"BasicTicker\"},{\"attributes\":{},\"id\":\"1633\",\"type\":\"BasicTicker\"},{\"attributes\":{\"source\":{\"id\":\"1645\"}},\"id\":\"1650\",\"type\":\"CDSView\"},{\"attributes\":{},\"id\":\"1683\",\"type\":\"BasicTickFormatter\"},{\"attributes\":{\"active_drag\":\"auto\",\"active_inspect\":\"auto\",\"active_multi\":null,\"active_scroll\":\"auto\",\"active_tap\":\"auto\",\"tools\":[{\"id\":\"1636\"},{\"id\":\"1637\"},{\"id\":\"1638\"}]},\"id\":\"1641\",\"type\":\"Toolbar\"},{\"attributes\":{\"formatter\":{\"id\":\"1685\"},\"ticker\":{\"id\":\"1633\"}},\"id\":\"1632\",\"type\":\"LinearAxis\"},{\"attributes\":{\"fill_color\":{\"value\":\"red\"},\"line_color\":{\"value\":\"red\"},\"x\":{\"field\":\"x\"},\"y\":{\"field\":\"y\"}},\"id\":\"1648\",\"type\":\"Circle\"}],\"root_ids\":[\"1619\"]},\"title\":\"Bokeh Application\",\"version\":\"2.1.1\"}};\n",
       "  var render_items = [{\"docid\":\"0813ffae-e2ea-4711-9d79-4d10a8a8d5a4\",\"root_ids\":[\"1619\"],\"roots\":{\"1619\":\"2c44002b-df47-405b-8110-41ec4e07096c\"}}];\n",
       "  root.Bokeh.embed.embed_items_notebook(docs_json, render_items);\n",
       "\n",
       "  }\n",
       "  if (root.Bokeh !== undefined) {\n",
       "    embed_document(root);\n",
       "  } else {\n",
       "    var attempts = 0;\n",
       "    var timer = setInterval(function(root) {\n",
       "      if (root.Bokeh !== undefined) {\n",
       "        clearInterval(timer);\n",
       "        embed_document(root);\n",
       "      } else {\n",
       "        attempts++;\n",
       "        if (attempts > 100) {\n",
       "          clearInterval(timer);\n",
       "          console.log(\"Bokeh: ERROR: Unable to run BokehJS code because BokehJS library is missing\");\n",
       "        }\n",
       "      }\n",
       "    }, 10, root)\n",
       "  }\n",
       "})(window);"
      ],
      "application/vnd.bokehjs_exec.v0+json": ""
     },
     "metadata": {
      "application/vnd.bokehjs_exec.v0+json": {
       "id": "1619"
      }
     },
     "output_type": "display_data"
    }
   ],
   "source": [
    "plot = figure(plot_height=400, tools='box_select, lasso_select, reset')\n",
    "plot.circle(iris_df.petal_length, iris_df.sepal_length, selection_color='red', nonselection_fill_alpha=0.2, nonselection_fill_color='grey')\n",
    "show(plot)"
   ]
  },
  {
   "cell_type": "code",
   "execution_count": 23,
   "metadata": {},
   "outputs": [],
   "source": [
    "np.random.seed(365)\n",
    "a = np.random.random_sample(1000)\n",
    "b = np.random.random_sample(1000)"
   ]
  },
  {
   "cell_type": "code",
   "execution_count": 24,
   "metadata": {},
   "outputs": [
    {
     "data": {
      "text/html": [
       "\n",
       "\n",
       "\n",
       "\n",
       "\n",
       "\n",
       "  <div class=\"bk-root\" id=\"b79e0af2-d558-43fd-b0ca-fb7c9fcb20f4\" data-root-id=\"1751\"></div>\n"
      ]
     },
     "metadata": {},
     "output_type": "display_data"
    },
    {
     "data": {
      "application/javascript": [
       "(function(root) {\n",
       "  function embed_document(root) {\n",
       "    \n",
       "  var docs_json = {\"9e247397-1f8b-4bb5-8e41-d3093bd67bcf\":{\"roots\":{\"references\":[{\"attributes\":{\"below\":[{\"id\":\"1760\"}],\"center\":[{\"id\":\"1763\"},{\"id\":\"1767\"}],\"left\":[{\"id\":\"1764\"}],\"plot_height\":400,\"renderers\":[{\"id\":\"1776\"}],\"title\":{\"id\":\"1817\"},\"toolbar\":{\"id\":\"1769\"},\"x_range\":{\"id\":\"1752\"},\"x_scale\":{\"id\":\"1756\"},\"y_range\":{\"id\":\"1754\"},\"y_scale\":{\"id\":\"1758\"}},\"id\":\"1751\",\"subtype\":\"Figure\",\"type\":\"Plot\"},{\"attributes\":{\"active_drag\":\"auto\",\"active_inspect\":\"auto\",\"active_multi\":null,\"active_scroll\":\"auto\",\"active_tap\":\"auto\",\"tools\":[{\"id\":\"1750\"},{\"id\":\"1768\"}]},\"id\":\"1769\",\"type\":\"Toolbar\"},{\"attributes\":{},\"id\":\"1824\",\"type\":\"UnionRenderers\"},{\"attributes\":{\"text\":\"\"},\"id\":\"1817\",\"type\":\"Title\"},{\"attributes\":{},\"id\":\"1758\",\"type\":\"LinearScale\"},{\"attributes\":{},\"id\":\"1761\",\"type\":\"BasicTicker\"},{\"attributes\":{\"data\":{\"x\":{\"__ndarray__\":\"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\",\"dtype\":\"float64\",\"order\":\"little\",\"shape\":[1000]},\"y\":{\"__ndarray__\":\"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\",\"dtype\":\"float64\",\"order\":\"little\",\"shape\":[1000]}},\"selected\":{\"id\":\"1823\"},\"selection_policy\":{\"id\":\"1824\"}},\"id\":\"1772\",\"type\":\"ColumnDataSource\"},{\"attributes\":{},\"id\":\"1820\",\"type\":\"BasicTickFormatter\"},{\"attributes\":{},\"id\":\"1752\",\"type\":\"DataRange1d\"},{\"attributes\":{\"fill_color\":{\"value\":\"#1f77b4\"},\"line_color\":{\"value\":\"#1f77b4\"},\"size\":{\"units\":\"screen\",\"value\":8},\"x\":{\"field\":\"x\"},\"y\":{\"field\":\"y\"}},\"id\":\"1773\",\"type\":\"Circle\"},{\"attributes\":{},\"id\":\"1823\",\"type\":\"Selection\"},{\"attributes\":{\"formatter\":{\"id\":\"1822\"},\"ticker\":{\"id\":\"1765\"}},\"id\":\"1764\",\"type\":\"LinearAxis\"},{\"attributes\":{\"source\":{\"id\":\"1772\"}},\"id\":\"1777\",\"type\":\"CDSView\"},{\"attributes\":{\"data_source\":{\"id\":\"1772\"},\"glyph\":{\"id\":\"1773\"},\"hover_glyph\":{\"id\":\"1775\"},\"muted_glyph\":null,\"nonselection_glyph\":{\"id\":\"1774\"},\"selection_glyph\":null,\"view\":{\"id\":\"1777\"}},\"id\":\"1776\",\"type\":\"GlyphRenderer\"},{\"attributes\":{},\"id\":\"1768\",\"type\":\"CrosshairTool\"},{\"attributes\":{\"axis\":{\"id\":\"1760\"},\"ticker\":null},\"id\":\"1763\",\"type\":\"Grid\"},{\"attributes\":{},\"id\":\"1754\",\"type\":\"DataRange1d\"},{\"attributes\":{\"formatter\":{\"id\":\"1820\"},\"ticker\":{\"id\":\"1761\"}},\"id\":\"1760\",\"type\":\"LinearAxis\"},{\"attributes\":{},\"id\":\"1822\",\"type\":\"BasicTickFormatter\"},{\"attributes\":{\"callback\":null,\"mode\":\"hline\",\"tooltips\":null},\"id\":\"1750\",\"type\":\"HoverTool\"},{\"attributes\":{\"fill_alpha\":{\"value\":0.1},\"fill_color\":{\"value\":\"#1f77b4\"},\"line_alpha\":{\"value\":0.1},\"line_color\":{\"value\":\"#1f77b4\"},\"size\":{\"units\":\"screen\",\"value\":8},\"x\":{\"field\":\"x\"},\"y\":{\"field\":\"y\"}},\"id\":\"1774\",\"type\":\"Circle\"},{\"attributes\":{},\"id\":\"1756\",\"type\":\"LinearScale\"},{\"attributes\":{\"axis\":{\"id\":\"1764\"},\"dimension\":1,\"ticker\":null},\"id\":\"1767\",\"type\":\"Grid\"},{\"attributes\":{},\"id\":\"1765\",\"type\":\"BasicTicker\"},{\"attributes\":{\"fill_color\":{\"value\":\"magenta\"},\"line_color\":{\"value\":\"magenta\"},\"size\":{\"units\":\"screen\",\"value\":8},\"x\":{\"field\":\"x\"},\"y\":{\"field\":\"y\"}},\"id\":\"1775\",\"type\":\"Circle\"}],\"root_ids\":[\"1751\"]},\"title\":\"Bokeh Application\",\"version\":\"2.1.1\"}};\n",
       "  var render_items = [{\"docid\":\"9e247397-1f8b-4bb5-8e41-d3093bd67bcf\",\"root_ids\":[\"1751\"],\"roots\":{\"1751\":\"b79e0af2-d558-43fd-b0ca-fb7c9fcb20f4\"}}];\n",
       "  root.Bokeh.embed.embed_items_notebook(docs_json, render_items);\n",
       "\n",
       "  }\n",
       "  if (root.Bokeh !== undefined) {\n",
       "    embed_document(root);\n",
       "  } else {\n",
       "    var attempts = 0;\n",
       "    var timer = setInterval(function(root) {\n",
       "      if (root.Bokeh !== undefined) {\n",
       "        clearInterval(timer);\n",
       "        embed_document(root);\n",
       "      } else {\n",
       "        attempts++;\n",
       "        if (attempts > 100) {\n",
       "          clearInterval(timer);\n",
       "          console.log(\"Bokeh: ERROR: Unable to run BokehJS code because BokehJS library is missing\");\n",
       "        }\n",
       "      }\n",
       "    }, 10, root)\n",
       "  }\n",
       "})(window);"
      ],
      "application/vnd.bokehjs_exec.v0+json": ""
     },
     "metadata": {
      "application/vnd.bokehjs_exec.v0+json": {
       "id": "1751"
      }
     },
     "output_type": "display_data"
    }
   ],
   "source": [
    "hover = HoverTool(tooltips=None, mode='hline')\n",
    "plot = figure(plot_height=400, tools=[hover, 'crosshair'])\n",
    "# x and y are lists of random points\n",
    "plot.circle(a, b, size=8, hover_color='magenta')\n",
    "show(plot)"
   ]
  },
  {
   "cell_type": "code",
   "execution_count": 25,
   "metadata": {},
   "outputs": [
    {
     "data": {
      "text/html": [
       "<div>\n",
       "<style scoped>\n",
       "    .dataframe tbody tr th:only-of-type {\n",
       "        vertical-align: middle;\n",
       "    }\n",
       "\n",
       "    .dataframe tbody tr th {\n",
       "        vertical-align: top;\n",
       "    }\n",
       "\n",
       "    .dataframe thead th {\n",
       "        text-align: right;\n",
       "    }\n",
       "</style>\n",
       "<table border=\"1\" class=\"dataframe\">\n",
       "  <thead>\n",
       "    <tr style=\"text-align: right;\">\n",
       "      <th></th>\n",
       "      <th>sepal_length</th>\n",
       "      <th>sepal_width</th>\n",
       "      <th>petal_length</th>\n",
       "      <th>petal_width</th>\n",
       "      <th>species</th>\n",
       "    </tr>\n",
       "  </thead>\n",
       "  <tbody>\n",
       "    <tr>\n",
       "      <th>0</th>\n",
       "      <td>5.1</td>\n",
       "      <td>3.5</td>\n",
       "      <td>1.4</td>\n",
       "      <td>0.2</td>\n",
       "      <td>setosa</td>\n",
       "    </tr>\n",
       "    <tr>\n",
       "      <th>1</th>\n",
       "      <td>4.9</td>\n",
       "      <td>3.0</td>\n",
       "      <td>1.4</td>\n",
       "      <td>0.2</td>\n",
       "      <td>setosa</td>\n",
       "    </tr>\n",
       "    <tr>\n",
       "      <th>2</th>\n",
       "      <td>4.7</td>\n",
       "      <td>3.2</td>\n",
       "      <td>1.3</td>\n",
       "      <td>0.2</td>\n",
       "      <td>setosa</td>\n",
       "    </tr>\n",
       "    <tr>\n",
       "      <th>3</th>\n",
       "      <td>4.6</td>\n",
       "      <td>3.1</td>\n",
       "      <td>1.5</td>\n",
       "      <td>0.2</td>\n",
       "      <td>setosa</td>\n",
       "    </tr>\n",
       "    <tr>\n",
       "      <th>4</th>\n",
       "      <td>5.0</td>\n",
       "      <td>3.6</td>\n",
       "      <td>1.4</td>\n",
       "      <td>0.2</td>\n",
       "      <td>setosa</td>\n",
       "    </tr>\n",
       "  </tbody>\n",
       "</table>\n",
       "</div>"
      ],
      "text/plain": [
       "   sepal_length  sepal_width  petal_length  petal_width species\n",
       "0           5.1          3.5           1.4          0.2  setosa\n",
       "1           4.9          3.0           1.4          0.2  setosa\n",
       "2           4.7          3.2           1.3          0.2  setosa\n",
       "3           4.6          3.1           1.5          0.2  setosa\n",
       "4           5.0          3.6           1.4          0.2  setosa"
      ]
     },
     "execution_count": 25,
     "metadata": {},
     "output_type": "execute_result"
    }
   ],
   "source": [
    "iris_df.head()"
   ]
  },
  {
   "cell_type": "code",
   "execution_count": 26,
   "metadata": {},
   "outputs": [
    {
     "data": {
      "text/html": [
       "\n",
       "\n",
       "\n",
       "\n",
       "\n",
       "\n",
       "  <div class=\"bk-root\" id=\"f11072dc-7fe8-4d24-a66b-e9d2efe45649\" data-root-id=\"1875\"></div>\n"
      ]
     },
     "metadata": {},
     "output_type": "display_data"
    },
    {
     "data": {
      "application/javascript": [
       "(function(root) {\n",
       "  function embed_document(root) {\n",
       "    \n",
       "  var docs_json = {\"3330c9ca-d3c5-40d2-9a45-c391c4b824f8\":{\"roots\":{\"references\":[{\"attributes\":{\"below\":[{\"id\":\"1884\"}],\"center\":[{\"id\":\"1887\"},{\"id\":\"1891\"}],\"left\":[{\"id\":\"1888\"}],\"plot_height\":400,\"renderers\":[{\"id\":\"1909\"}],\"title\":{\"id\":\"1958\"},\"toolbar\":{\"id\":\"1899\"},\"x_range\":{\"id\":\"1876\"},\"x_scale\":{\"id\":\"1880\"},\"y_range\":{\"id\":\"1878\"},\"y_scale\":{\"id\":\"1882\"}},\"id\":\"1875\",\"subtype\":\"Figure\",\"type\":\"Plot\"},{\"attributes\":{\"axis\":{\"id\":\"1884\"},\"ticker\":null},\"id\":\"1887\",\"type\":\"Grid\"},{\"attributes\":{},\"id\":\"1882\",\"type\":\"LinearScale\"},{\"attributes\":{},\"id\":\"1893\",\"type\":\"WheelZoomTool\"},{\"attributes\":{},\"id\":\"1895\",\"type\":\"SaveTool\"},{\"attributes\":{},\"id\":\"1961\",\"type\":\"BasicTickFormatter\"},{\"attributes\":{},\"id\":\"1892\",\"type\":\"PanTool\"},{\"attributes\":{\"bottom_units\":\"screen\",\"fill_alpha\":0.5,\"fill_color\":\"lightgrey\",\"left_units\":\"screen\",\"level\":\"overlay\",\"line_alpha\":1.0,\"line_color\":\"black\",\"line_dash\":[4,4],\"line_width\":2,\"right_units\":\"screen\",\"top_units\":\"screen\"},\"id\":\"1898\",\"type\":\"BoxAnnotation\"},{\"attributes\":{},\"id\":\"1896\",\"type\":\"ResetTool\"},{\"attributes\":{\"fill_alpha\":{\"value\":0.1},\"fill_color\":{\"field\":\"species\",\"transform\":{\"id\":\"1874\"}},\"line_alpha\":{\"value\":0.1},\"line_color\":{\"field\":\"species\",\"transform\":{\"id\":\"1874\"}},\"size\":{\"units\":\"screen\",\"value\":10},\"x\":{\"field\":\"petal_length\"},\"y\":{\"field\":\"sepal_length\"}},\"id\":\"1908\",\"type\":\"Circle\"},{\"attributes\":{},\"id\":\"1897\",\"type\":\"HelpTool\"},{\"attributes\":{\"text\":\"\"},\"id\":\"1958\",\"type\":\"Title\"},{\"attributes\":{\"axis_label\":\"petal_length\",\"formatter\":{\"id\":\"1961\"},\"ticker\":{\"id\":\"1885\"}},\"id\":\"1884\",\"type\":\"LinearAxis\"},{\"attributes\":{},\"id\":\"1876\",\"type\":\"DataRange1d\"},{\"attributes\":{\"overlay\":{\"id\":\"1898\"}},\"id\":\"1894\",\"type\":\"BoxZoomTool\"},{\"attributes\":{\"source\":{\"id\":\"1873\"}},\"id\":\"1910\",\"type\":\"CDSView\"},{\"attributes\":{\"factors\":[\"setosa\",\"virginica\",\"versicolor\"],\"palette\":[\"red\",\"green\",\"blue\"]},\"id\":\"1874\",\"type\":\"CategoricalColorMapper\"},{\"attributes\":{},\"id\":\"1880\",\"type\":\"LinearScale\"},{\"attributes\":{},\"id\":\"1963\",\"type\":\"BasicTickFormatter\"},{\"attributes\":{\"active_drag\":\"auto\",\"active_inspect\":\"auto\",\"active_multi\":null,\"active_scroll\":\"auto\",\"active_tap\":\"auto\",\"tools\":[{\"id\":\"1892\"},{\"id\":\"1893\"},{\"id\":\"1894\"},{\"id\":\"1895\"},{\"id\":\"1896\"},{\"id\":\"1897\"}]},\"id\":\"1899\",\"type\":\"Toolbar\"},{\"attributes\":{},\"id\":\"1878\",\"type\":\"DataRange1d\"},{\"attributes\":{\"data_source\":{\"id\":\"1873\"},\"glyph\":{\"id\":\"1907\"},\"hover_glyph\":null,\"muted_glyph\":null,\"nonselection_glyph\":{\"id\":\"1908\"},\"selection_glyph\":null,\"view\":{\"id\":\"1910\"}},\"id\":\"1909\",\"type\":\"GlyphRenderer\"},{\"attributes\":{\"axis_label\":\"sepal_length\",\"formatter\":{\"id\":\"1963\"},\"ticker\":{\"id\":\"1889\"}},\"id\":\"1888\",\"type\":\"LinearAxis\"},{\"attributes\":{\"data\":{\"index\":[0,1,2,3,4,5,6,7,8,9,10,11,12,13,14,15,16,17,18,19,20,21,22,23,24,25,26,27,28,29,30,31,32,33,34,35,36,37,38,39,40,41,42,43,44,45,46,47,48,49,50,51,52,53,54,55,56,57,58,59,60,61,62,63,64,65,66,67,68,69,70,71,72,73,74,75,76,77,78,79,80,81,82,83,84,85,86,87,88,89,90,91,92,93,94,95,96,97,98,99,100,101,102,103,104,105,106,107,108,109,110,111,112,113,114,115,116,117,118,119,120,121,122,123,124,125,126,127,128,129,130,131,132,133,134,135,136,137,138,139,140,141,142,143,144,145,146,147,148,149],\"petal_length\":{\"__ndarray__\":\"ZmZmZmZm9j9mZmZmZmb2P83MzMzMzPQ/AAAAAAAA+D9mZmZmZmb2PzMzMzMzM/s/ZmZmZmZm9j8AAAAAAAD4P2ZmZmZmZvY/AAAAAAAA+D8AAAAAAAD4P5qZmZmZmfk/ZmZmZmZm9j+amZmZmZnxPzMzMzMzM/M/AAAAAAAA+D/NzMzMzMz0P2ZmZmZmZvY/MzMzMzMz+z8AAAAAAAD4PzMzMzMzM/s/AAAAAAAA+D8AAAAAAADwPzMzMzMzM/s/ZmZmZmZm/j+amZmZmZn5P5qZmZmZmfk/AAAAAAAA+D9mZmZmZmb2P5qZmZmZmfk/mpmZmZmZ+T8AAAAAAAD4PwAAAAAAAPg/ZmZmZmZm9j8AAAAAAAD4PzMzMzMzM/M/zczMzMzM9D9mZmZmZmb2P83MzMzMzPQ/AAAAAAAA+D/NzMzMzMz0P83MzMzMzPQ/zczMzMzM9D+amZmZmZn5P2ZmZmZmZv4/ZmZmZmZm9j+amZmZmZn5P2ZmZmZmZvY/AAAAAAAA+D9mZmZmZmb2P83MzMzMzBJAAAAAAAAAEkCamZmZmZkTQAAAAAAAABBAZmZmZmZmEkAAAAAAAAASQM3MzMzMzBJAZmZmZmZmCkBmZmZmZmYSQDMzMzMzMw9AAAAAAAAADEDNzMzMzMwQQAAAAAAAABBAzczMzMzMEkDNzMzMzMwMQJqZmZmZmRFAAAAAAAAAEkBmZmZmZmYQQAAAAAAAABJAMzMzMzMzD0AzMzMzMzMTQAAAAAAAABBAmpmZmZmZE0DNzMzMzMwSQDMzMzMzMxFAmpmZmZmZEUAzMzMzMzMTQAAAAAAAABRAAAAAAAAAEkAAAAAAAAAMQGZmZmZmZg5AmpmZmZmZDUAzMzMzMzMPQGZmZmZmZhRAAAAAAAAAEkAAAAAAAAASQM3MzMzMzBJAmpmZmZmZEUBmZmZmZmYQQAAAAAAAABBAmpmZmZmZEUBmZmZmZmYSQAAAAAAAABBAZmZmZmZmCkDNzMzMzMwQQM3MzMzMzBBAzczMzMzMEEAzMzMzMzMRQAAAAAAAAAhAZmZmZmZmEEAAAAAAAAAYQGZmZmZmZhRAmpmZmZmZF0BmZmZmZmYWQDMzMzMzMxdAZmZmZmZmGkAAAAAAAAASQDMzMzMzMxlAMzMzMzMzF0BmZmZmZmYYQGZmZmZmZhRAMzMzMzMzFUAAAAAAAAAWQAAAAAAAABRAZmZmZmZmFEAzMzMzMzMVQAAAAAAAABZAzczMzMzMGkCamZmZmZkbQAAAAAAAABRAzczMzMzMFkCamZmZmZkTQM3MzMzMzBpAmpmZmZmZE0DNzMzMzMwWQAAAAAAAABhAMzMzMzMzE0CamZmZmZkTQGZmZmZmZhZAMzMzMzMzF0BmZmZmZmYYQJqZmZmZmRlAZmZmZmZmFkBmZmZmZmYUQGZmZmZmZhZAZmZmZmZmGEBmZmZmZmYWQAAAAAAAABZAMzMzMzMzE0CamZmZmZkVQGZmZmZmZhZAZmZmZmZmFEBmZmZmZmYUQJqZmZmZmRdAzczMzMzMFkDNzMzMzMwUQAAAAAAAABRAzczMzMzMFECamZmZmZkVQGZmZmZmZhRA\",\"dtype\":\"float64\",\"order\":\"little\",\"shape\":[150]},\"petal_width\":{\"__ndarray__\":\"mpmZmZmZyT+amZmZmZnJP5qZmZmZmck/mpmZmZmZyT+amZmZmZnJP5qZmZmZmdk/MzMzMzMz0z+amZmZmZnJP5qZmZmZmck/mpmZmZmZuT+amZmZmZnJP5qZmZmZmck/mpmZmZmZuT+amZmZmZm5P5qZmZmZmck/mpmZmZmZ2T+amZmZmZnZPzMzMzMzM9M/MzMzMzMz0z8zMzMzMzPTP5qZmZmZmck/mpmZmZmZ2T+amZmZmZnJPwAAAAAAAOA/mpmZmZmZyT+amZmZmZnJP5qZmZmZmdk/mpmZmZmZyT+amZmZmZnJP5qZmZmZmck/mpmZmZmZyT+amZmZmZnZP5qZmZmZmbk/mpmZmZmZyT+amZmZmZnJP5qZmZmZmck/mpmZmZmZyT+amZmZmZm5P5qZmZmZmck/mpmZmZmZyT8zMzMzMzPTPzMzMzMzM9M/mpmZmZmZyT8zMzMzMzPjP5qZmZmZmdk/MzMzMzMz0z+amZmZmZnJP5qZmZmZmck/mpmZmZmZyT+amZmZmZnJP2ZmZmZmZvY/AAAAAAAA+D8AAAAAAAD4P83MzMzMzPQ/AAAAAAAA+D/NzMzMzMz0P5qZmZmZmfk/AAAAAAAA8D/NzMzMzMz0P2ZmZmZmZvY/AAAAAAAA8D8AAAAAAAD4PwAAAAAAAPA/ZmZmZmZm9j/NzMzMzMz0P2ZmZmZmZvY/AAAAAAAA+D8AAAAAAADwPwAAAAAAAPg/mpmZmZmZ8T/NzMzMzMz8P83MzMzMzPQ/AAAAAAAA+D8zMzMzMzPzP83MzMzMzPQ/ZmZmZmZm9j9mZmZmZmb2PzMzMzMzM/s/AAAAAAAA+D8AAAAAAADwP5qZmZmZmfE/AAAAAAAA8D8zMzMzMzPzP5qZmZmZmfk/AAAAAAAA+D+amZmZmZn5PwAAAAAAAPg/zczMzMzM9D/NzMzMzMz0P83MzMzMzPQ/MzMzMzMz8z9mZmZmZmb2PzMzMzMzM/M/AAAAAAAA8D/NzMzMzMz0PzMzMzMzM/M/zczMzMzM9D/NzMzMzMz0P5qZmZmZmfE/zczMzMzM9D8AAAAAAAAEQGZmZmZmZv4/zczMzMzMAEDNzMzMzMz8P5qZmZmZmQFAzczMzMzMAEAzMzMzMzP7P83MzMzMzPw/zczMzMzM/D8AAAAAAAAEQAAAAAAAAABAZmZmZmZm/j/NzMzMzMwAQAAAAAAAAABAMzMzMzMzA0BmZmZmZmYCQM3MzMzMzPw/mpmZmZmZAUBmZmZmZmYCQAAAAAAAAPg/ZmZmZmZmAkAAAAAAAAAAQAAAAAAAAABAzczMzMzM/D/NzMzMzMwAQM3MzMzMzPw/zczMzMzM/D/NzMzMzMz8P83MzMzMzABAmpmZmZmZ+T9mZmZmZmb+PwAAAAAAAABAmpmZmZmZAUAAAAAAAAD4P2ZmZmZmZvY/ZmZmZmZmAkAzMzMzMzMDQM3MzMzMzPw/zczMzMzM/D/NzMzMzMwAQDMzMzMzMwNAZmZmZmZmAkBmZmZmZmb+P2ZmZmZmZgJAAAAAAAAABEBmZmZmZmYCQGZmZmZmZv4/AAAAAAAAAEBmZmZmZmYCQM3MzMzMzPw/\",\"dtype\":\"float64\",\"order\":\"little\",\"shape\":[150]},\"sepal_length\":{\"__ndarray__\":\"ZmZmZmZmFECamZmZmZkTQM3MzMzMzBJAZmZmZmZmEkAAAAAAAAAUQJqZmZmZmRVAZmZmZmZmEkAAAAAAAAAUQJqZmZmZmRFAmpmZmZmZE0CamZmZmZkVQDMzMzMzMxNAMzMzMzMzE0AzMzMzMzMRQDMzMzMzMxdAzczMzMzMFkCamZmZmZkVQGZmZmZmZhRAzczMzMzMFkBmZmZmZmYUQJqZmZmZmRVAZmZmZmZmFEBmZmZmZmYSQGZmZmZmZhRAMzMzMzMzE0AAAAAAAAAUQAAAAAAAABRAzczMzMzMFEDNzMzMzMwUQM3MzMzMzBJAMzMzMzMzE0CamZmZmZkVQM3MzMzMzBRAAAAAAAAAFkCamZmZmZkTQAAAAAAAABRAAAAAAAAAFkCamZmZmZkTQJqZmZmZmRFAZmZmZmZmFEAAAAAAAAAUQAAAAAAAABJAmpmZmZmZEUAAAAAAAAAUQGZmZmZmZhRAMzMzMzMzE0BmZmZmZmYUQGZmZmZmZhJAMzMzMzMzFUAAAAAAAAAUQAAAAAAAABxAmpmZmZmZGUCamZmZmZkbQAAAAAAAABZAAAAAAAAAGkDNzMzMzMwWQDMzMzMzMxlAmpmZmZmZE0BmZmZmZmYaQM3MzMzMzBRAAAAAAAAAFECamZmZmZkXQAAAAAAAABhAZmZmZmZmGEBmZmZmZmYWQM3MzMzMzBpAZmZmZmZmFkAzMzMzMzMXQM3MzMzMzBhAZmZmZmZmFkCamZmZmZkXQGZmZmZmZhhAMzMzMzMzGUBmZmZmZmYYQJqZmZmZmRlAZmZmZmZmGkAzMzMzMzMbQM3MzMzMzBpAAAAAAAAAGEDNzMzMzMwWQAAAAAAAABZAAAAAAAAAFkAzMzMzMzMXQAAAAAAAABhAmpmZmZmZFUAAAAAAAAAYQM3MzMzMzBpAMzMzMzMzGUBmZmZmZmYWQAAAAAAAABZAAAAAAAAAFkBmZmZmZmYYQDMzMzMzMxdAAAAAAAAAFEBmZmZmZmYWQM3MzMzMzBZAzczMzMzMFkDNzMzMzMwYQGZmZmZmZhRAzczMzMzMFkAzMzMzMzMZQDMzMzMzMxdAZmZmZmZmHEAzMzMzMzMZQAAAAAAAABpAZmZmZmZmHkCamZmZmZkTQDMzMzMzMx1AzczMzMzMGkDNzMzMzMwcQAAAAAAAABpAmpmZmZmZGUAzMzMzMzMbQM3MzMzMzBZAMzMzMzMzF0CamZmZmZkZQAAAAAAAABpAzczMzMzMHkDNzMzMzMweQAAAAAAAABhAmpmZmZmZG0BmZmZmZmYWQM3MzMzMzB5AMzMzMzMzGUDNzMzMzMwaQM3MzMzMzBxAzczMzMzMGEBmZmZmZmYYQJqZmZmZmRlAzczMzMzMHECamZmZmZkdQJqZmZmZmR9AmpmZmZmZGUAzMzMzMzMZQGZmZmZmZhhAzczMzMzMHkAzMzMzMzMZQJqZmZmZmRlAAAAAAAAAGECamZmZmZkbQM3MzMzMzBpAmpmZmZmZG0AzMzMzMzMXQDMzMzMzMxtAzczMzMzMGkDNzMzMzMwaQDMzMzMzMxlAAAAAAAAAGkDNzMzMzMwYQJqZmZmZmRdA\",\"dtype\":\"float64\",\"order\":\"little\",\"shape\":[150]},\"sepal_width\":{\"__ndarray__\":\"AAAAAAAADEAAAAAAAAAIQJqZmZmZmQlAzczMzMzMCEDNzMzMzMwMQDMzMzMzMw9AMzMzMzMzC0AzMzMzMzMLQDMzMzMzMwdAzczMzMzMCECamZmZmZkNQDMzMzMzMwtAAAAAAAAACEAAAAAAAAAIQAAAAAAAABBAmpmZmZmZEUAzMzMzMzMPQAAAAAAAAAxAZmZmZmZmDkBmZmZmZmYOQDMzMzMzMwtAmpmZmZmZDUDNzMzMzMwMQGZmZmZmZgpAMzMzMzMzC0AAAAAAAAAIQDMzMzMzMwtAAAAAAAAADEAzMzMzMzMLQJqZmZmZmQlAzczMzMzMCEAzMzMzMzMLQGZmZmZmZhBAzczMzMzMEEDNzMzMzMwIQJqZmZmZmQlAAAAAAAAADEDNzMzMzMwMQAAAAAAAAAhAMzMzMzMzC0AAAAAAAAAMQGZmZmZmZgJAmpmZmZmZCUAAAAAAAAAMQGZmZmZmZg5AAAAAAAAACEBmZmZmZmYOQJqZmZmZmQlAmpmZmZmZDUBmZmZmZmYKQJqZmZmZmQlAmpmZmZmZCUDNzMzMzMwIQGZmZmZmZgJAZmZmZmZmBkBmZmZmZmYGQGZmZmZmZgpAMzMzMzMzA0AzMzMzMzMHQJqZmZmZmQVAAAAAAAAAAEAAAAAAAAAIQJqZmZmZmQFAMzMzMzMzB0AzMzMzMzMHQM3MzMzMzAhAAAAAAAAACECamZmZmZkFQJqZmZmZmQFAAAAAAAAABECamZmZmZkJQGZmZmZmZgZAAAAAAAAABEBmZmZmZmYGQDMzMzMzMwdAAAAAAAAACEBmZmZmZmYGQAAAAAAAAAhAMzMzMzMzB0DNzMzMzMwEQDMzMzMzMwNAMzMzMzMzA0CamZmZmZkFQJqZmZmZmQVAAAAAAAAACEAzMzMzMzMLQM3MzMzMzAhAZmZmZmZmAkAAAAAAAAAIQAAAAAAAAARAzczMzMzMBEAAAAAAAAAIQM3MzMzMzARAZmZmZmZmAkCamZmZmZkFQAAAAAAAAAhAMzMzMzMzB0AzMzMzMzMHQAAAAAAAAARAZmZmZmZmBkBmZmZmZmYKQJqZmZmZmQVAAAAAAAAACEAzMzMzMzMHQAAAAAAAAAhAAAAAAAAACEAAAAAAAAAEQDMzMzMzMwdAAAAAAAAABEDNzMzMzMwMQJqZmZmZmQlAmpmZmZmZBUAAAAAAAAAIQAAAAAAAAARAZmZmZmZmBkCamZmZmZkJQAAAAAAAAAhAZmZmZmZmDkDNzMzMzMwEQJqZmZmZmQFAmpmZmZmZCUBmZmZmZmYGQGZmZmZmZgZAmpmZmZmZBUBmZmZmZmYKQJqZmZmZmQlAZmZmZmZmBkAAAAAAAAAIQGZmZmZmZgZAAAAAAAAACEBmZmZmZmYGQGZmZmZmZg5AZmZmZmZmBkBmZmZmZmYGQM3MzMzMzARAAAAAAAAACEAzMzMzMzMLQM3MzMzMzAhAAAAAAAAACEDNzMzMzMwIQM3MzMzMzAhAzczMzMzMCECamZmZmZkFQJqZmZmZmQlAZmZmZmZmCkAAAAAAAAAIQAAAAAAAAARAAAAAAAAACEAzMzMzMzMLQAAAAAAAAAhA\",\"dtype\":\"float64\",\"order\":\"little\",\"shape\":[150]},\"species\":[\"setosa\",\"setosa\",\"setosa\",\"setosa\",\"setosa\",\"setosa\",\"setosa\",\"setosa\",\"setosa\",\"setosa\",\"setosa\",\"setosa\",\"setosa\",\"setosa\",\"setosa\",\"setosa\",\"setosa\",\"setosa\",\"setosa\",\"setosa\",\"setosa\",\"setosa\",\"setosa\",\"setosa\",\"setosa\",\"setosa\",\"setosa\",\"setosa\",\"setosa\",\"setosa\",\"setosa\",\"setosa\",\"setosa\",\"setosa\",\"setosa\",\"setosa\",\"setosa\",\"setosa\",\"setosa\",\"setosa\",\"setosa\",\"setosa\",\"setosa\",\"setosa\",\"setosa\",\"setosa\",\"setosa\",\"setosa\",\"setosa\",\"setosa\",\"versicolor\",\"versicolor\",\"versicolor\",\"versicolor\",\"versicolor\",\"versicolor\",\"versicolor\",\"versicolor\",\"versicolor\",\"versicolor\",\"versicolor\",\"versicolor\",\"versicolor\",\"versicolor\",\"versicolor\",\"versicolor\",\"versicolor\",\"versicolor\",\"versicolor\",\"versicolor\",\"versicolor\",\"versicolor\",\"versicolor\",\"versicolor\",\"versicolor\",\"versicolor\",\"versicolor\",\"versicolor\",\"versicolor\",\"versicolor\",\"versicolor\",\"versicolor\",\"versicolor\",\"versicolor\",\"versicolor\",\"versicolor\",\"versicolor\",\"versicolor\",\"versicolor\",\"versicolor\",\"versicolor\",\"versicolor\",\"versicolor\",\"versicolor\",\"versicolor\",\"versicolor\",\"versicolor\",\"versicolor\",\"versicolor\",\"versicolor\",\"virginica\",\"virginica\",\"virginica\",\"virginica\",\"virginica\",\"virginica\",\"virginica\",\"virginica\",\"virginica\",\"virginica\",\"virginica\",\"virginica\",\"virginica\",\"virginica\",\"virginica\",\"virginica\",\"virginica\",\"virginica\",\"virginica\",\"virginica\",\"virginica\",\"virginica\",\"virginica\",\"virginica\",\"virginica\",\"virginica\",\"virginica\",\"virginica\",\"virginica\",\"virginica\",\"virginica\",\"virginica\",\"virginica\",\"virginica\",\"virginica\",\"virginica\",\"virginica\",\"virginica\",\"virginica\",\"virginica\",\"virginica\",\"virginica\",\"virginica\",\"virginica\",\"virginica\",\"virginica\",\"virginica\",\"virginica\",\"virginica\",\"virginica\"]},\"selected\":{\"id\":\"1965\"},\"selection_policy\":{\"id\":\"1966\"}},\"id\":\"1873\",\"type\":\"ColumnDataSource\"},{\"attributes\":{},\"id\":\"1885\",\"type\":\"BasicTicker\"},{\"attributes\":{},\"id\":\"1965\",\"type\":\"Selection\"},{\"attributes\":{\"fill_color\":{\"field\":\"species\",\"transform\":{\"id\":\"1874\"}},\"line_color\":{\"field\":\"species\",\"transform\":{\"id\":\"1874\"}},\"size\":{\"units\":\"screen\",\"value\":10},\"x\":{\"field\":\"petal_length\"},\"y\":{\"field\":\"sepal_length\"}},\"id\":\"1907\",\"type\":\"Circle\"},{\"attributes\":{},\"id\":\"1889\",\"type\":\"BasicTicker\"},{\"attributes\":{},\"id\":\"1966\",\"type\":\"UnionRenderers\"},{\"attributes\":{\"axis\":{\"id\":\"1888\"},\"dimension\":1,\"ticker\":null},\"id\":\"1891\",\"type\":\"Grid\"}],\"root_ids\":[\"1875\"]},\"title\":\"Bokeh Application\",\"version\":\"2.1.1\"}};\n",
       "  var render_items = [{\"docid\":\"3330c9ca-d3c5-40d2-9a45-c391c4b824f8\",\"root_ids\":[\"1875\"],\"roots\":{\"1875\":\"f11072dc-7fe8-4d24-a66b-e9d2efe45649\"}}];\n",
       "  root.Bokeh.embed.embed_items_notebook(docs_json, render_items);\n",
       "\n",
       "  }\n",
       "  if (root.Bokeh !== undefined) {\n",
       "    embed_document(root);\n",
       "  } else {\n",
       "    var attempts = 0;\n",
       "    var timer = setInterval(function(root) {\n",
       "      if (root.Bokeh !== undefined) {\n",
       "        clearInterval(timer);\n",
       "        embed_document(root);\n",
       "      } else {\n",
       "        attempts++;\n",
       "        if (attempts > 100) {\n",
       "          clearInterval(timer);\n",
       "          console.log(\"Bokeh: ERROR: Unable to run BokehJS code because BokehJS library is missing\");\n",
       "        }\n",
       "      }\n",
       "    }, 10, root)\n",
       "  }\n",
       "})(window);"
      ],
      "application/vnd.bokehjs_exec.v0+json": ""
     },
     "metadata": {
      "application/vnd.bokehjs_exec.v0+json": {
       "id": "1875"
      }
     },
     "output_type": "display_data"
    }
   ],
   "source": [
    "source = ColumnDataSource(iris_df)\n",
    "mapper = CategoricalColorMapper( factors=['setosa', 'virginica', 'versicolor'], palette=['red', 'green', 'blue'])\n",
    "plot = figure(plot_height=400, x_axis_label='petal_length', y_axis_label='sepal_length')\n",
    "plot.circle('petal_length', 'sepal_length', size=10, source=source, color={'field': 'species', 'transform': mapper})\n",
    "show(plot)"
   ]
  },
  {
   "cell_type": "code",
   "execution_count": 28,
   "metadata": {},
   "outputs": [],
   "source": [
    "\n",
    "from bokeh.io import curdoc\n",
    "from bokeh.layouts import column\n",
    "from bokeh.models import ColumnDataSource, Select\n",
    "from bokeh.plotting import figure"
   ]
  },
  {
   "cell_type": "code",
   "execution_count": 29,
   "metadata": {},
   "outputs": [],
   "source": [
    "N = 1000\n",
    "source = ColumnDataSource(data={'x': np.random.random(N), 'y': np.random.random(N)})\n",
    "\n",
    "# Create plots and widgets\n",
    "plot = figure(plot_height=400, plot_width=400)\n",
    "plot.circle(x='x', y='y', source=source)\n",
    "\n",
    "menu = Select(options=['uniform', 'normal', 'lognormal'], value='uniform', title='Distribution')\n",
    "\n",
    "# Add callback to widgets\n",
    "def callback(attr, old, new):\n",
    "    if menu.value == 'uniform':\n",
    "        f=np.random.random\n",
    "    elif menu.value == 'normal':\n",
    "        f=np.random.normal\n",
    "    else:\n",
    "        f=np.random.lognormal\n",
    "    source.data={'x': f(size=N), 'y': f(size=N)}\n",
    "\n",
    "menu.on_change('value', callback)\n",
    "\n",
    "# Arrange plots and widgets in layouts\n",
    "layout = column(menu, plot)\n",
    "\n",
    "curdoc().add_root(layout)"
   ]
  },
  {
   "cell_type": "code",
   "execution_count": 30,
   "metadata": {},
   "outputs": [],
   "source": [
    "def bkapp(doc):\n",
    "    \n",
    "    N = 1000\n",
    "    source = ColumnDataSource(data={'x': np.random.random(N), 'y': np.random.random(N)})\n",
    "\n",
    "    # Create plots and widgets\n",
    "    plot = figure(plot_height=400, plot_width=400)\n",
    "    plot.circle(x='x', y='y', source=source)\n",
    "\n",
    "    menu = Select(options=['uniform', 'normal', 'lognormal'], value='uniform', title='Distribution')\n",
    "\n",
    "    # Add callback to widgets\n",
    "    def callback(attr, old, new):\n",
    "        if menu.value == 'uniform':\n",
    "            f=np.random.random\n",
    "        elif menu.value == 'normal':\n",
    "            f=np.random.normal\n",
    "        else:\n",
    "            f=np.random.lognormal\n",
    "        source.data={'x': f(size=N), 'y': f(size=N)}\n",
    "\n",
    "    menu.on_change('value', callback)\n",
    "    \n",
    "    doc.add_root(column(menu, plot))\n",
    "\n",
    "    doc.theme = Theme(json=yaml.load(\"\"\"\n",
    "        attrs:\n",
    "            Figure:\n",
    "                background_fill_color: \"#DDDDDD\"\n",
    "                outline_line_color: white\n",
    "                toolbar_location: above\n",
    "                height: 400\n",
    "                width: 400\n",
    "            Grid:\n",
    "                grid_line_dash: [6, 4]\n",
    "                grid_line_color: white\n",
    "    \"\"\", Loader=yaml.FullLoader))"
   ]
  },
  {
   "cell_type": "code",
   "execution_count": 31,
   "metadata": {},
   "outputs": [
    {
     "data": {
      "application/vnd.bokehjs_exec.v0+json": "",
      "text/html": [
       "\n",
       "<script id=\"2125\">\n",
       "  var xhr = new XMLHttpRequest()\n",
       "  xhr.responseType = 'blob';\n",
       "  xhr.open('GET', \"http://localhost:54485/autoload.js?bokeh-autoload-element=2125&bokeh-absolute-url=http://localhost:54485&resources=none\", true);\n",
       "  \n",
       "  xhr.onload = function (event) {\n",
       "    var script = document.createElement('script'),\n",
       "    src = URL.createObjectURL(event.target.response);\n",
       "    script.src = src;\n",
       "    document.body.appendChild(script);\n",
       "  };\n",
       "xhr.send();\n",
       "</script>"
      ]
     },
     "metadata": {
      "application/vnd.bokehjs_exec.v0+json": {
       "server_id": "014e00a7a4a54057b57c1d36b0c10402"
      }
     },
     "output_type": "display_data"
    },
    {
     "name": "stderr",
     "output_type": "stream",
     "text": [
      "bokeh.server.views.ws - ERROR - Refusing websocket connection from Origin 'http://localhost:8889';                       use --allow-websocket-origin=localhost:8889 or set BOKEH_ALLOW_WS_ORIGIN=localhost:8889 to permit this; currently we allow origins {'localhost:8888'}\n"
     ]
    }
   ],
   "source": [
    "show(bkapp)"
   ]
  },
  {
   "cell_type": "code",
   "execution_count": 32,
   "metadata": {},
   "outputs": [
    {
     "data": {
      "image/png": "[encoded data removed]",
      "text/plain": [
       "<Figure size 432x288 with 1 Axes>"
      ]
     },
     "metadata": {
      "needs_background": "light"
     },
     "output_type": "display_data"
    }
   ],
   "source": [
    "import matplotlib.pyplot as plt\n",
    "import numpy as np\n",
    "from matplotlib.widgets  import RectangleSelector\n",
    "\n",
    "xdata = np.linspace(0,9*np.pi, num=301)\n",
    "ydata = np.sin(xdata)\n",
    "\n",
    "fig, ax = plt.subplots()\n",
    "line, = ax.plot(xdata, ydata)\n",
    "\n",
    "\n",
    "def line_select_callback(eclick, erelease):\n",
    "    x1, y1 = eclick.xdata, eclick.ydata\n",
    "    x2, y2 = erelease.xdata, erelease.ydata\n",
    "\n",
    "    rect = plt.Rectangle( (min(x1,x2),min(y1,y2)), np.abs(x1-x2), np.abs(y1-y2) )\n",
    "    ax.add_patch(rect)\n",
    "\n",
    "\n",
    "rs = RectangleSelector(ax, line_select_callback,\n",
    "                       drawtype='box', useblit=False, button=[1], \n",
    "                       minspanx=5, minspany=5, spancoords='pixels', \n",
    "                       interactive=True)\n",
    "\n",
    "plt.show()"
   ]
  },
  {
   "cell_type": "code",
   "execution_count": 35,
   "metadata": {},
   "outputs": [
    {
     "data": {
      "image/png": "[encoded data removed]",
      "text/plain": [
       "<Figure size 432x288 with 1 Axes>"
      ]
     },
     "metadata": {
      "needs_background": "light"
     },
     "output_type": "display_data"
    }
   ],
   "source": [
    "import matplotlib.pyplot as plt\n",
    "from matplotlib.patches import Rectangle\n",
    "\n",
    "class Annotate(object):\n",
    "    def __init__(self):\n",
    "        self.ax = plt.gca()\n",
    "        self.rect = Rectangle((0,0), 1, 1)\n",
    "        self.x0 = None\n",
    "        self.y0 = None\n",
    "        self.x1 = None\n",
    "        self.y1 = None\n",
    "        self.ax.add_patch(self.rect)\n",
    "        self.ax.figure.canvas.mpl_connect('button_press_event', self.on_press)\n",
    "        self.ax.figure.canvas.mpl_connect('button_release_event', self.on_release)\n",
    "\n",
    "    def on_press(self, event):\n",
    "        print('press')\n",
    "        self.x0 = event.xdata\n",
    "        self.y0 = event.ydata\n",
    "\n",
    "    def on_release(self, event):\n",
    "        print('release')\n",
    "        self.x1 = event.xdata\n",
    "        self.y1 = event.ydata\n",
    "        self.rect.set_width(self.x1 - self.x0)\n",
    "        self.rect.set_height(self.y1 - self.y0)\n",
    "        self.rect.set_xy((self.x0, self.y0))\n",
    "        self.ax.figure.canvas.draw()\n",
    "\n",
    "a = Annotate()\n",
    "plt.show()"
   ]
  },
  {
   "cell_type": "code",
   "execution_count": null,
   "metadata": {},
   "outputs": [],
   "source": []
  }
 ],
 "metadata": {
  "kernelspec": {
   "display_name": "Python 3",
   "language": "python",
   "name": "python3"
  },
  "language_info": {
   "codemirror_mode": {
    "name": "ipython",
    "version": 3
   },
   "file_extension": ".py",
   "mimetype": "text/x-python",
   "name": "python",
   "nbconvert_exporter": "python",
   "pygments_lexer": "ipython3",
   "version": "3.7.7"
  }
 },
 "nbformat": 4,
 "nbformat_minor": 5
}
