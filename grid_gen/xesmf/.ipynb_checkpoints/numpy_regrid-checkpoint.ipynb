{
 "cells": [
  {
   "cell_type": "code",
   "execution_count": 1,
   "id": "regulation-former",
   "metadata": {},
   "outputs": [],
   "source": [
    "\n",
    "# not importing xarray here!\n",
    "%matplotlib inline\n",
    "import matplotlib.pyplot as plt\n",
    "import numpy as np\n",
    "import xesmf as xe"
   ]
  },
  {
   "cell_type": "code",
   "execution_count": 2,
   "id": "welsh-uncle",
   "metadata": {},
   "outputs": [
    {
     "data": {
      "text/plain": [
       "<matplotlib.collections.QuadMesh at 0x1441c60a0>"
      ]
     },
     "execution_count": 2,
     "metadata": {},
     "output_type": "execute_result"
    },
    {
     "data": {
      "image/png": "[encoded data removed]",
      "text/plain": [
       "<Figure size 432x288 with 1 Axes>"
      ]
     },
     "metadata": {
      "needs_background": "light"
     },
     "output_type": "display_data"
    }
   ],
   "source": [
    "data = np.arange(20).reshape(4, 5)\n",
    "plt.pcolormesh(data)"
   ]
  },
  {
   "cell_type": "code",
   "execution_count": 3,
   "id": "governmental-mouth",
   "metadata": {},
   "outputs": [],
   "source": [
    "grid_in = {'lon': np.linspace(0, 40, 5),\n",
    "           'lat': np.linspace(0, 20, 4)\n",
    "          }\n",
    "\n",
    "# output grid has a larger coverage and finer resolution\n",
    "grid_out = {'lon': np.linspace(-20, 60, 51),\n",
    "            'lat': np.linspace(-10, 30, 41)\n",
    "           }"
   ]
  },
  {
   "cell_type": "code",
   "execution_count": 4,
   "id": "recreational-relevance",
   "metadata": {},
   "outputs": [
    {
     "name": "stdout",
     "output_type": "stream",
     "text": [
      "Create weight file: bilinear_4x5_41x51.nc\n",
      "Remove file bilinear_4x5_41x51.nc\n"
     ]
    },
    {
     "data": {
      "text/plain": [
       "xESMF Regridder \n",
       "Regridding algorithm:       bilinear \n",
       "Weight filename:            bilinear_4x5_41x51.nc \n",
       "Reuse pre-computed weights? False \n",
       "Input grid shape:           (4, 5) \n",
       "Output grid shape:          (41, 51) \n",
       "Output grid dimension name: ('lat', 'lon') \n",
       "Periodic in longitude?      False"
      ]
     },
     "execution_count": 4,
     "metadata": {},
     "output_type": "execute_result"
    }
   ],
   "source": [
    "\n",
    "regridder = xe.Regridder(grid_in, grid_out, 'bilinear')\n",
    "regridder.clean_weight_file()\n",
    "regridder"
   ]
  },
  {
   "cell_type": "code",
   "execution_count": 7,
   "id": "handled-practice",
   "metadata": {},
   "outputs": [
    {
     "data": {
      "text/plain": [
       "(41, 51)"
      ]
     },
     "execution_count": 7,
     "metadata": {},
     "output_type": "execute_result"
    }
   ],
   "source": [
    "\n",
    "data_out = regridder(data)  # regrid a basic numpy array\n",
    "data_out.shape"
   ]
  },
  {
   "cell_type": "code",
   "execution_count": 8,
   "id": "colored-raleigh",
   "metadata": {},
   "outputs": [
    {
     "data": {
      "text/plain": [
       "<matplotlib.collections.QuadMesh at 0x146a8b6d0>"
      ]
     },
     "execution_count": 8,
     "metadata": {},
     "output_type": "execute_result"
    },
    {
     "data": {
      "image/png": "[encoded data removed]",
      "text/plain": [
       "<Figure size 432x288 with 1 Axes>"
      ]
     },
     "metadata": {
      "needs_background": "light"
     },
     "output_type": "display_data"
    }
   ],
   "source": [
    "plt.pcolormesh(data_out)"
   ]
  },
  {
   "cell_type": "markdown",
   "id": "electoral-abraham",
   "metadata": {},
   "source": [
    "**Curvilinear grid**\n",
    "\n",
    "Grids\n",
    "We use the previous input data, but now assume it is on a curvilinear grid described by 2D arrays. We also computed the cell corners, for two purposes:\n",
    "\n",
    "- Visualization with plt.pcolormesh (using cell centers will miss one row&column)\n",
    "- Conservative regridding with xESMF (*corner information is required for conservative method*)"
   ]
  },
  {
   "cell_type": "code",
   "execution_count": 9,
   "id": "dried-theology",
   "metadata": {},
   "outputs": [],
   "source": [
    "# cell centers\n",
    "lon, lat = np.meshgrid(np.linspace(-20, 20, 5), np.linspace(0, 30, 4))\n",
    "lon += lat/3\n",
    "lat += lon/3\n",
    "\n",
    "# cell corners\n",
    "lon_b, lat_b = np.meshgrid(np.linspace(-25, 25, 6), np.linspace(-5, 35, 5))\n",
    "lon_b += lat_b/3\n",
    "lat_b += lon_b/3"
   ]
  },
  {
   "cell_type": "code",
   "execution_count": 10,
   "id": "advance-knight",
   "metadata": {},
   "outputs": [
    {
     "data": {
      "text/plain": [
       "Text(0, 0.5, 'lat')"
      ]
     },
     "execution_count": 10,
     "metadata": {},
     "output_type": "execute_result"
    },
    {
     "data": {
      "image/png": "[encoded data removed]",
      "text/plain": [
       "<Figure size 432x288 with 1 Axes>"
      ]
     },
     "metadata": {
      "needs_background": "light"
     },
     "output_type": "display_data"
    }
   ],
   "source": [
    "plt.pcolormesh(lon_b, lat_b, data)\n",
    "plt.scatter(lon, lat)  # show cell center\n",
    "plt.xlabel('lon')\n",
    "plt.ylabel('lat')"
   ]
  },
  {
   "cell_type": "code",
   "execution_count": 11,
   "id": "circular-valley",
   "metadata": {},
   "outputs": [],
   "source": [
    "lon_out_b = np.linspace(-30, 40, 36)  # bounds\n",
    "lon_out = 0.5*(lon_out_b[1:]+lon_out_b[:-1]) # centers\n",
    "\n",
    "lat_out_b = np.linspace(-20, 50, 36)\n",
    "lat_out = 0.5*(lat_out_b[1:]+lat_out_b[:-1])"
   ]
  },
  {
   "cell_type": "code",
   "execution_count": 12,
   "id": "protected-controversy",
   "metadata": {},
   "outputs": [],
   "source": [
    "grid_in = {'lon': lon, 'lat': lat,\n",
    "           'lon_b': lon_b, 'lat_b': lat_b}\n",
    "\n",
    "grid_out = {'lon': lon_out, 'lat': lat_out,\n",
    "           'lon_b': lon_out_b, 'lat_b': lat_out_b}"
   ]
  },
  {
   "cell_type": "code",
   "execution_count": 13,
   "id": "married-national",
   "metadata": {},
   "outputs": [
    {
     "name": "stdout",
     "output_type": "stream",
     "text": [
      "Create weight file: conservative_4x5_35x35.nc\n",
      "Remove file conservative_4x5_35x35.nc\n"
     ]
    },
    {
     "data": {
      "text/plain": [
       "xESMF Regridder \n",
       "Regridding algorithm:       conservative \n",
       "Weight filename:            conservative_4x5_35x35.nc \n",
       "Reuse pre-computed weights? False \n",
       "Input grid shape:           (4, 5) \n",
       "Output grid shape:          (35, 35) \n",
       "Output grid dimension name: ('lat', 'lon') \n",
       "Periodic in longitude?      False"
      ]
     },
     "execution_count": 13,
     "metadata": {},
     "output_type": "execute_result"
    }
   ],
   "source": [
    "regridder = xe.Regridder(grid_in, grid_out, 'conservative')\n",
    "regridder.clean_weight_file()\n",
    "regridder"
   ]
  },
  {
   "cell_type": "code",
   "execution_count": 14,
   "id": "proof-lewis",
   "metadata": {},
   "outputs": [
    {
     "data": {
      "text/plain": [
       "(35, 35)"
      ]
     },
     "execution_count": 14,
     "metadata": {},
     "output_type": "execute_result"
    }
   ],
   "source": [
    "data_out = regridder(data)\n",
    "data_out.shape"
   ]
  },
  {
   "cell_type": "code",
   "execution_count": 15,
   "id": "contemporary-blood",
   "metadata": {},
   "outputs": [
    {
     "data": {
      "text/plain": [
       "Text(0, 0.5, 'lat')"
      ]
     },
     "execution_count": 15,
     "metadata": {},
     "output_type": "execute_result"
    },
    {
     "data": {
      "image/png": "[encoded data removed]",
      "text/plain": [
       "<Figure size 432x288 with 1 Axes>"
      ]
     },
     "metadata": {
      "needs_background": "light"
     },
     "output_type": "display_data"
    }
   ],
   "source": [
    "plt.pcolormesh(lon_out_b, lat_out_b, data_out)\n",
    "plt.xlabel('lon')\n",
    "plt.ylabel('lat')"
   ]
  }
 ],
 "metadata": {
  "kernelspec": {
   "display_name": "Python 3",
   "language": "python",
   "name": "python3"
  },
  "language_info": {
   "codemirror_mode": {
    "name": "ipython",
    "version": 3
   },
   "file_extension": ".py",
   "mimetype": "text/x-python",
   "name": "python",
   "nbconvert_exporter": "python",
   "pygments_lexer": "ipython3",
   "version": "3.8.8"
  }
 },
 "nbformat": 4,
 "nbformat_minor": 5
}
