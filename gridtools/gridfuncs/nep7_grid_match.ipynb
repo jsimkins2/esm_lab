{
 "cells": [
  {
   "cell_type": "markdown",
   "metadata": {},
   "source": [
    "# Recreate NEP7 Grid"
   ]
  },
  {
   "cell_type": "markdown",
   "metadata": {},
   "source": [
    "The goal of this script is to match the NEP7 using functions found within spherical.py and gridUtils.py"
   ]
  },
  {
   "cell_type": "code",
   "execution_count": 77,
   "metadata": {},
   "outputs": [],
   "source": [
    "import numpy \n",
    "\n",
    "# define spherical python functions\n",
    "def angle_through_center(p1, p2):\n",
    "    \"\"\"Angle at center of sphere between two points on the surface of the sphere.\n",
    "    Positions are given as (latitude,longitude) tuples measured in degrees.\"\"\"\n",
    "    phi1 = numpy.deg2rad( p1[0] )\n",
    "    phi2 = numpy.deg2rad( p2[0] )\n",
    "    dphi_2 = 0.5 * ( phi2 - phi1 )\n",
    "    dlambda_2 = 0.5 * numpy.deg2rad( p2[1] - p1[1] )\n",
    "    a = numpy.sin( dphi_2 )**2 + numpy.cos( phi1 ) * numpy.cos( phi2 ) * ( numpy.sin( dlambda_2 )**2 )\n",
    "    c = 2. * numpy.arctan2( numpy.sqrt(a), numpy.sqrt( 1. - a ) )\n",
    "    return c\n",
    "\n",
    "def quad_area(lat, lon):\n",
    "    \"\"\"Returns area of spherical quad (bounded by great arcs).\"\"\"\n",
    "    # x,y,z are 3D coordinates\n",
    "    d2r = numpy.deg2rad(1.)\n",
    "    x = numpy.cos(d2r * lat) * numpy.cos(d2r * lon)\n",
    "    y = numpy.cos(d2r * lat) * numpy.sin(d2r * lon)\n",
    "    z = numpy.sin(d2r * lat)\n",
    "    c0 = (x[ :-1, :-1], y[ :-1, :-1], z[ :-1, :-1])\n",
    "    c1 = (x[ :-1,1:  ], y[ :-1,1:  ], z[ :-1,1:  ])\n",
    "    c2 = (x[1:  ,1:  ], y[1:  ,1:  ], z[1:  ,1:  ])\n",
    "    c3 = (x[1:  , :-1], y[1:  , :-1], z[1:  , :-1])\n",
    "    a0 = angle_between(c1, c0, c2)\n",
    "    a1 = angle_between(c2, c1, c3)\n",
    "    a2 = angle_between(c3, c2, c0)\n",
    "    a3 = angle_between(c0, c3, c1)\n",
    "    return a0 + a1 + a2 + a3 - 2. * numpy.pi\n",
    "\n",
    "def angle_between(v1, v2, v3):\n",
    "    \"\"\"Returns angle v2-v1-v3 i.e betweeen v1-v2 and v1-v3.\"\"\"\n",
    "    # vector product between v1 and v2\n",
    "    px = v1[1] * v2[2] - v1[2] * v2[1]\n",
    "    py = v1[2] * v2[0] - v1[0] * v2[2]\n",
    "    pz = v1[0] * v2[1] - v1[1] * v2[0]\n",
    "    # vector product between v1 and v3\n",
    "    qx = v1[1] * v3[2] - v1[2] * v3[1]\n",
    "    qy = v1[2] * v3[0] - v1[0] * v3[2]\n",
    "    qz = v1[0] * v3[1] - v1[1] * v3[0]\n",
    "\n",
    "    ddd = (px * px + py * py + pz * pz) * (qx * qx + qy * qy + qz * qz)\n",
    "    ddd = (px * qx + py * qy + pz * qz) / numpy.sqrt(ddd)\n",
    "    angle = numpy.arccos( ddd )\n",
    "    return angle\n",
    "\n"
   ]
  },
  {
   "cell_type": "code",
   "execution_count": 78,
   "metadata": {},
   "outputs": [],
   "source": [
    "# load gridUtils functions\n",
    "\n",
    "def generate_regional_spherical(lon0, lon_span, lat0, lat_span, tilt, refine):\n",
    "    \"\"\"Generate a regional grid centered at (lon0,lat0) with spans of (lon_span,lat_span) and tilted by angle tilt\"\"\"\n",
    "    Ni = int(lon_span*refine)\n",
    "    Nj = int(lat_span*refine)\n",
    "\n",
    "    #Generate a mesh at equator centered at (lon0, 0)\n",
    "    lam_,phi_ = generate_latlon_mesh_centered(Ni,Nj,lon0,lon_span,0.0,lat_span)\n",
    "    lam_,phi_ = rotate_z_mesh(lam_,phi_, (90.-lon0)*PI_180)  #rotate around z to bring it centered at y axis\n",
    "    lam_,phi_ = rotate_y_mesh(lam_,phi_,tilt*PI_180)         #rotate around y axis to tilt it as desired\n",
    "    lam_,phi_ = rotate_x_mesh(lam_,phi_,lat0*PI_180)         #rotate around x to bring it centered at (lon0,lat0)\n",
    "    lam_,phi_ = rotate_z_mesh(lam_,phi_,-(90.-lon0)*PI_180)  #rotate around z to bring it back\n",
    "\n",
    "    return lam_,phi_\n",
    "\n",
    "def rotate_x(x,y,z,theta):\n",
    "    \"\"\"Rotate vector (x,y,z) by angle theta around x axis.\"\"\"\n",
    "    \"\"\"Returns the rotated components.\"\"\"\n",
    "    cost = np.cos(theta)\n",
    "    sint = np.sin(theta)\n",
    "    yp   = y*cost - z*sint\n",
    "    zp   = y*sint + z*cost\n",
    "    return x,yp,zp\n",
    "\n",
    "def rotate_y(x,y,z,theta):\n",
    "    \"\"\"Rotate vector (x,y,z) by angle theta around y axis.\"\"\"\n",
    "    \"\"\"Returns the rotated components.\"\"\"\n",
    "    cost = np.cos(theta)\n",
    "    sint = np.sin(theta)\n",
    "    zp   = z*cost - x*sint\n",
    "    xp   = z*sint + x*cost\n",
    "    return xp,y,zp\n",
    "\n",
    "def rotate_z(x,y,z,theta):\n",
    "    \"\"\"Rotate vector (x,y,z) by angle theta around z axis.\"\"\"\n",
    "    \"\"\"Returns the rotated components.\"\"\"\n",
    "    cost = np.cos(theta)\n",
    "    sint = np.sin(theta)\n",
    "    xp   = x*cost - y*sint\n",
    "    yp   = x*sint + y*cost\n",
    "    return xp,yp,z\n",
    "\n",
    "def pol2cart(lam,phi):\n",
    "    \"\"\"Transform a point on globe from Polar (lam,phi) to Cartesian coordinates.\"\"\"\n",
    "    \"\"\"Returns the Cartesian coordinates\"\"\"\n",
    "    lam=lam*PI_180\n",
    "    phi=phi*PI_180\n",
    "    x=np.cos(phi)*np.cos(lam)\n",
    "    y=np.cos(phi)*np.sin(lam)\n",
    "    z=np.sin(phi)\n",
    "    return x,y,z\n",
    "    \n",
    "def cart2pol(x,y,z):\n",
    "    \"\"\"Transform a point on globe from Cartesian (x,y,z) to polar coordinates.\"\"\"\n",
    "    \"\"\"Returns the polar coordinates\"\"\"\n",
    "    lam=np.arctan2(y,x)/PI_180\n",
    "    phi=np.arctan(z/np.sqrt(x**2+y**2))/PI_180\n",
    "    return lam,phi\n",
    "\n",
    "def rotate_z_mesh(lam,phi,theta):\n",
    "    \"\"\"Rotate the whole mesh on globe by angle theta around z axis (globe polar axis).\"\"\"\n",
    "    \"\"\"Returns the rotated mesh.\"\"\"\n",
    "    #Bring the angle to be in [-pi,pi] so that atan2 would work\n",
    "    lam       = np.where(lam>180,lam-360,lam)\n",
    "    #Change to Cartesian coord\n",
    "    x,y,z     = pol2cart(lam,phi)\n",
    "    #Rotate\n",
    "    xp,yp,zp  = rotate_z(x,y,z,theta)\n",
    "    #Change back to polar coords using atan2, in [-pi,pi]\n",
    "    lamp,phip = cart2pol(xp,yp,zp)\n",
    "    #Bring the angle back to be in [0,2*pi]\n",
    "    lamp      = np.where(lamp<0,lamp+360,lamp)\n",
    "    return lamp,phip\n",
    "\n",
    "def rotate_x_mesh(lam,phi,theta):\n",
    "    \"\"\"Rotate the whole mesh on globe by angle theta around x axis (passing through equator and prime meridian.).\"\"\"\n",
    "    \"\"\"Returns the rotated mesh.\"\"\"\n",
    "    #Bring the angle to be in [-pi,pi] so that atan2 would work\n",
    "    lam       = np.where(lam>180,lam-360,lam)\n",
    "    #Change to Cartesian coord\n",
    "    x,y,z     = pol2cart(lam,phi)\n",
    "    #Rotate\n",
    "    xp,yp,zp  = rotate_x(x,y,z,theta)\n",
    "    #Change back to polar coords using atan2, in [-pi,pi]\n",
    "    lamp,phip = cart2pol(xp,yp,zp)\n",
    "    #Bring the angle back to be in [0,2*pi]\n",
    "    lamp      = np.where(lamp<0,lamp+360,lamp)\n",
    "    return lamp,phip\n",
    "\n",
    "def rotate_y_mesh(lam,phi,theta):\n",
    "    \"\"\"Rotate the whole mesh on globe by angle theta around y axis (passing through equator and prime meridian+90.).\"\"\"\n",
    "    \"\"\"Returns the rotated mesh.\"\"\"\n",
    "    #Bring the angle to be in [-pi,pi] so that atan2 would work\n",
    "    lam       = np.where(lam>180,lam-360,lam)\n",
    "    #Change to Cartesian coord\n",
    "    x,y,z     = pol2cart(lam,phi)\n",
    "    #Rotate\n",
    "    xp,yp,zp  = rotate_y(x,y,z,theta)\n",
    "    #Change back to polar coords using atan2, in [-pi,pi]\n",
    "    lamp,phip = cart2pol(xp,yp,zp)\n",
    "    #Bring the angle back to be in [0,2*pi]\n",
    "    lamp      = np.where(lamp<0,lamp+360,lamp)\n",
    "    return lamp,phip\n",
    "\n",
    "def generate_latlon_mesh_centered(lni, lnj, llon0, llen_lon, llat0, llen_lat, ensure_nj_even=True):\n",
    "    \"\"\"Generate a regular lat-lon grid\"\"\"\n",
    "    msg = 'Generating regular lat-lon grid centered at %.2f %.2f on equator.' % (llon0, llat0)\n",
    "\n",
    "    llonSP = llon0 - llen_lon/2 + np.arange(lni+1) * llen_lon/float(lni)\n",
    "    llatSP = llat0 - llen_lat/2 + np.arange(lnj+1) * llen_lat/float(lnj)\n",
    "    if(llatSP.shape[0]%2 == 0 and ensure_nj_even):\n",
    "        llatSP = np.delete(llatSP,0,0)\n",
    "    llamSP = np.tile(llonSP,(llatSP.shape[0],1))\n",
    "    lphiSP = np.tile(llatSP.reshape((llatSP.shape[0],1)),(1,llonSP.shape[0]))\n",
    "    msg = '   Generated regular lat-lon grid between latitudes %.2f %.2f' % (lphiSP[0,0],lphiSP[-1,0])\n",
    "\n",
    "    msg = '   Number of js=%d' % (lphiSP.shape[0])\n",
    "\n",
    "    #h_i_inv=llen_lon*self.PI_180*np.cos(lphiSP*self.PI_180)/lni\n",
    "    #h_j_inv=llen_lat*self.PI_180*np.ones(lphiSP.shape)/lnj\n",
    "    #delsin_j = np.roll(np.sin(lphiSP*self.PI_180),shift=-1,axis=0) - np.sin(lphiSP*self.PI_180)\n",
    "    #dx_h=h_i_inv[:,:-1]*self._default_Re\n",
    "    #dy_h=h_j_inv[:-1,:]*self._default_Re\n",
    "    #area=delsin_j[:-1,:-1]*self._default_Re*self._default_Re*llen_lon*self.self.PI_180/lni\n",
    "    return llamSP,lphiSP\n"
   ]
  },
  {
   "cell_type": "markdown",
   "metadata": {},
   "source": [
    "### Create Test Values"
   ]
  },
  {
   "cell_type": "code",
   "execution_count": 121,
   "metadata": {},
   "outputs": [],
   "source": [
    "# define test values\n",
    "import numpy as np\n",
    "\n",
    "PI_180 = np.pi/180.\n",
    "dx = 20\n",
    "dy = 30\n",
    "\n",
    "x = np.linspace(300,310,dx)\n",
    "y = np.linspace(10, 20, dy)\n",
    "R = 6370.e3 # Radius of sphere        \n",
    "lon0 = 305\n",
    "lat0=15\n",
    "tilt=0\n",
    "refine=2\n",
    "\n",
    "# test successful"
   ]
  },
  {
   "cell_type": "code",
   "execution_count": 120,
   "metadata": {},
   "outputs": [],
   "source": [
    "#dx,dy, x,y,lon0,lat0"
   ]
  },
  {
   "cell_type": "markdown",
   "metadata": {},
   "source": [
    "### Load NEP7 Grid"
   ]
  },
  {
   "cell_type": "code",
   "execution_count": 80,
   "metadata": {},
   "outputs": [
    {
     "data": {
      "text/html": [
       "<div><svg style=\"position: absolute; width: 0; height: 0; overflow: hidden\">\n",
       "<defs>\n",
       "<symbol id=\"icon-database\" viewBox=\"0 0 32 32\">\n",
       "<title>Show/Hide data repr</title>\n",
       "<path d=\"M16 0c-8.837 0-16 2.239-16 5v4c0 2.761 7.163 5 16 5s16-2.239 16-5v-4c0-2.761-7.163-5-16-5z\"></path>\n",
       "<path d=\"M16 17c-8.837 0-16-2.239-16-5v6c0 2.761 7.163 5 16 5s16-2.239 16-5v-6c0 2.761-7.163 5-16 5z\"></path>\n",
       "<path d=\"M16 26c-8.837 0-16-2.239-16-5v6c0 2.761 7.163 5 16 5s16-2.239 16-5v-6c0 2.761-7.163 5-16 5z\"></path>\n",
       "</symbol>\n",
       "<symbol id=\"icon-file-text2\" viewBox=\"0 0 32 32\">\n",
       "<title>Show/Hide attributes</title>\n",
       "<path d=\"M28.681 7.159c-0.694-0.947-1.662-2.053-2.724-3.116s-2.169-2.030-3.116-2.724c-1.612-1.182-2.393-1.319-2.841-1.319h-15.5c-1.378 0-2.5 1.121-2.5 2.5v27c0 1.378 1.122 2.5 2.5 2.5h23c1.378 0 2.5-1.122 2.5-2.5v-19.5c0-0.448-0.137-1.23-1.319-2.841zM24.543 5.457c0.959 0.959 1.712 1.825 2.268 2.543h-4.811v-4.811c0.718 0.556 1.584 1.309 2.543 2.268zM28 29.5c0 0.271-0.229 0.5-0.5 0.5h-23c-0.271 0-0.5-0.229-0.5-0.5v-27c0-0.271 0.229-0.5 0.5-0.5 0 0 15.499-0 15.5 0v7c0 0.552 0.448 1 1 1h7v19.5z\"></path>\n",
       "<path d=\"M23 26h-14c-0.552 0-1-0.448-1-1s0.448-1 1-1h14c0.552 0 1 0.448 1 1s-0.448 1-1 1z\"></path>\n",
       "<path d=\"M23 22h-14c-0.552 0-1-0.448-1-1s0.448-1 1-1h14c0.552 0 1 0.448 1 1s-0.448 1-1 1z\"></path>\n",
       "<path d=\"M23 18h-14c-0.552 0-1-0.448-1-1s0.448-1 1-1h14c0.552 0 1 0.448 1 1s-0.448 1-1 1z\"></path>\n",
       "</symbol>\n",
       "</defs>\n",
       "</svg>\n",
       "<style>/* CSS stylesheet for displaying xarray objects in jupyterlab.\n",
       " *\n",
       " */\n",
       "\n",
       ":root {\n",
       "  --xr-font-color0: var(--jp-content-font-color0, rgba(0, 0, 0, 1));\n",
       "  --xr-font-color2: var(--jp-content-font-color2, rgba(0, 0, 0, 0.54));\n",
       "  --xr-font-color3: var(--jp-content-font-color3, rgba(0, 0, 0, 0.38));\n",
       "  --xr-border-color: var(--jp-border-color2, #e0e0e0);\n",
       "  --xr-disabled-color: var(--jp-layout-color3, #bdbdbd);\n",
       "  --xr-background-color: var(--jp-layout-color0, white);\n",
       "  --xr-background-color-row-even: var(--jp-layout-color1, white);\n",
       "  --xr-background-color-row-odd: var(--jp-layout-color2, #eeeeee);\n",
       "}\n",
       "\n",
       ".xr-wrap {\n",
       "  min-width: 300px;\n",
       "  max-width: 700px;\n",
       "}\n",
       "\n",
       ".xr-header {\n",
       "  padding-top: 6px;\n",
       "  padding-bottom: 6px;\n",
       "  margin-bottom: 4px;\n",
       "  border-bottom: solid 1px var(--xr-border-color);\n",
       "}\n",
       "\n",
       ".xr-header > div,\n",
       ".xr-header > ul {\n",
       "  display: inline;\n",
       "  margin-top: 0;\n",
       "  margin-bottom: 0;\n",
       "}\n",
       "\n",
       ".xr-obj-type,\n",
       ".xr-array-name {\n",
       "  margin-left: 2px;\n",
       "  margin-right: 10px;\n",
       "}\n",
       "\n",
       ".xr-obj-type {\n",
       "  color: var(--xr-font-color2);\n",
       "}\n",
       "\n",
       ".xr-sections {\n",
       "  padding-left: 0 !important;\n",
       "  display: grid;\n",
       "  grid-template-columns: 150px auto auto 1fr 20px 20px;\n",
       "}\n",
       "\n",
       ".xr-section-item {\n",
       "  display: contents;\n",
       "}\n",
       "\n",
       ".xr-section-item input {\n",
       "  display: none;\n",
       "}\n",
       "\n",
       ".xr-section-item input + label {\n",
       "  color: var(--xr-disabled-color);\n",
       "}\n",
       "\n",
       ".xr-section-item input:enabled + label {\n",
       "  cursor: pointer;\n",
       "  color: var(--xr-font-color2);\n",
       "}\n",
       "\n",
       ".xr-section-item input:enabled + label:hover {\n",
       "  color: var(--xr-font-color0);\n",
       "}\n",
       "\n",
       ".xr-section-summary {\n",
       "  grid-column: 1;\n",
       "  color: var(--xr-font-color2);\n",
       "  font-weight: 500;\n",
       "}\n",
       "\n",
       ".xr-section-summary > span {\n",
       "  display: inline-block;\n",
       "  padding-left: 0.5em;\n",
       "}\n",
       "\n",
       ".xr-section-summary-in:disabled + label {\n",
       "  color: var(--xr-font-color2);\n",
       "}\n",
       "\n",
       ".xr-section-summary-in + label:before {\n",
       "  display: inline-block;\n",
       "  content: '►';\n",
       "  font-size: 11px;\n",
       "  width: 15px;\n",
       "  text-align: center;\n",
       "}\n",
       "\n",
       ".xr-section-summary-in:disabled + label:before {\n",
       "  color: var(--xr-disabled-color);\n",
       "}\n",
       "\n",
       ".xr-section-summary-in:checked + label:before {\n",
       "  content: '▼';\n",
       "}\n",
       "\n",
       ".xr-section-summary-in:checked + label > span {\n",
       "  display: none;\n",
       "}\n",
       "\n",
       ".xr-section-summary,\n",
       ".xr-section-inline-details {\n",
       "  padding-top: 4px;\n",
       "  padding-bottom: 4px;\n",
       "}\n",
       "\n",
       ".xr-section-inline-details {\n",
       "  grid-column: 2 / -1;\n",
       "}\n",
       "\n",
       ".xr-section-details {\n",
       "  display: none;\n",
       "  grid-column: 1 / -1;\n",
       "  margin-bottom: 5px;\n",
       "}\n",
       "\n",
       ".xr-section-summary-in:checked ~ .xr-section-details {\n",
       "  display: contents;\n",
       "}\n",
       "\n",
       ".xr-array-wrap {\n",
       "  grid-column: 1 / -1;\n",
       "  display: grid;\n",
       "  grid-template-columns: 20px auto;\n",
       "}\n",
       "\n",
       ".xr-array-wrap > label {\n",
       "  grid-column: 1;\n",
       "  vertical-align: top;\n",
       "}\n",
       "\n",
       ".xr-preview {\n",
       "  color: var(--xr-font-color3);\n",
       "}\n",
       "\n",
       ".xr-array-preview,\n",
       ".xr-array-data {\n",
       "  padding: 0 5px !important;\n",
       "  grid-column: 2;\n",
       "}\n",
       "\n",
       ".xr-array-data,\n",
       ".xr-array-in:checked ~ .xr-array-preview {\n",
       "  display: none;\n",
       "}\n",
       "\n",
       ".xr-array-in:checked ~ .xr-array-data,\n",
       ".xr-array-preview {\n",
       "  display: inline-block;\n",
       "}\n",
       "\n",
       ".xr-dim-list {\n",
       "  display: inline-block !important;\n",
       "  list-style: none;\n",
       "  padding: 0 !important;\n",
       "  margin: 0;\n",
       "}\n",
       "\n",
       ".xr-dim-list li {\n",
       "  display: inline-block;\n",
       "  padding: 0;\n",
       "  margin: 0;\n",
       "}\n",
       "\n",
       ".xr-dim-list:before {\n",
       "  content: '(';\n",
       "}\n",
       "\n",
       ".xr-dim-list:after {\n",
       "  content: ')';\n",
       "}\n",
       "\n",
       ".xr-dim-list li:not(:last-child):after {\n",
       "  content: ',';\n",
       "  padding-right: 5px;\n",
       "}\n",
       "\n",
       ".xr-has-index {\n",
       "  font-weight: bold;\n",
       "}\n",
       "\n",
       ".xr-var-list,\n",
       ".xr-var-item {\n",
       "  display: contents;\n",
       "}\n",
       "\n",
       ".xr-var-item > div,\n",
       ".xr-var-item label,\n",
       ".xr-var-item > .xr-var-name span {\n",
       "  background-color: var(--xr-background-color-row-even);\n",
       "  margin-bottom: 0;\n",
       "}\n",
       "\n",
       ".xr-var-item > .xr-var-name:hover span {\n",
       "  padding-right: 5px;\n",
       "}\n",
       "\n",
       ".xr-var-list > li:nth-child(odd) > div,\n",
       ".xr-var-list > li:nth-child(odd) > label,\n",
       ".xr-var-list > li:nth-child(odd) > .xr-var-name span {\n",
       "  background-color: var(--xr-background-color-row-odd);\n",
       "}\n",
       "\n",
       ".xr-var-name {\n",
       "  grid-column: 1;\n",
       "}\n",
       "\n",
       ".xr-var-dims {\n",
       "  grid-column: 2;\n",
       "}\n",
       "\n",
       ".xr-var-dtype {\n",
       "  grid-column: 3;\n",
       "  text-align: right;\n",
       "  color: var(--xr-font-color2);\n",
       "}\n",
       "\n",
       ".xr-var-preview {\n",
       "  grid-column: 4;\n",
       "}\n",
       "\n",
       ".xr-var-name,\n",
       ".xr-var-dims,\n",
       ".xr-var-dtype,\n",
       ".xr-preview,\n",
       ".xr-attrs dt {\n",
       "  white-space: nowrap;\n",
       "  overflow: hidden;\n",
       "  text-overflow: ellipsis;\n",
       "  padding-right: 10px;\n",
       "}\n",
       "\n",
       ".xr-var-name:hover,\n",
       ".xr-var-dims:hover,\n",
       ".xr-var-dtype:hover,\n",
       ".xr-attrs dt:hover {\n",
       "  overflow: visible;\n",
       "  width: auto;\n",
       "  z-index: 1;\n",
       "}\n",
       "\n",
       ".xr-var-attrs,\n",
       ".xr-var-data {\n",
       "  display: none;\n",
       "  background-color: var(--xr-background-color) !important;\n",
       "  padding-bottom: 5px !important;\n",
       "}\n",
       "\n",
       ".xr-var-attrs-in:checked ~ .xr-var-attrs,\n",
       ".xr-var-data-in:checked ~ .xr-var-data {\n",
       "  display: block;\n",
       "}\n",
       "\n",
       ".xr-var-data > table {\n",
       "  float: right;\n",
       "}\n",
       "\n",
       ".xr-var-name span,\n",
       ".xr-var-data,\n",
       ".xr-attrs {\n",
       "  padding-left: 25px !important;\n",
       "}\n",
       "\n",
       ".xr-attrs,\n",
       ".xr-var-attrs,\n",
       ".xr-var-data {\n",
       "  grid-column: 1 / -1;\n",
       "}\n",
       "\n",
       "dl.xr-attrs {\n",
       "  padding: 0;\n",
       "  margin: 0;\n",
       "  display: grid;\n",
       "  grid-template-columns: 125px auto;\n",
       "}\n",
       "\n",
       ".xr-attrs dt, dd {\n",
       "  padding: 0;\n",
       "  margin: 0;\n",
       "  float: left;\n",
       "  padding-right: 10px;\n",
       "  width: auto;\n",
       "}\n",
       "\n",
       ".xr-attrs dt {\n",
       "  font-weight: normal;\n",
       "  grid-column: 1;\n",
       "}\n",
       "\n",
       ".xr-attrs dt:hover span {\n",
       "  display: inline-block;\n",
       "  background: var(--xr-background-color);\n",
       "  padding-right: 10px;\n",
       "}\n",
       "\n",
       ".xr-attrs dd {\n",
       "  grid-column: 2;\n",
       "  white-space: pre-wrap;\n",
       "  word-break: break-all;\n",
       "}\n",
       "\n",
       ".xr-icon-database,\n",
       ".xr-icon-file-text2 {\n",
       "  display: inline-block;\n",
       "  vertical-align: middle;\n",
       "  width: 1em;\n",
       "  height: 1.5em !important;\n",
       "  stroke-width: 0;\n",
       "  stroke: currentColor;\n",
       "  fill: currentColor;\n",
       "}\n",
       "</style><div class='xr-wrap'><div class='xr-header'><div class='xr-obj-type'>xarray.Dataset</div></div><ul class='xr-sections'><li class='xr-section-item'><input id='section-14e22ed8-d4cf-476e-822e-f2f8d3beec1a' class='xr-section-summary-in' type='checkbox' disabled ><label for='section-14e22ed8-d4cf-476e-822e-f2f8d3beec1a' class='xr-section-summary'  title='Expand/collapse section'>Dimensions:</label><div class='xr-section-inline-details'><ul class='xr-dim-list'><li><span>nx</span>: 684</li><li><span>nxp</span>: 685</li><li><span>ny</span>: 1632</li><li><span>nyp</span>: 1633</li></ul></div><div class='xr-section-details'></div></li><li class='xr-section-item'><input id='section-cff85cd3-af64-4f8f-b961-90d57e02e5ad' class='xr-section-summary-in' type='checkbox' disabled ><label for='section-cff85cd3-af64-4f8f-b961-90d57e02e5ad' class='xr-section-summary'  title='Expand/collapse section'>Coordinates: <span>(0)</span></label><div class='xr-section-inline-details'></div><div class='xr-section-details'><ul class='xr-var-list'></ul></div></li><li class='xr-section-item'><input id='section-c570eb05-f6af-4021-bace-daf16c5c8ab7' class='xr-section-summary-in' type='checkbox'  checked><label for='section-c570eb05-f6af-4021-bace-daf16c5c8ab7' class='xr-section-summary' >Data variables: <span>(7)</span></label><div class='xr-section-inline-details'></div><div class='xr-section-details'><ul class='xr-var-list'><li class='xr-var-item'><div class='xr-var-name'><span>x</span></div><div class='xr-var-dims'>(nyp, nxp)</div><div class='xr-var-dtype'>float32</div><div class='xr-var-preview xr-preview'>...</div><input id='attrs-219309ac-0159-4bc2-bf9d-f4a53728c4dc' class='xr-var-attrs-in' type='checkbox' ><label for='attrs-219309ac-0159-4bc2-bf9d-f4a53728c4dc' title='Show/Hide attributes'><svg class='icon xr-icon-file-text2'><use xlink:href='#icon-file-text2'></use></svg></label><input id='data-9c4b53a0-d3cc-4d72-8c41-44c6fcb596ef' class='xr-var-data-in' type='checkbox'><label for='data-9c4b53a0-d3cc-4d72-8c41-44c6fcb596ef' title='Show/Hide data repr'><svg class='icon xr-icon-database'><use xlink:href='#icon-database'></use></svg></label><div class='xr-var-attrs'><dl class='xr-attrs'><dt><span>units :</span></dt><dd>degrees_east</dd></dl></div><pre class='xr-var-data'>[1118605 values with dtype=float32]</pre></li><li class='xr-var-item'><div class='xr-var-name'><span>y</span></div><div class='xr-var-dims'>(nyp, nxp)</div><div class='xr-var-dtype'>float32</div><div class='xr-var-preview xr-preview'>...</div><input id='attrs-0db7e102-96aa-40ca-a997-7e09081f235e' class='xr-var-attrs-in' type='checkbox' ><label for='attrs-0db7e102-96aa-40ca-a997-7e09081f235e' title='Show/Hide attributes'><svg class='icon xr-icon-file-text2'><use xlink:href='#icon-file-text2'></use></svg></label><input id='data-23106013-9f68-41af-8536-61078690ea34' class='xr-var-data-in' type='checkbox'><label for='data-23106013-9f68-41af-8536-61078690ea34' title='Show/Hide data repr'><svg class='icon xr-icon-database'><use xlink:href='#icon-database'></use></svg></label><div class='xr-var-attrs'><dl class='xr-attrs'><dt><span>units :</span></dt><dd>degrees_north</dd></dl></div><pre class='xr-var-data'>[1118605 values with dtype=float32]</pre></li><li class='xr-var-item'><div class='xr-var-name'><span>dx</span></div><div class='xr-var-dims'>(nyp, nx)</div><div class='xr-var-dtype'>float32</div><div class='xr-var-preview xr-preview'>...</div><input id='attrs-6f50216a-9d88-4f74-b81c-f5c2fc3ca6ff' class='xr-var-attrs-in' type='checkbox' ><label for='attrs-6f50216a-9d88-4f74-b81c-f5c2fc3ca6ff' title='Show/Hide attributes'><svg class='icon xr-icon-file-text2'><use xlink:href='#icon-file-text2'></use></svg></label><input id='data-cfe301fe-932c-45df-9e44-65bcf3141815' class='xr-var-data-in' type='checkbox'><label for='data-cfe301fe-932c-45df-9e44-65bcf3141815' title='Show/Hide data repr'><svg class='icon xr-icon-database'><use xlink:href='#icon-database'></use></svg></label><div class='xr-var-attrs'><dl class='xr-attrs'><dt><span>units :</span></dt><dd>meters</dd></dl></div><pre class='xr-var-data'>[1116972 values with dtype=float32]</pre></li><li class='xr-var-item'><div class='xr-var-name'><span>dy</span></div><div class='xr-var-dims'>(ny, nxp)</div><div class='xr-var-dtype'>float32</div><div class='xr-var-preview xr-preview'>...</div><input id='attrs-6a70aa99-6c9b-479a-a4a8-c18efe052925' class='xr-var-attrs-in' type='checkbox' ><label for='attrs-6a70aa99-6c9b-479a-a4a8-c18efe052925' title='Show/Hide attributes'><svg class='icon xr-icon-file-text2'><use xlink:href='#icon-file-text2'></use></svg></label><input id='data-a87b3cbd-d098-4052-817e-1d7306aa6c99' class='xr-var-data-in' type='checkbox'><label for='data-a87b3cbd-d098-4052-817e-1d7306aa6c99' title='Show/Hide data repr'><svg class='icon xr-icon-database'><use xlink:href='#icon-database'></use></svg></label><div class='xr-var-attrs'><dl class='xr-attrs'><dt><span>units :</span></dt><dd>meters</dd></dl></div><pre class='xr-var-data'>[1117920 values with dtype=float32]</pre></li><li class='xr-var-item'><div class='xr-var-name'><span>area</span></div><div class='xr-var-dims'>(ny, nx)</div><div class='xr-var-dtype'>float32</div><div class='xr-var-preview xr-preview'>...</div><input id='attrs-fb08efb0-c2cc-4fb3-aa66-54f8ef59853f' class='xr-var-attrs-in' type='checkbox' ><label for='attrs-fb08efb0-c2cc-4fb3-aa66-54f8ef59853f' title='Show/Hide attributes'><svg class='icon xr-icon-file-text2'><use xlink:href='#icon-file-text2'></use></svg></label><input id='data-9a359aad-4a61-49d5-9fd4-408b08349f5a' class='xr-var-data-in' type='checkbox'><label for='data-9a359aad-4a61-49d5-9fd4-408b08349f5a' title='Show/Hide data repr'><svg class='icon xr-icon-database'><use xlink:href='#icon-database'></use></svg></label><div class='xr-var-attrs'><dl class='xr-attrs'><dt><span>units :</span></dt><dd>meters^2</dd></dl></div><pre class='xr-var-data'>[1116288 values with dtype=float32]</pre></li><li class='xr-var-item'><div class='xr-var-name'><span>angle_dx</span></div><div class='xr-var-dims'>(nyp, nxp)</div><div class='xr-var-dtype'>float32</div><div class='xr-var-preview xr-preview'>...</div><input id='attrs-ddd731bb-74e5-4129-84eb-c8e0862351ee' class='xr-var-attrs-in' type='checkbox' ><label for='attrs-ddd731bb-74e5-4129-84eb-c8e0862351ee' title='Show/Hide attributes'><svg class='icon xr-icon-file-text2'><use xlink:href='#icon-file-text2'></use></svg></label><input id='data-a06e92ca-ca72-4035-8662-4bc98db3c2e6' class='xr-var-data-in' type='checkbox'><label for='data-a06e92ca-ca72-4035-8662-4bc98db3c2e6' title='Show/Hide data repr'><svg class='icon xr-icon-database'><use xlink:href='#icon-database'></use></svg></label><div class='xr-var-attrs'><dl class='xr-attrs'><dt><span>units :</span></dt><dd>radians</dd></dl></div><pre class='xr-var-data'>[1118605 values with dtype=float32]</pre></li><li class='xr-var-item'><div class='xr-var-name'><span>tile</span></div><div class='xr-var-dims'>()</div><div class='xr-var-dtype'>|S5</div><div class='xr-var-preview xr-preview'>...</div><input id='attrs-43786a11-6c2e-4a2b-a95a-4c6267aaa3aa' class='xr-var-attrs-in' type='checkbox' disabled><label for='attrs-43786a11-6c2e-4a2b-a95a-4c6267aaa3aa' title='Show/Hide attributes'><svg class='icon xr-icon-file-text2'><use xlink:href='#icon-file-text2'></use></svg></label><input id='data-a8eaaa0f-e5b5-47b8-93f2-e95ffb7fb1db' class='xr-var-data-in' type='checkbox'><label for='data-a8eaaa0f-e5b5-47b8-93f2-e95ffb7fb1db' title='Show/Hide data repr'><svg class='icon xr-icon-database'><use xlink:href='#icon-database'></use></svg></label><div class='xr-var-attrs'><dl class='xr-attrs'></dl></div><pre class='xr-var-data'>array(b&#x27;tile1&#x27;, dtype=&#x27;|S5&#x27;)</pre></li></ul></div></li><li class='xr-section-item'><input id='section-4478bfde-1f83-40d5-9d3d-12bc79624b2a' class='xr-section-summary-in' type='checkbox'  checked><label for='section-4478bfde-1f83-40d5-9d3d-12bc79624b2a' class='xr-section-summary' >Attributes: <span>(3)</span></label><div class='xr-section-inline-details'></div><div class='xr-section-details'><dl class='xr-attrs'><dt><span>grid_version :</span></dt><dd>0.2</dd><dt><span>code_version :</span></dt><dd>ESMG/PyCNAL: heads/python3-0-gb0204bf2e5-dirty</dd><dt><span>history :</span></dt><dd>2020-06-30: convert_ROMS_grid_to_MOM6.py /import/AKWATERS/kshedstrom/gridpak/NEP7/grid_NEP_7_10k.nc</dd></dl></div></li></ul></div></div>"
      ],
      "text/plain": [
       "<xarray.Dataset>\n",
       "Dimensions:   (nx: 684, nxp: 685, ny: 1632, nyp: 1633)\n",
       "Dimensions without coordinates: nx, nxp, ny, nyp\n",
       "Data variables:\n",
       "    x         (nyp, nxp) float32 ...\n",
       "    y         (nyp, nxp) float32 ...\n",
       "    dx        (nyp, nx) float32 ...\n",
       "    dy        (ny, nxp) float32 ...\n",
       "    area      (ny, nx) float32 ...\n",
       "    angle_dx  (nyp, nxp) float32 ...\n",
       "    tile      |S5 ...\n",
       "Attributes:\n",
       "    grid_version:  0.2\n",
       "    code_version:  ESMG/PyCNAL: heads/python3-0-gb0204bf2e5-dirty\n",
       "    history:       2020-06-30: convert_ROMS_grid_to_MOM6.py /import/AKWATERS/..."
      ]
     },
     "execution_count": 80,
     "metadata": {},
     "output_type": "execute_result"
    }
   ],
   "source": [
    "# read in nep7 parameters\n",
    "import xarray as xr\n",
    "\n",
    "nep7 = xr.open_dataset(\"/Users/james/Documents/Github/esm_lab/gridtools/nep7_grid/ocean_hgrid.nc\")\n",
    "nep7"
   ]
  },
  {
   "cell_type": "code",
   "execution_count": 127,
   "metadata": {},
   "outputs": [
    {
     "data": {
      "text/plain": [
       "(685,)"
      ]
     },
     "execution_count": 127,
     "metadata": {},
     "output_type": "execute_result"
    }
   ],
   "source": [
    "nep7.x.values[-1,:].shape"
   ]
  },
  {
   "cell_type": "code",
   "execution_count": 171,
   "metadata": {},
   "outputs": [],
   "source": [
    "# redefine for nep7 grid\n",
    "\n",
    "PI_180 = np.pi/180.\n",
    "dx = len(nep7.x.values[-1,:])\n",
    "dy = len(nep7.y.values[:,-1])\n",
    "\n",
    "x = np.linspace(np.min(nep7.x), np.max(nep7.x),dx)\n",
    "y = np.linspace(np.min(nep7.y), np.max(nep7.y),dy)\n",
    "R = 6370.e3 # Radius of sphere        \n",
    "lon0 = np.float(np.abs((np.max(nep7.x) + np.min(nep7.x))) / 2)\n",
    "lat0=np.float(np.abs((np.max(nep7.y) - np.min(nep7.y))) / 2)\n",
    "tilt=0\n",
    "refine=1"
   ]
  },
  {
   "cell_type": "code",
   "execution_count": 172,
   "metadata": {},
   "outputs": [],
   "source": [
    "#dx,dy, x,y,lon0,lat0"
   ]
  },
  {
   "cell_type": "markdown",
   "metadata": {},
   "source": [
    "### Make Grid"
   ]
  },
  {
   "cell_type": "code",
   "execution_count": 173,
   "metadata": {},
   "outputs": [
    {
     "data": {
      "text/plain": [
       "array([[356.67523437, 356.49512248, 356.31661809, ...,   3.68399227,\n",
       "          3.50548787,   3.32537598],\n",
       "       [357.35438884, 357.21045134, 357.0676982 , ...,   2.93291215,\n",
       "          2.79015901,   2.64622152],\n",
       "       [357.99702056, 357.88762232, 357.77905534, ...,   2.22155502,\n",
       "          2.11298803,   2.0035898 ],\n",
       "       ...,\n",
       "       [182.13443308, 182.25335034, 182.37176218, ..., 177.62884818,\n",
       "        177.74726002, 177.86617727],\n",
       "       [182.55553763, 182.6981491 , 182.8401931 , ..., 177.16041726,\n",
       "        177.30246125, 177.44507273],\n",
       "       [182.96024794, 183.12569029, 183.29051534, ..., 176.71009501,\n",
       "        176.87492006, 177.04036241]])"
      ]
     },
     "execution_count": 173,
     "metadata": {},
     "output_type": "execute_result"
    }
   ],
   "source": [
    "lonGrid, latGrid = generate_regional_spherical(lon0=lon0, lon_span=dx, lat0=lat0, lat_span=dy, tilt=tilt, refine=refine)\n",
    "lonGrid"
   ]
  },
  {
   "cell_type": "code",
   "execution_count": 174,
   "metadata": {},
   "outputs": [],
   "source": [
    "# redfine values for grid metric computation\n",
    "(nxp, nyp) = lonGrid.shape\n",
    "grid_x= lonGrid\n",
    "grid_y = latGrid"
   ]
  },
  {
   "cell_type": "markdown",
   "metadata": {},
   "source": [
    "### Compute Grid Metrics"
   ]
  },
  {
   "cell_type": "code",
   "execution_count": 175,
   "metadata": {},
   "outputs": [],
   "source": [
    "\n",
    "            \n",
    "# Make a copy of the lon grid as values are changed for computation\n",
    "lon = grid_x.copy()\n",
    "lat = grid_y\n",
    "        \n",
    "        # Approximate edge lengths as great arcs\n",
    "grid_dx  = R * angle_through_center( (lat[ :,1:],lon[ :,1:]), (lat[:  ,:-1],lon[:  ,:-1]) )\n",
    "grid_dy = R * angle_through_center( (lat[1:, :],lon[1:, :]), (lat[:-1,:  ],lon[:-1,:  ]) )\n",
    "\n",
    "# Scaling by latitude?\n",
    "cos_lat = np.cos(np.radians(lat))\n",
    "\n",
    "# Presize the angle_dx array\n",
    "angle_dx = np.zeros(lat.shape)\n",
    "# Fix lon so they are 0 to 360 for computation of angle_dx\n",
    "lon = np.where(lon < 0., lon+360, lon)\n",
    "angle_dx[:,1:-1] = np.arctan2( (lat[:,2:] - lat[:,:-2]) , ((lon[:,2:] - lon[:,:-2]) * cos_lat[:,1:-1]) )\n",
    "angle_dx[:, 0  ] = np.arctan2( (lat[:, 1] - lat[:, 0 ]) , ((lon[:, 1] - lon[:, 0 ]) * cos_lat[:, 0  ]) )\n",
    "angle_dx[:,-1  ] = np.arctan2( (lat[:,-1] - lat[:,-2 ]) , ((lon[:,-1] - lon[:,-2 ]) * cos_lat[:,-1  ]) )\n",
    "\n",
    "\n",
    "area = R * R * quad_area(lat, lon)\n"
   ]
  },
  {
   "cell_type": "code",
   "execution_count": 180,
   "metadata": {},
   "outputs": [
    {
     "data": {
      "text/plain": [
       "(1633,)"
      ]
     },
     "execution_count": 180,
     "metadata": {},
     "output_type": "execute_result"
    }
   ],
   "source": [
    "lat[:,-1].shape"
   ]
  },
  {
   "cell_type": "markdown",
   "metadata": {},
   "source": [
    "### Validate"
   ]
  },
  {
   "cell_type": "code",
   "execution_count": 153,
   "metadata": {},
   "outputs": [
    {
     "data": {
      "text/plain": [
       "(1632, 684)"
      ]
     },
     "execution_count": 153,
     "metadata": {},
     "output_type": "execute_result"
    }
   ],
   "source": [
    "# area has an extra value, hence the -1\n",
    "area[:,:-1].shape"
   ]
  },
  {
   "cell_type": "code",
   "execution_count": 147,
   "metadata": {},
   "outputs": [
    {
     "data": {
      "text/plain": [
       "(1632, 684)"
      ]
     },
     "execution_count": 147,
     "metadata": {},
     "output_type": "execute_result"
    }
   ],
   "source": [
    "nep7.area.shape"
   ]
  },
  {
   "cell_type": "code",
   "execution_count": 148,
   "metadata": {},
   "outputs": [
    {
     "data": {
      "text/plain": [
       "array([[1.07721477e+09, 1.07721477e+09, 1.07721477e+09, ...,\n",
       "        1.07721477e+09, 1.07721477e+09, 1.07721477e+09],\n",
       "       [8.62165659e+08, 8.62165659e+08, 8.62165659e+08, ...,\n",
       "        8.62165659e+08, 8.62165659e+08, 8.62165659e+08],\n",
       "       [6.46854040e+08, 6.46854040e+08, 6.46854040e+08, ...,\n",
       "        6.46854040e+08, 6.46854040e+08, 6.46854040e+08],\n",
       "       ...,\n",
       "       [8.62165659e+08, 8.62165659e+08, 8.62165659e+08, ...,\n",
       "        8.62165659e+08, 8.62165659e+08, 8.62165659e+08],\n",
       "       [1.07721477e+09, 1.07721477e+09, 1.07721477e+09, ...,\n",
       "        1.07721477e+09, 1.07721477e+09, 1.07721477e+09],\n",
       "       [1.29193590e+09, 1.29193590e+09, 1.29193590e+09, ...,\n",
       "        1.29193590e+09, 1.29193590e+09, 1.29193590e+09]])"
      ]
     },
     "execution_count": 148,
     "metadata": {},
     "output_type": "execute_result"
    }
   ],
   "source": [
    "area"
   ]
  },
  {
   "cell_type": "code",
   "execution_count": 150,
   "metadata": {},
   "outputs": [
    {
     "data": {
      "text/plain": [
       "array([[16991296., 16997952., 17004604., ..., 20201348., 20203766.,\n",
       "        20206176.],\n",
       "       [17002518., 17009178., 17015834., ..., 20213982., 20216400.,\n",
       "        20218810.],\n",
       "       [17013740., 17020404., 17027064., ..., 20226610., 20229028.,\n",
       "        20231440.],\n",
       "       ...,\n",
       "       [25758958., 25757898., 25756804., ..., 16411003., 16383695.,\n",
       "        16356341.],\n",
       "       [25758890., 25757826., 25756730., ..., 16405458., 16378123.,\n",
       "        16350743.],\n",
       "       [25758822., 25757756., 25756658., ..., 16399991., 16372631.,\n",
       "        16345226.]], dtype=float32)"
      ]
     },
     "execution_count": 150,
     "metadata": {},
     "output_type": "execute_result"
    }
   ],
   "source": [
    "nep7.area.values"
   ]
  },
  {
   "cell_type": "code",
   "execution_count": 158,
   "metadata": {},
   "outputs": [
    {
     "data": {
      "text/plain": [
       "16345226.0"
      ]
     },
     "execution_count": 158,
     "metadata": {},
     "output_type": "execute_result"
    }
   ],
   "source": [
    "np.min(nep7.area.values)"
   ]
  },
  {
   "cell_type": "code",
   "execution_count": 159,
   "metadata": {},
   "outputs": [
    {
     "data": {
      "text/plain": [
       "-1416347081038.435"
      ]
     },
     "execution_count": 159,
     "metadata": {},
     "output_type": "execute_result"
    }
   ],
   "source": [
    "np.min(area)"
   ]
  },
  {
   "cell_type": "markdown",
   "metadata": {},
   "source": [
    "# Testing Area\n"
   ]
  },
  {
   "cell_type": "markdown",
   "metadata": {},
   "source": [
    "### Shapely & Proj"
   ]
  },
  {
   "cell_type": "markdown",
   "metadata": {},
   "source": [
    "First stab here is using shapely to calculat the area of a polygon. We would need to alculate the cell corners and then provide the polygon info for this to work. It would likely be too time consuming. To calculate the corners that we need, however, we can use xgcm interp - https://xgcm.readthedocs.io/en/latest/grids.html\n"
   ]
  },
  {
   "cell_type": "code",
   "execution_count": 162,
   "metadata": {},
   "outputs": [
    {
     "data": {
      "text/plain": [
       "268952044107.43457"
      ]
     },
     "execution_count": 162,
     "metadata": {},
     "output_type": "execute_result"
    }
   ],
   "source": [
    "co = {\"type\": \"Polygon\", \"coordinates\": [\n",
    "    [(-102.05, 41.0),\n",
    "     (-102.05, 37.0),\n",
    "     (-109.05, 37.0),\n",
    "     (-109.05, 41.0)]]}\n",
    "lon, lat = zip(*co['coordinates'][0])\n",
    "from pyproj import Proj\n",
    "pa = Proj(\"+proj=aea +lat_1=37.0 +lat_2=41.0 +lat_0=39.0 +lon_0=-106.55\")\n",
    "\n",
    "x, y = pa(lon, lat)\n",
    "cop = {\"type\": \"Polygon\", \"coordinates\": [zip(x, y)]}\n",
    "from shapely.geometry import shape\n",
    "shape(cop).area  # 268952044107.43506\n",
    "\n"
   ]
  },
  {
   "cell_type": "code",
   "execution_count": 186,
   "metadata": {},
   "outputs": [
    {
     "ename": "ValueError",
     "evalue": "too many values to unpack (expected 2)",
     "output_type": "error",
     "traceback": [
      "\u001b[0;31m---------------------------------------------------------------------------\u001b[0m",
      "\u001b[0;31mValueError\u001b[0m                                Traceback (most recent call last)",
      "\u001b[0;32m<ipython-input-186-9bbb071dc21f>\u001b[0m in \u001b[0;36m<module>\u001b[0;34m\u001b[0m\n\u001b[1;32m      1\u001b[0m \u001b[0mco\u001b[0m \u001b[0;34m=\u001b[0m \u001b[0;34m{\u001b[0m\u001b[0;34m\"type\"\u001b[0m\u001b[0;34m:\u001b[0m \u001b[0;34m\"Polygon\"\u001b[0m\u001b[0;34m,\u001b[0m \u001b[0;34m\"coordinates\"\u001b[0m\u001b[0;34m:\u001b[0m \u001b[0;34m[\u001b[0m\u001b[0mlonGrid\u001b[0m\u001b[0;34m]\u001b[0m\u001b[0;34m}\u001b[0m\u001b[0;34m\u001b[0m\u001b[0;34m\u001b[0m\u001b[0m\n\u001b[1;32m      2\u001b[0m \u001b[0;34m\u001b[0m\u001b[0m\n\u001b[0;32m----> 3\u001b[0;31m \u001b[0mlon\u001b[0m\u001b[0;34m,\u001b[0m \u001b[0mlat\u001b[0m \u001b[0;34m=\u001b[0m \u001b[0mzip\u001b[0m\u001b[0;34m(\u001b[0m\u001b[0mco\u001b[0m\u001b[0;34m[\u001b[0m\u001b[0;34m'coordinates'\u001b[0m\u001b[0;34m]\u001b[0m\u001b[0;34m[\u001b[0m\u001b[0;36m0\u001b[0m\u001b[0;34m]\u001b[0m\u001b[0;34m)\u001b[0m\u001b[0;34m\u001b[0m\u001b[0;34m\u001b[0m\u001b[0m\n\u001b[0m\u001b[1;32m      4\u001b[0m \u001b[0;32mfrom\u001b[0m \u001b[0mpyproj\u001b[0m \u001b[0;32mimport\u001b[0m \u001b[0mProj\u001b[0m\u001b[0;34m\u001b[0m\u001b[0;34m\u001b[0m\u001b[0m\n\u001b[1;32m      5\u001b[0m \u001b[0;31m# = longitude of 91 W, standard latitudes of 40 and 60 N\u001b[0m\u001b[0;34m\u001b[0m\u001b[0;34m\u001b[0m\u001b[0;34m\u001b[0m\u001b[0m\n",
      "\u001b[0;31mValueError\u001b[0m: too many values to unpack (expected 2)"
     ]
    }
   ],
   "source": [
    "co = {\"type\": \"Polygon\", \"coordinates\": [lonGrid]}\n",
    "\n",
    "lon, lat = zip(co['coordinates'][0])\n",
    "from pyproj import Proj\n",
    "# = longitude of 91 W, standard latitudes of 40 and 60 N\n",
    "pa = Proj(\"+proj=lcc +lon_0=-91 +lat_1=40 +lat_2=60\")\n",
    "x, y = pa(lon, lat)\n",
    "cop = {\"type\": \"Polygon\", \"coordinates\": [zip(x, y)]}\n",
    "from shapely.geometry import shape\n",
    "shape(cop).area"
   ]
  },
  {
   "cell_type": "code",
   "execution_count": 185,
   "metadata": {},
   "outputs": [
    {
     "data": {
      "text/plain": [
       "array([[356.67523437, 356.49512248, 356.31661809, ...,   3.68399227,\n",
       "          3.50548787,   3.32537598],\n",
       "       [357.35438884, 357.21045134, 357.0676982 , ...,   2.93291215,\n",
       "          2.79015901,   2.64622152],\n",
       "       [357.99702056, 357.88762232, 357.77905534, ...,   2.22155502,\n",
       "          2.11298803,   2.0035898 ],\n",
       "       ...,\n",
       "       [182.13443308, 182.25335034, 182.37176218, ..., 177.62884818,\n",
       "        177.74726002, 177.86617727],\n",
       "       [182.55553763, 182.6981491 , 182.8401931 , ..., 177.16041726,\n",
       "        177.30246125, 177.44507273],\n",
       "       [182.96024794, 183.12569029, 183.29051534, ..., 176.71009501,\n",
       "        176.87492006, 177.04036241]])"
      ]
     },
     "execution_count": 185,
     "metadata": {},
     "output_type": "execute_result"
    }
   ],
   "source": []
  },
  {
   "cell_type": "markdown",
   "metadata": {},
   "source": [
    "# NOAA mail list"
   ]
  },
  {
   "cell_type": "markdown",
   "metadata": {},
   "source": [
    "We started with the formula for the area of the earth between a line of latitude and the north pole (the area of a spherical cap, listed in the Dr. Math FAQ on Geometric Formulas).\n",
    "\n",
    "A = 2*pi*R*h\n",
    "\n",
    "where R is the radius of the earth and h is the perpendicular distance from the plane containing the line of latitude to the pole. We can calculate h using trigonometry as\n",
    "\n",
    "h = R*(1-sin(lat))\n",
    "\n",
    "Thus the area north of a line of latitude is\n",
    "\n",
    "A = 2*pi*R^2(1-sin(lat))\n",
    "\n",
    "The area between two lines of latitude is the difference between the area north of one latitude and the area north of the other latitude:\n",
    "\n",
    "A = |2*pi*R^2(1-sin(lat2)) - 2*pi*R^2(1-sin(lat1))|\n",
    "= 2*pi*R^2 |sin(lat1) - sin(lat2)|\n",
    "\n",
    "The area of a lat-long rectangle is proportional to the difference in the longitudes. The area I just calculated is the area between longitude lines differing by 360 degrees. Therefore the area we seek is\n",
    "\n",
    "A = 2*pi*R^2 |sin(lat1)-sin(lat2)| |lon1-lon2|/360\n",
    "= (pi/180)R^2 |sin(lat1)-sin(lat2)| |lon1-lon2|\n",
    "\n",
    "\n",
    "\n",
    "### What it means\n",
    "If we use corners with this calculation instead of cell center, we can likely calculate the area with this equation. Thus, an avenue to try here would be calculate the corners with xgcm interp, use the longitude corners as the edge values and the latitude interpolation as the north/south edge values and calculate hte area with teh initial lat/lon as center point?"
   ]
  },
  {
   "cell_type": "markdown",
   "metadata": {},
   "source": [
    "# Pyproj & Shapely\n",
    "\n",
    "Go from rectangular grid to projected grid"
   ]
  },
  {
   "cell_type": "code",
   "execution_count": 192,
   "metadata": {},
   "outputs": [
    {
     "data": {
      "text/plain": [
       "(1633, 686)"
      ]
     },
     "execution_count": 192,
     "metadata": {},
     "output_type": "execute_result"
    }
   ],
   "source": [
    "lonGrid.shape"
   ]
  },
  {
   "cell_type": "code",
   "execution_count": 194,
   "metadata": {},
   "outputs": [],
   "source": [
    "import pyproj\n",
    "p = pyproj.Proj(\"+proj=lcc +lon_0=-91 +lat_1=40 +lat_2=60\")\n",
    "lon, lat = p(lonGrid,latGrid, inverse=True)\n"
   ]
  },
  {
   "cell_type": "code",
   "execution_count": 199,
   "metadata": {},
   "outputs": [
    {
     "data": {
      "text/plain": [
       "-90.99999994894988"
      ]
     },
     "execution_count": 199,
     "metadata": {},
     "output_type": "execute_result"
    }
   ],
   "source": [
    "np.min(lon)"
   ]
  },
  {
   "cell_type": "markdown",
   "metadata": {},
   "source": [
    "# Just use rioxarray!\n",
    "\n",
    "Just as long as it will play nicely, we can use rioxarray to reproject lat/lons"
   ]
  },
  {
   "cell_type": "code",
   "execution_count": 200,
   "metadata": {},
   "outputs": [
    {
     "ename": "ImportError",
     "evalue": "dlopen(/Users/james/opt/anaconda3/envs/holo37/lib/python3.7/site-packages/rasterio/_base.cpython-37m-darwin.so, 2): Library not loaded: @rpath/libpoppler.76.dylib\n  Referenced from: /Users/james/opt/anaconda3/envs/holo37/lib/libgdal.26.dylib\n  Reason: image not found",
     "output_type": "error",
     "traceback": [
      "\u001b[0;31m---------------------------------------------------------------------------\u001b[0m",
      "\u001b[0;31mImportError\u001b[0m                               Traceback (most recent call last)",
      "\u001b[0;32m<ipython-input-200-46c4904b4a80>\u001b[0m in \u001b[0;36m<module>\u001b[0;34m\u001b[0m\n\u001b[0;32m----> 1\u001b[0;31m \u001b[0;32mimport\u001b[0m \u001b[0mrioxarray\u001b[0m\u001b[0;34m\u001b[0m\u001b[0;34m\u001b[0m\u001b[0m\n\u001b[0m",
      "\u001b[0;32m~/opt/anaconda3/envs/holo37/lib/python3.7/site-packages/rioxarray/__init__.py\u001b[0m in \u001b[0;36m<module>\u001b[0;34m\u001b[0m\n\u001b[1;32m      6\u001b[0m \u001b[0m__email__\u001b[0m \u001b[0;34m=\u001b[0m \u001b[0;34m\"alansnow21@gmail.com\"\u001b[0m\u001b[0;34m\u001b[0m\u001b[0;34m\u001b[0m\u001b[0m\n\u001b[1;32m      7\u001b[0m \u001b[0;34m\u001b[0m\u001b[0m\n\u001b[0;32m----> 8\u001b[0;31m \u001b[0;32mimport\u001b[0m \u001b[0mrioxarray\u001b[0m\u001b[0;34m.\u001b[0m\u001b[0mrioxarray\u001b[0m  \u001b[0;31m# noqa\u001b[0m\u001b[0;34m\u001b[0m\u001b[0;34m\u001b[0m\u001b[0m\n\u001b[0m\u001b[1;32m      9\u001b[0m \u001b[0;32mfrom\u001b[0m \u001b[0mrioxarray\u001b[0m\u001b[0;34m.\u001b[0m\u001b[0m_show_versions\u001b[0m \u001b[0;32mimport\u001b[0m \u001b[0mshow_versions\u001b[0m  \u001b[0;31m# noqa\u001b[0m\u001b[0;34m\u001b[0m\u001b[0;34m\u001b[0m\u001b[0m\n\u001b[1;32m     10\u001b[0m \u001b[0;32mfrom\u001b[0m \u001b[0mrioxarray\u001b[0m\u001b[0;34m.\u001b[0m\u001b[0m_version\u001b[0m \u001b[0;32mimport\u001b[0m \u001b[0m__version__\u001b[0m  \u001b[0;31m# noqa\u001b[0m\u001b[0;34m\u001b[0m\u001b[0;34m\u001b[0m\u001b[0m\n",
      "\u001b[0;32m~/opt/anaconda3/envs/holo37/lib/python3.7/site-packages/rioxarray/rioxarray.py\u001b[0m in \u001b[0;36m<module>\u001b[0;34m\u001b[0m\n\u001b[1;32m     18\u001b[0m \u001b[0;32mimport\u001b[0m \u001b[0mnumpy\u001b[0m \u001b[0;32mas\u001b[0m \u001b[0mnp\u001b[0m\u001b[0;34m\u001b[0m\u001b[0;34m\u001b[0m\u001b[0m\n\u001b[1;32m     19\u001b[0m \u001b[0;32mimport\u001b[0m \u001b[0mpyproj\u001b[0m\u001b[0;34m\u001b[0m\u001b[0;34m\u001b[0m\u001b[0m\n\u001b[0;32m---> 20\u001b[0;31m \u001b[0;32mimport\u001b[0m \u001b[0mrasterio\u001b[0m\u001b[0;34m.\u001b[0m\u001b[0mwarp\u001b[0m\u001b[0;34m\u001b[0m\u001b[0;34m\u001b[0m\u001b[0m\n\u001b[0m\u001b[1;32m     21\u001b[0m \u001b[0;32mimport\u001b[0m \u001b[0mrasterio\u001b[0m\u001b[0;34m.\u001b[0m\u001b[0mwindows\u001b[0m\u001b[0;34m\u001b[0m\u001b[0;34m\u001b[0m\u001b[0m\n\u001b[1;32m     22\u001b[0m \u001b[0;32mimport\u001b[0m \u001b[0mxarray\u001b[0m\u001b[0;34m\u001b[0m\u001b[0;34m\u001b[0m\u001b[0m\n",
      "\u001b[0;32m~/opt/anaconda3/envs/holo37/lib/python3.7/site-packages/rasterio/__init__.py\u001b[0m in \u001b[0;36m<module>\u001b[0;34m\u001b[0m\n\u001b[1;32m     20\u001b[0m             \u001b[0;32mpass\u001b[0m\u001b[0;34m\u001b[0m\u001b[0;34m\u001b[0m\u001b[0m\n\u001b[1;32m     21\u001b[0m \u001b[0;34m\u001b[0m\u001b[0m\n\u001b[0;32m---> 22\u001b[0;31m \u001b[0;32mfrom\u001b[0m \u001b[0mrasterio\u001b[0m\u001b[0;34m.\u001b[0m\u001b[0m_base\u001b[0m \u001b[0;32mimport\u001b[0m \u001b[0mgdal_version\u001b[0m\u001b[0;34m\u001b[0m\u001b[0;34m\u001b[0m\u001b[0m\n\u001b[0m\u001b[1;32m     23\u001b[0m \u001b[0;32mfrom\u001b[0m \u001b[0mrasterio\u001b[0m\u001b[0;34m.\u001b[0m\u001b[0mdrivers\u001b[0m \u001b[0;32mimport\u001b[0m \u001b[0mis_blacklisted\u001b[0m\u001b[0;34m\u001b[0m\u001b[0;34m\u001b[0m\u001b[0m\n\u001b[1;32m     24\u001b[0m from rasterio.dtypes import (\n",
      "\u001b[0;31mImportError\u001b[0m: dlopen(/Users/james/opt/anaconda3/envs/holo37/lib/python3.7/site-packages/rasterio/_base.cpython-37m-darwin.so, 2): Library not loaded: @rpath/libpoppler.76.dylib\n  Referenced from: /Users/james/opt/anaconda3/envs/holo37/lib/libgdal.26.dylib\n  Reason: image not found"
     ]
    }
   ],
   "source": [
    "import rioxarray"
   ]
  },
  {
   "cell_type": "code",
   "execution_count": null,
   "metadata": {},
   "outputs": [],
   "source": []
  }
 ],
 "metadata": {
  "kernelspec": {
   "display_name": "Python 3",
   "language": "python",
   "name": "python3"
  },
  "language_info": {
   "codemirror_mode": {
    "name": "ipython",
    "version": 3
   },
   "file_extension": ".py",
   "mimetype": "text/x-python",
   "name": "python",
   "nbconvert_exporter": "python",
   "pygments_lexer": "ipython3",
   "version": "3.7.7"
  }
 },
 "nbformat": 4,
 "nbformat_minor": 4
}
