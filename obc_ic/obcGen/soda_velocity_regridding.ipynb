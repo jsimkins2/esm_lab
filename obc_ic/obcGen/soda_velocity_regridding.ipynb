{
 "cells": [
  {
   "cell_type": "code",
   "execution_count": 3,
   "id": "5447eb7c-894f-4744-9698-d8aaeb414d97",
   "metadata": {},
   "outputs": [],
   "source": [
    "import matplotlib.pyplot as plt\n",
    "import numpy as np\n",
    "import xarray\n",
    "import xesmf\n",
    "\n",
    "sodafile = '/Users/james/Downloads/soda3.12.2_5dy_ocean_reg_1993_01_04.nc'\n",
    "soda = xarray.open_dataset(sodafile)\n",
    "\n",
    "hgrid_file = '/Users/james/Downloads/nwa_ocean_hgrid.nc'\n"
   ]
  },
  {
   "cell_type": "markdown",
   "id": "633f1fac-b09a-4087-b715-74aa2b36f123",
   "metadata": {},
   "source": [
    "# write_soda_boundary_demo.py / boundary.py"
   ]
  },
  {
   "cell_type": "code",
   "execution_count": 4,
   "id": "82514eb3-f1ce-46f2-a28e-9f186d279f1b",
   "metadata": {},
   "outputs": [],
   "source": [
    "hgrid = xarray.open_dataset(hgrid_file)\n",
    "\n",
    "\n",
    "soda_u = (\n",
    "    soda[['u', 'v', 'yu_ocean', 'xu_ocean', 'st_ocean']]\n",
    "    .rename({'yu_ocean': 'lat', 'xu_ocean': 'lon', 'st_ocean': 'z'})\n",
    ")\n",
    "\n",
    "coords = xarray.Dataset({\n",
    "    'lon': hgrid['x'].isel(nyp=0),\n",
    "    'lat': hgrid['y'].isel(nyp=0),\n",
    "    'angle': hgrid['angle_dx'].isel(nyp=0)\n",
    "})"
   ]
  },
  {
   "cell_type": "code",
   "execution_count": 10,
   "id": "18f20e9a-35a2-4251-8a5a-ff39f7b216a7",
   "metadata": {},
   "outputs": [
    {
     "name": "stderr",
     "output_type": "stream",
     "text": [
      "/Users/james/opt/anaconda3/envs/gridTools/lib/python3.9/site-packages/xarray/core/dataarray.py:745: FutureWarning: elementwise comparison failed; returning scalar instead, but in the future will perform elementwise comparison\n",
      "  return key in self.data\n"
     ]
    }
   ],
   "source": [
    "usource = soda_u['u']\n",
    "vsource = soda_u['v']\n",
    "method = 'nearest_s2d'\n",
    "periodic = False\n",
    "\n",
    "uregrid = xesmf.Regridder(\n",
    "    usource,\n",
    "    coords,\n",
    "    method=method,\n",
    "    locstream_out=True,\n",
    "    periodic=periodic,\n",
    "    filename='regrid_001_u.nc',\n",
    "    reuse_weights=False\n",
    ")\n",
    "vregrid = xesmf.Regridder(\n",
    "    vsource,\n",
    "    coords,\n",
    "    method=method,\n",
    "    locstream_out=True,\n",
    "    periodic=periodic,\n",
    "    filename='regrid_001_v.nc',\n",
    "    reuse_weights=False\n",
    ")"
   ]
  },
  {
   "cell_type": "code",
   "execution_count": 11,
   "id": "8901ef4d-4528-4bcc-8c25-299cdd256b71",
   "metadata": {},
   "outputs": [
    {
     "name": "stderr",
     "output_type": "stream",
     "text": [
      "/Users/james/opt/anaconda3/envs/gridTools/lib/python3.9/site-packages/xesmf/frontend.py:466: FutureWarning: ``output_sizes`` should be given in the ``dask_gufunc_kwargs`` parameter. It will be removed as direct parameter in a future version.\n",
      "  dr_out = xr.apply_ufunc(\n"
     ]
    }
   ],
   "source": [
    "udest = uregrid(usource)\n",
    "vdest = vregrid(vsource)"
   ]
  },
  {
   "cell_type": "code",
   "execution_count": 12,
   "id": "f27b8a93-888d-4381-9674-97b07df81620",
   "metadata": {},
   "outputs": [],
   "source": [
    "angle = coords['angle']#.rename({'nxp': 'locations'})"
   ]
  },
  {
   "cell_type": "code",
   "execution_count": 13,
   "id": "204da2e4-d05a-411b-94b9-9fba9a6a33a0",
   "metadata": {},
   "outputs": [],
   "source": [
    "urot = np.cos(angle) * udest + np.sin(angle) * vdest\n",
    "vrot = -np.sin(angle) * udest + np.cos(angle) * vdest"
   ]
  },
  {
   "cell_type": "code",
   "execution_count": 15,
   "id": "23110d6d-bc4c-46c1-83a9-4a826ce54d65",
   "metadata": {},
   "outputs": [],
   "source": [
    "ds_uv = xarray.Dataset({\n",
    "    f'u_segment_001': urot,\n",
    "    f'v_segment_001': vrot\n",
    "})\n",
    "\n",
    "ds_uv = ds_uv.rename_dims({'nxp': 'locations'})"
   ]
  },
  {
   "cell_type": "code",
   "execution_count": 16,
   "id": "ac7cfdfb-3c97-47ff-a512-ab6b4d6abcd3",
   "metadata": {},
   "outputs": [],
   "source": [
    "filled = ds_uv.ffill(dim='locations', limit=None)\n",
    "filled = filled.ffill(dim='z', limit=None).fillna(0)\n",
    "filled = filled.transpose('time', 'z', 'locations')"
   ]
  },
  {
   "cell_type": "code",
   "execution_count": 17,
   "id": "55aaebf2-705a-4420-94a2-34b06220773d",
   "metadata": {},
   "outputs": [],
   "source": [
    "filled['z'] = np.arange(len(filled['z']))"
   ]
  },
  {
   "cell_type": "code",
   "execution_count": 18,
   "id": "56cf85f7-51a6-42ae-b95b-ab935732f1d7",
   "metadata": {},
   "outputs": [
    {
     "data": {
      "text/plain": [
       "<matplotlib.collections.QuadMesh at 0x15e990eb0>"
      ]
     },
     "execution_count": 18,
     "metadata": {},
     "output_type": "execute_result"
    },
    {
     "data": {
      "image/png": "[encoded data removed]",
      "text/plain": [
       "<Figure size 432x288 with 2 Axes>"
      ]
     },
     "metadata": {
      "needs_background": "light"
     },
     "output_type": "display_data"
    }
   ],
   "source": [
    "filled['u_segment_001'].isel(time=0).plot(vmin=-.35, vmax=.35, cmap='bwr')"
   ]
  },
  {
   "cell_type": "code",
   "execution_count": null,
   "id": "33b042e2-ce83-493b-9a61-888112e27cb9",
   "metadata": {},
   "outputs": [],
   "source": []
  },
  {
   "cell_type": "code",
   "execution_count": 5,
   "id": "1ec36c4b-589b-4bf5-98c6-80af6353114b",
   "metadata": {},
   "outputs": [],
   "source": [
    "import xarray as xr"
   ]
  },
  {
   "cell_type": "code",
   "execution_count": 6,
   "id": "9be2ba66-0bdf-4664-8624-b70b5dec1fb7",
   "metadata": {},
   "outputs": [],
   "source": [
    "def open_grid(path,decode_times=False):\n",
    "    \"\"\"Return a grid object containing staggered grid locations\"\"\"\n",
    "    grid={}\n",
    "    grid['ds']=xr.open_dataset(path,decode_times=False)\n",
    "    grid['ds']=grid['ds'].drop_dims(['ny','nx'])\n",
    "    grid['ds']=grid['ds'].drop_vars(['tile'])\n",
    "    \n",
    "    # ! added conversion of angle to degrees\n",
    "    grid['ds']['angle_dx'] = np.degrees(grid['ds']['angle_dx'])\n",
    "    \n",
    "    grid['nyp']=grid['ds'].nyp.data[-1]+1\n",
    "    grid['nxp']=grid['ds'].nxp.data[-1]+1\n",
    "    nxp=grid['nxp'];nyp=grid['nyp']\n",
    "    grid['h'] = grid['ds'].isel(nxp=slice(1,nxp+1,2),nyp=slice(1,nyp+1,2))\n",
    "    #The q grid is not symmetric, but Cu and Cv are\n",
    "    grid['q'] = grid['ds'].isel(nxp=slice(2,nxp+1,2),nyp=slice(2,nyp+1,2))\n",
    "    grid['Cu'] = grid['ds'].isel(nxp=slice(0,nxp+1,2),nyp=slice(1,nyp+1,2))\n",
    "    grid['Cv'] = grid['ds'].isel(nxp=slice(1,nxp+1,2),nyp=slice(0,nyp+1,2))\n",
    "    return grid\n",
    "\n",
    "regional_grid = open_grid(hgrid_file)"
   ]
  },
  {
   "cell_type": "code",
   "execution_count": 7,
   "id": "cecf1330-492d-49b7-a9e8-bea25aae30f3",
   "metadata": {},
   "outputs": [],
   "source": [
    "ds_regional=regional_grid['ds']\n",
    "south = xr.Dataset()\n",
    "south['lon'] = ds_regional['x'].isel(nyp=0)\n",
    "south['lat'] = ds_regional['y'].isel(nyp=0)\n",
    "\n",
    "regrid_south_uv = xesmf.Regridder(soda_u[['u', 'v']], south, 'nearest_s2d', \n",
    "    locstream_out=True, periodic=False, filename='regrid_south_uv.nc',reuse_weights=False)"
   ]
  },
  {
   "cell_type": "code",
   "execution_count": 8,
   "id": "e51398bd-2ba4-47f5-9c84-628936a5a19d",
   "metadata": {},
   "outputs": [
    {
     "name": "stderr",
     "output_type": "stream",
     "text": [
      "/Users/james/opt/anaconda3/envs/gridTools/lib/python3.9/site-packages/xesmf/frontend.py:466: FutureWarning: ``output_sizes`` should be given in the ``dask_gufunc_kwargs`` parameter. It will be removed as direct parameter in a future version.\n",
      "  dr_out = xr.apply_ufunc(\n"
     ]
    }
   ],
   "source": [
    "u_south_r = regrid_south_uv(soda_u['u']).rename({'z': 'z_l'})\n",
    "v_south_r = regrid_south_uv(soda_u['v']).rename({'z': 'z_l'})"
   ]
  },
  {
   "cell_type": "code",
   "execution_count": 9,
   "id": "3838697d-c3bf-43d9-883a-e8d17c994466",
   "metadata": {},
   "outputs": [],
   "source": [
    "def apply_rotation_transpose(ue,vn,angle_dx,time_slice=slice(0)):\n",
    "    \"\"\"Rotate from easterly coordinates to model space\"\"\"\n",
    "    deg_rad=np.pi/180.\n",
    "    \n",
    "    if time_slice is not None:\n",
    "        t=ue.time.isel(time=time_slice)\n",
    "    else:\n",
    "        t=ue.time\n",
    "\n",
    "    if time_slice is not None:\n",
    "        u=np.cos(angle_dx.data*deg_rad)*ue.isel(time=time_slice).data+np.sin(angle_dx.data*deg_rad)*vn.isel(time=time_slice).data\n",
    "        v=-np.sin(angle_dx.data*deg_rad)*ue.isel(time=time_slice).data+np.cos(angle_dx.data*deg_rad)*vn.isel(time=time_slice).data\n",
    "    else:\n",
    "        u=np.cos(angle_dx.data*deg_rad)*ue.data+np.sin(angle_dx.data*deg_rad)*vn.data\n",
    "        v=-np.sin(angle_dx.data*deg_rad)*ue.data+np.cos(angle_dx.data*deg_rad)*vn.data\n",
    "    nyp=u.shape[2]\n",
    "      \n",
    "    u=xr.DataArray(u,coords={'i':np.arange(1,nyp+1),'time':t,'z_l':ue.z_l},dims=('time','z_l','i'))\n",
    "    v=xr.DataArray(v,coords={'i':np.arange(1,nyp+1),'time':t,'z_l':ue.z_l},dims=('time','z_l','i'))\n",
    "\n",
    "    return u,v\n",
    "\n",
    "u_south,v_south=apply_rotation_transpose(u_south_r,v_south_r,ds_regional.angle_dx.isel(nyp=ds_regional.nyp[0]),time_slice=None)"
   ]
  },
  {
   "cell_type": "code",
   "execution_count": 11,
   "id": "f94eb80e-50a5-4133-9974-9b0ab6d0de5e",
   "metadata": {},
   "outputs": [
    {
     "data": {
      "text/plain": [
       "array([ 0,  1,  2,  3,  4,  5,  6,  7,  8,  9, 10, 11, 12, 13, 14, 15, 16,\n",
       "       17, 18, 19, 20, 21, 22, 23, 24, 25, 26, 27, 28, 29, 30, 31, 32, 33,\n",
       "       34, 35, 36, 37, 38, 39, 40, 41, 42, 43, 44, 45, 46, 47, 48, 49])"
      ]
     },
     "execution_count": 11,
     "metadata": {},
     "output_type": "execute_result"
    }
   ],
   "source": [
    "np.arange(len(u_south['z_l']))"
   ]
  },
  {
   "cell_type": "code",
   "execution_count": 28,
   "id": "1db3080b-d37d-4713-8d14-ae1296c91204",
   "metadata": {},
   "outputs": [],
   "source": [
    "u_south['z_l'] = np.arange(len(u_south['z_l']))\n",
    "da_u=xr.DataArray(u_south.ffill(dim='i',limit=None).ffill(dim='z_l').fillna(0.))"
   ]
  },
  {
   "cell_type": "code",
   "execution_count": 29,
   "id": "d16c981c-c1b5-4991-8728-06db126647b3",
   "metadata": {},
   "outputs": [
    {
     "data": {
      "text/plain": [
       "<matplotlib.collections.QuadMesh at 0x15f38a970>"
      ]
     },
     "execution_count": 29,
     "metadata": {},
     "output_type": "execute_result"
    },
    {
     "data": {
      "image/png": "[encoded data removed]",
      "text/plain": [
       "<Figure size 432x288 with 2 Axes>"
      ]
     },
     "metadata": {
      "needs_background": "light"
     },
     "output_type": "display_data"
    }
   ],
   "source": [
    "da_u.isel(time=0).plot(vmin=-.35, vmax=.35, cmap='bwr')"
   ]
  },
  {
   "cell_type": "code",
   "execution_count": 30,
   "id": "94e0e0e0-b934-4365-8d9a-258a36e1f77d",
   "metadata": {},
   "outputs": [
    {
     "data": {
      "text/plain": [
       "<matplotlib.collections.QuadMesh at 0x15f552d60>"
      ]
     },
     "execution_count": 30,
     "metadata": {},
     "output_type": "execute_result"
    },
    {
     "data": {
      "image/png": "[encoded data removed]",
      "text/plain": [
       "<Figure size 432x288 with 2 Axes>"
      ]
     },
     "metadata": {
      "needs_background": "light"
     },
     "output_type": "display_data"
    }
   ],
   "source": [
    "delta = da_u.rename({'z_l': 'z', 'i':'locations'}) - filled['u_segment_001'].isel(time=0)\n",
    "delta.isel(time=0).plot(vmin=-.001, vmax=.001, cmap='RdBu_r')"
   ]
  },
  {
   "cell_type": "code",
   "execution_count": null,
   "id": "e086d294-b329-4c73-b1bd-5cfc645d203b",
   "metadata": {},
   "outputs": [],
   "source": []
  }
 ],
 "metadata": {
  "kernelspec": {
   "display_name": "Python 3",
   "language": "python",
   "name": "python3"
  },
  "language_info": {
   "codemirror_mode": {
    "name": "ipython",
    "version": 3
   },
   "file_extension": ".py",
   "mimetype": "text/x-python",
   "name": "python",
   "nbconvert_exporter": "python",
   "pygments_lexer": "ipython3",
   "version": "3.9.4"
  }
 },
 "nbformat": 4,
 "nbformat_minor": 5
}
